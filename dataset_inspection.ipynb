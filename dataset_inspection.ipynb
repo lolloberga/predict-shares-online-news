{
 "cells": [
  {
   "cell_type": "code",
   "execution_count": 1,
   "metadata": {
    "ExecuteTime": {
     "end_time": "2023-06-03T11:35:55.660360Z",
     "start_time": "2023-06-03T11:35:48.020190Z"
    }
   },
   "outputs": [],
   "source": [
    "import pandas as pd\n",
    "import numpy as np\n",
    "import matplotlib.pyplot as plt"
   ]
  },
  {
   "cell_type": "code",
   "execution_count": 27,
   "metadata": {
    "ExecuteTime": {
     "end_time": "2023-06-03T13:35:01.068355Z",
     "start_time": "2023-06-03T13:35:00.539212Z"
    }
   },
   "outputs": [
    {
     "data": {
      "text/plain": "         id                                                url  timedelta  \\\n0         0  http://mashable.com/2014/09/08/safest-cabbies-...      121.0   \n1         1   http://mashable.com/2013/07/25/3d-printed-rifle/      532.0   \n2         2  http://mashable.com/2013/10/30/digital-dinosau...      435.0   \n3         3  http://mashable.com/2014/08/27/homer-simpson-i...      134.0   \n4         4  http://mashable.com/2013/01/10/creepy-robotic-...      728.0   \n...     ...                                                ...        ...   \n7912  39639             http://mashable.com/2013/05/02/iflask/      616.0   \n7913  39640  http://mashable.com/2013/08/10/internet-securi...      516.0   \n7914  39641  http://mashable.com/2014/12/03/indiegogo-insur...       35.0   \n7915  39642  http://mashable.com/2013/01/22/obama-sings-sex...      716.0   \n7916  39643  http://mashable.com/2013/11/07/space-burial-co...      427.0   \n\n      n_tokens_title  n_tokens_content  n_unique_tokens  n_non_stop_words  \\\n0               12.0            1015.0         0.422018               1.0   \n1                9.0             503.0         0.569697               1.0   \n2                9.0             232.0         0.646018               1.0   \n3               12.0             171.0         0.722892               1.0   \n4               11.0             286.0         0.652632               1.0   \n...              ...               ...              ...               ...   \n7912             8.0             123.0         0.723577               1.0   \n7913            11.0             218.0         0.624390               1.0   \n7914            11.0             172.0         0.666667               1.0   \n7915             7.0              90.0         0.865169               1.0   \n7916            10.0             290.0         0.680702               1.0   \n\n      n_non_stop_unique_tokens  num_hrefs  num_self_hrefs  ...  \\\n0                     0.545031       10.0             6.0  ...   \n1                     0.737542        9.0             0.0  ...   \n2                     0.748428       12.0             3.0  ...   \n3                     0.867925        9.0             5.0  ...   \n4                     0.800000        5.0             2.0  ...   \n...                        ...        ...             ...  ...   \n7912                  0.859155        3.0             0.0  ...   \n7913                  0.716216       14.0             2.0  ...   \n7914                  0.776699        5.0             3.0  ...   \n7915                  0.923077        4.0             3.0  ...   \n7916                  0.790576        9.0             4.0  ...   \n\n      avg_negative_polarity  min_negative_polarity  max_negative_polarity  \\\n0                 -0.160714                -0.5000              -0.071429   \n1                 -0.157500                -0.2500              -0.100000   \n2                 -0.427500                -1.0000              -0.187500   \n3                 -0.216667                -0.2500              -0.166667   \n4                 -0.251786                -0.5000              -0.100000   \n...                     ...                    ...                    ...   \n7912               0.000000                 0.0000               0.000000   \n7913              -0.147917                -0.1875              -0.050000   \n7914              -0.104233                -0.4000              -0.050000   \n7915              -0.200000                -0.2000              -0.200000   \n7916              -0.344444                -0.7000              -0.100000   \n\n      title_subjectivity  title_sentiment_polarity  abs_title_subjectivity  \\\n0               0.000000                     0.000                0.500000   \n1               0.000000                     0.000                0.500000   \n2               0.000000                     0.000                0.500000   \n3               0.400000                    -0.250                0.100000   \n4               0.200000                    -0.100                0.300000   \n...                  ...                       ...                     ...   \n7912            0.000000                     0.000                0.500000   \n7913            0.694444                     0.375                0.194444   \n7914            0.150000                    -0.050                0.350000   \n7915            0.500000                     0.250                0.000000   \n7916            0.000000                     0.000                0.500000   \n\n      abs_title_sentiment_polarity   shares   data_channel    weekday  \n0                            0.000   2900.0            bus    tuesday  \n1                            0.000   1300.0           tech   thursday  \n2                            0.000  17700.0      lifestyle  wednesday  \n3                            0.250   1500.0            bus  wednesday  \n4                            0.100   1400.0           tech   thursday  \n...                            ...      ...            ...        ...  \n7912                         0.000      NaN      lifestyle   thursday  \n7913                         0.375      NaN      lifestyle   saturday  \n7914                         0.050      NaN  entertainment   thursday  \n7915                         0.250      NaN      lifestyle    tuesday  \n7916                         0.000      NaN  entertainment   thursday  \n\n[39632 rows x 50 columns]",
      "text/html": "<div>\n<style scoped>\n    .dataframe tbody tr th:only-of-type {\n        vertical-align: middle;\n    }\n\n    .dataframe tbody tr th {\n        vertical-align: top;\n    }\n\n    .dataframe thead th {\n        text-align: right;\n    }\n</style>\n<table border=\"1\" class=\"dataframe\">\n  <thead>\n    <tr style=\"text-align: right;\">\n      <th></th>\n      <th>id</th>\n      <th>url</th>\n      <th>timedelta</th>\n      <th>n_tokens_title</th>\n      <th>n_tokens_content</th>\n      <th>n_unique_tokens</th>\n      <th>n_non_stop_words</th>\n      <th>n_non_stop_unique_tokens</th>\n      <th>num_hrefs</th>\n      <th>num_self_hrefs</th>\n      <th>...</th>\n      <th>avg_negative_polarity</th>\n      <th>min_negative_polarity</th>\n      <th>max_negative_polarity</th>\n      <th>title_subjectivity</th>\n      <th>title_sentiment_polarity</th>\n      <th>abs_title_subjectivity</th>\n      <th>abs_title_sentiment_polarity</th>\n      <th>shares</th>\n      <th>data_channel</th>\n      <th>weekday</th>\n    </tr>\n  </thead>\n  <tbody>\n    <tr>\n      <th>0</th>\n      <td>0</td>\n      <td>http://mashable.com/2014/09/08/safest-cabbies-...</td>\n      <td>121.0</td>\n      <td>12.0</td>\n      <td>1015.0</td>\n      <td>0.422018</td>\n      <td>1.0</td>\n      <td>0.545031</td>\n      <td>10.0</td>\n      <td>6.0</td>\n      <td>...</td>\n      <td>-0.160714</td>\n      <td>-0.5000</td>\n      <td>-0.071429</td>\n      <td>0.000000</td>\n      <td>0.000</td>\n      <td>0.500000</td>\n      <td>0.000</td>\n      <td>2900.0</td>\n      <td>bus</td>\n      <td>tuesday</td>\n    </tr>\n    <tr>\n      <th>1</th>\n      <td>1</td>\n      <td>http://mashable.com/2013/07/25/3d-printed-rifle/</td>\n      <td>532.0</td>\n      <td>9.0</td>\n      <td>503.0</td>\n      <td>0.569697</td>\n      <td>1.0</td>\n      <td>0.737542</td>\n      <td>9.0</td>\n      <td>0.0</td>\n      <td>...</td>\n      <td>-0.157500</td>\n      <td>-0.2500</td>\n      <td>-0.100000</td>\n      <td>0.000000</td>\n      <td>0.000</td>\n      <td>0.500000</td>\n      <td>0.000</td>\n      <td>1300.0</td>\n      <td>tech</td>\n      <td>thursday</td>\n    </tr>\n    <tr>\n      <th>2</th>\n      <td>2</td>\n      <td>http://mashable.com/2013/10/30/digital-dinosau...</td>\n      <td>435.0</td>\n      <td>9.0</td>\n      <td>232.0</td>\n      <td>0.646018</td>\n      <td>1.0</td>\n      <td>0.748428</td>\n      <td>12.0</td>\n      <td>3.0</td>\n      <td>...</td>\n      <td>-0.427500</td>\n      <td>-1.0000</td>\n      <td>-0.187500</td>\n      <td>0.000000</td>\n      <td>0.000</td>\n      <td>0.500000</td>\n      <td>0.000</td>\n      <td>17700.0</td>\n      <td>lifestyle</td>\n      <td>wednesday</td>\n    </tr>\n    <tr>\n      <th>3</th>\n      <td>3</td>\n      <td>http://mashable.com/2014/08/27/homer-simpson-i...</td>\n      <td>134.0</td>\n      <td>12.0</td>\n      <td>171.0</td>\n      <td>0.722892</td>\n      <td>1.0</td>\n      <td>0.867925</td>\n      <td>9.0</td>\n      <td>5.0</td>\n      <td>...</td>\n      <td>-0.216667</td>\n      <td>-0.2500</td>\n      <td>-0.166667</td>\n      <td>0.400000</td>\n      <td>-0.250</td>\n      <td>0.100000</td>\n      <td>0.250</td>\n      <td>1500.0</td>\n      <td>bus</td>\n      <td>wednesday</td>\n    </tr>\n    <tr>\n      <th>4</th>\n      <td>4</td>\n      <td>http://mashable.com/2013/01/10/creepy-robotic-...</td>\n      <td>728.0</td>\n      <td>11.0</td>\n      <td>286.0</td>\n      <td>0.652632</td>\n      <td>1.0</td>\n      <td>0.800000</td>\n      <td>5.0</td>\n      <td>2.0</td>\n      <td>...</td>\n      <td>-0.251786</td>\n      <td>-0.5000</td>\n      <td>-0.100000</td>\n      <td>0.200000</td>\n      <td>-0.100</td>\n      <td>0.300000</td>\n      <td>0.100</td>\n      <td>1400.0</td>\n      <td>tech</td>\n      <td>thursday</td>\n    </tr>\n    <tr>\n      <th>...</th>\n      <td>...</td>\n      <td>...</td>\n      <td>...</td>\n      <td>...</td>\n      <td>...</td>\n      <td>...</td>\n      <td>...</td>\n      <td>...</td>\n      <td>...</td>\n      <td>...</td>\n      <td>...</td>\n      <td>...</td>\n      <td>...</td>\n      <td>...</td>\n      <td>...</td>\n      <td>...</td>\n      <td>...</td>\n      <td>...</td>\n      <td>...</td>\n      <td>...</td>\n      <td>...</td>\n    </tr>\n    <tr>\n      <th>7912</th>\n      <td>39639</td>\n      <td>http://mashable.com/2013/05/02/iflask/</td>\n      <td>616.0</td>\n      <td>8.0</td>\n      <td>123.0</td>\n      <td>0.723577</td>\n      <td>1.0</td>\n      <td>0.859155</td>\n      <td>3.0</td>\n      <td>0.0</td>\n      <td>...</td>\n      <td>0.000000</td>\n      <td>0.0000</td>\n      <td>0.000000</td>\n      <td>0.000000</td>\n      <td>0.000</td>\n      <td>0.500000</td>\n      <td>0.000</td>\n      <td>NaN</td>\n      <td>lifestyle</td>\n      <td>thursday</td>\n    </tr>\n    <tr>\n      <th>7913</th>\n      <td>39640</td>\n      <td>http://mashable.com/2013/08/10/internet-securi...</td>\n      <td>516.0</td>\n      <td>11.0</td>\n      <td>218.0</td>\n      <td>0.624390</td>\n      <td>1.0</td>\n      <td>0.716216</td>\n      <td>14.0</td>\n      <td>2.0</td>\n      <td>...</td>\n      <td>-0.147917</td>\n      <td>-0.1875</td>\n      <td>-0.050000</td>\n      <td>0.694444</td>\n      <td>0.375</td>\n      <td>0.194444</td>\n      <td>0.375</td>\n      <td>NaN</td>\n      <td>lifestyle</td>\n      <td>saturday</td>\n    </tr>\n    <tr>\n      <th>7914</th>\n      <td>39641</td>\n      <td>http://mashable.com/2014/12/03/indiegogo-insur...</td>\n      <td>35.0</td>\n      <td>11.0</td>\n      <td>172.0</td>\n      <td>0.666667</td>\n      <td>1.0</td>\n      <td>0.776699</td>\n      <td>5.0</td>\n      <td>3.0</td>\n      <td>...</td>\n      <td>-0.104233</td>\n      <td>-0.4000</td>\n      <td>-0.050000</td>\n      <td>0.150000</td>\n      <td>-0.050</td>\n      <td>0.350000</td>\n      <td>0.050</td>\n      <td>NaN</td>\n      <td>entertainment</td>\n      <td>thursday</td>\n    </tr>\n    <tr>\n      <th>7915</th>\n      <td>39642</td>\n      <td>http://mashable.com/2013/01/22/obama-sings-sex...</td>\n      <td>716.0</td>\n      <td>7.0</td>\n      <td>90.0</td>\n      <td>0.865169</td>\n      <td>1.0</td>\n      <td>0.923077</td>\n      <td>4.0</td>\n      <td>3.0</td>\n      <td>...</td>\n      <td>-0.200000</td>\n      <td>-0.2000</td>\n      <td>-0.200000</td>\n      <td>0.500000</td>\n      <td>0.250</td>\n      <td>0.000000</td>\n      <td>0.250</td>\n      <td>NaN</td>\n      <td>lifestyle</td>\n      <td>tuesday</td>\n    </tr>\n    <tr>\n      <th>7916</th>\n      <td>39643</td>\n      <td>http://mashable.com/2013/11/07/space-burial-co...</td>\n      <td>427.0</td>\n      <td>10.0</td>\n      <td>290.0</td>\n      <td>0.680702</td>\n      <td>1.0</td>\n      <td>0.790576</td>\n      <td>9.0</td>\n      <td>4.0</td>\n      <td>...</td>\n      <td>-0.344444</td>\n      <td>-0.7000</td>\n      <td>-0.100000</td>\n      <td>0.000000</td>\n      <td>0.000</td>\n      <td>0.500000</td>\n      <td>0.000</td>\n      <td>NaN</td>\n      <td>entertainment</td>\n      <td>thursday</td>\n    </tr>\n  </tbody>\n</table>\n<p>39632 rows × 50 columns</p>\n</div>"
     },
     "execution_count": 27,
     "metadata": {},
     "output_type": "execute_result"
    }
   ],
   "source": [
    "df_dev = pd.read_csv('dataset/development.csv')\n",
    "df_eval = pd.read_csv('dataset/evaluation.csv')\n",
    "\n",
    "df = pd.concat([df_dev, df_eval], sort=False)\n",
    "df"
   ]
  },
  {
   "cell_type": "code",
   "execution_count": 3,
   "metadata": {
    "ExecuteTime": {
     "end_time": "2023-06-03T11:37:55.157168Z",
     "start_time": "2023-06-03T11:37:55.150988Z"
    }
   },
   "outputs": [
    {
     "data": {
      "text/plain": "Index(['id', 'url', 'timedelta', 'n_tokens_title', 'n_tokens_content',\n       'n_unique_tokens', 'n_non_stop_words', 'n_non_stop_unique_tokens',\n       'num_hrefs', 'num_self_hrefs', 'num_imgs', 'num_videos',\n       'average_token_length', 'num_keywords', 'kw_min_min', 'kw_max_min',\n       'kw_avg_min', 'kw_min_max', 'kw_max_max', 'kw_avg_max', 'kw_min_avg',\n       'kw_max_avg', 'kw_avg_avg', 'self_reference_min_shares',\n       'self_reference_max_shares', 'self_reference_avg_sharess', 'LDA_00',\n       'LDA_01', 'LDA_02', 'LDA_03', 'LDA_04', 'global_subjectivity',\n       'global_sentiment_polarity', 'global_rate_positive_words',\n       'global_rate_negative_words', 'rate_positive_words',\n       'rate_negative_words', 'avg_positive_polarity', 'min_positive_polarity',\n       'max_positive_polarity', 'avg_negative_polarity',\n       'min_negative_polarity', 'max_negative_polarity', 'title_subjectivity',\n       'title_sentiment_polarity', 'abs_title_subjectivity',\n       'abs_title_sentiment_polarity', 'shares', 'data_channel', 'weekday'],\n      dtype='object')"
     },
     "execution_count": 3,
     "metadata": {},
     "output_type": "execute_result"
    }
   ],
   "source": [
    "df.columns"
   ]
  },
  {
   "cell_type": "code",
   "execution_count": 4,
   "metadata": {
    "ExecuteTime": {
     "end_time": "2023-06-03T11:37:57.416441Z",
     "start_time": "2023-06-03T11:37:57.397427Z"
    }
   },
   "outputs": [
    {
     "data": {
      "text/plain": "id                                 0\nurl                                0\ntimedelta                          0\nn_tokens_title                     0\nn_tokens_content                   0\nn_unique_tokens                    0\nn_non_stop_words                   0\nn_non_stop_unique_tokens           0\nnum_hrefs                          0\nnum_self_hrefs                     0\nnum_imgs                        6375\nnum_videos                      6331\naverage_token_length               0\nnum_keywords                    6318\nkw_min_min                         0\nkw_max_min                         0\nkw_avg_min                         0\nkw_min_max                         0\nkw_max_max                         0\nkw_avg_max                         0\nkw_min_avg                         0\nkw_max_avg                         0\nkw_avg_avg                         0\nself_reference_min_shares          0\nself_reference_max_shares          0\nself_reference_avg_sharess         0\nLDA_00                             0\nLDA_01                             0\nLDA_02                             0\nLDA_03                             0\nLDA_04                             0\nglobal_subjectivity                0\nglobal_sentiment_polarity          0\nglobal_rate_positive_words         0\nglobal_rate_negative_words         0\nrate_positive_words                0\nrate_negative_words                0\navg_positive_polarity              0\nmin_positive_polarity              0\nmax_positive_polarity              0\navg_negative_polarity              0\nmin_negative_polarity              0\nmax_negative_polarity              0\ntitle_subjectivity                 0\ntitle_sentiment_polarity           0\nabs_title_subjectivity             0\nabs_title_sentiment_polarity       0\nshares                             0\ndata_channel                       0\nweekday                            0\ndtype: int64"
     },
     "execution_count": 4,
     "metadata": {},
     "output_type": "execute_result"
    }
   ],
   "source": [
    "df_dev.isna().sum()"
   ]
  },
  {
   "cell_type": "code",
   "execution_count": 5,
   "metadata": {
    "ExecuteTime": {
     "end_time": "2023-06-03T11:37:59.907963Z",
     "start_time": "2023-06-03T11:37:59.899946Z"
    }
   },
   "outputs": [
    {
     "data": {
      "text/plain": "id                                 0\nurl                                0\ntimedelta                          0\nn_tokens_title                     0\nn_tokens_content                   0\nn_unique_tokens                    0\nn_non_stop_words                   0\nn_non_stop_unique_tokens           0\nnum_hrefs                          0\nnum_self_hrefs                     0\nnum_imgs                        1552\nnum_videos                      1594\naverage_token_length               0\nnum_keywords                    1608\nkw_min_min                         0\nkw_max_min                         0\nkw_avg_min                         0\nkw_min_max                         0\nkw_max_max                         0\nkw_avg_max                         0\nkw_min_avg                         0\nkw_max_avg                         0\nkw_avg_avg                         0\nself_reference_min_shares          0\nself_reference_max_shares          0\nself_reference_avg_sharess         0\nLDA_00                             0\nLDA_01                             0\nLDA_02                             0\nLDA_03                             0\nLDA_04                             0\nglobal_subjectivity                0\nglobal_sentiment_polarity          0\nglobal_rate_positive_words         0\nglobal_rate_negative_words         0\nrate_positive_words                0\nrate_negative_words                0\navg_positive_polarity              0\nmin_positive_polarity              0\nmax_positive_polarity              0\navg_negative_polarity              0\nmin_negative_polarity              0\nmax_negative_polarity              0\ntitle_subjectivity                 0\ntitle_sentiment_polarity           0\nabs_title_subjectivity             0\nabs_title_sentiment_polarity       0\ndata_channel                       0\nweekday                            0\ndtype: int64"
     },
     "execution_count": 5,
     "metadata": {},
     "output_type": "execute_result"
    }
   ],
   "source": [
    "df_eval.isna().sum()"
   ]
  },
  {
   "cell_type": "code",
   "execution_count": 46,
   "metadata": {},
   "outputs": [
    {
     "data": {
      "text/plain": [
       "id                                 0\n",
       "url                                0\n",
       "timedelta                          0\n",
       "n_tokens_title                     0\n",
       "n_tokens_content                   0\n",
       "n_unique_tokens                    0\n",
       "n_non_stop_words                   0\n",
       "n_non_stop_unique_tokens           0\n",
       "num_hrefs                          0\n",
       "num_self_hrefs                     0\n",
       "num_imgs                        7927\n",
       "num_videos                      7925\n",
       "average_token_length               0\n",
       "num_keywords                    7926\n",
       "kw_min_min                         0\n",
       "kw_max_min                         0\n",
       "kw_avg_min                         0\n",
       "kw_min_max                         0\n",
       "kw_max_max                         0\n",
       "kw_avg_max                         0\n",
       "kw_min_avg                         0\n",
       "kw_max_avg                         0\n",
       "kw_avg_avg                         0\n",
       "self_reference_min_shares          0\n",
       "self_reference_max_shares          0\n",
       "self_reference_avg_sharess         0\n",
       "LDA_00                             0\n",
       "LDA_01                             0\n",
       "LDA_02                             0\n",
       "LDA_03                             0\n",
       "LDA_04                             0\n",
       "global_subjectivity                0\n",
       "global_sentiment_polarity          0\n",
       "global_rate_positive_words         0\n",
       "global_rate_negative_words         0\n",
       "rate_positive_words                0\n",
       "rate_negative_words                0\n",
       "avg_positive_polarity              0\n",
       "min_positive_polarity              0\n",
       "max_positive_polarity              0\n",
       "avg_negative_polarity              0\n",
       "min_negative_polarity              0\n",
       "max_negative_polarity              0\n",
       "title_subjectivity                 0\n",
       "title_sentiment_polarity           0\n",
       "abs_title_subjectivity             0\n",
       "abs_title_sentiment_polarity       0\n",
       "shares                          7917\n",
       "data_channel                       0\n",
       "weekday                            0\n",
       "dtype: int64"
      ]
     },
     "execution_count": 46,
     "metadata": {},
     "output_type": "execute_result"
    }
   ],
   "source": [
    "df.isna().sum(axis=0)"
   ]
  },
  {
   "cell_type": "code",
   "execution_count": 20,
   "metadata": {
    "ExecuteTime": {
     "end_time": "2023-06-03T13:33:34.169644Z",
     "start_time": "2023-06-03T13:33:34.154817Z"
    }
   },
   "outputs": [
    {
     "data": {
      "text/plain": "count    39632.000000\nmean        26.109255\nstd         69.635780\nmin         -1.000000\n25%         -1.000000\n50%         -1.000000\n75%          4.000000\nmax        377.000000\nName: kw_min_min, dtype: float64"
     },
     "execution_count": 20,
     "metadata": {},
     "output_type": "execute_result"
    }
   ],
   "source": [
    "df['kw_min_min'].describe()"
   ]
  },
  {
   "cell_type": "code",
   "execution_count": 31,
   "metadata": {
    "ExecuteTime": {
     "end_time": "2023-06-03T13:37:26.566646Z",
     "start_time": "2023-06-03T13:37:26.561990Z"
    }
   },
   "outputs": [
    {
     "data": {
      "text/plain": "kw_min_min\n-1.0      22971\n 4.0      11906\n 217.0     4635\n 0.0         79\n 47.0         6\n 57.0         5\n 86.0         4\n 82.0         3\n 63.0         2\n 45.0         2\n 294.0        2\n 88.0         2\n 129.0        2\n 201.0        1\n 97.0         1\n 65.0         1\n 42.0         1\n 377.0        1\n 41.0         1\n 138.0        1\n 184.0        1\n 162.0        1\n 98.0         1\n 116.0        1\n 80.0         1\n 318.0        1\nName: count, dtype: int64"
     },
     "execution_count": 31,
     "metadata": {},
     "output_type": "execute_result"
    }
   ],
   "source": [
    "df['kw_min_min'].value_counts()"
   ]
  },
  {
   "cell_type": "code",
   "execution_count": 19,
   "metadata": {
    "ExecuteTime": {
     "end_time": "2023-06-03T13:29:25.474468Z",
     "start_time": "2023-06-03T13:29:14.389868Z"
    }
   },
   "outputs": [
    {
     "data": {
      "text/plain": "<Axes: >"
     },
     "execution_count": 19,
     "metadata": {},
     "output_type": "execute_result"
    },
    {
     "data": {
      "text/plain": "<Figure size 640x480 with 1 Axes>",
      "image/png": "[encoded data removed]"
     },
     "metadata": {},
     "output_type": "display_data"
    }
   ],
   "source": [
    "df['data_channel'].hist()"
   ]
  }
 ],
 "metadata": {
  "kernelspec": {
   "display_name": "thesis",
   "language": "python",
   "name": "python3"
  },
  "language_info": {
   "codemirror_mode": {
    "name": "ipython",
    "version": 3
   },
   "file_extension": ".py",
   "mimetype": "text/x-python",
   "name": "python",
   "nbconvert_exporter": "python",
   "pygments_lexer": "ipython3",
   "version": "3.8.0"
  },
  "orig_nbformat": 4
 },
 "nbformat": 4,
 "nbformat_minor": 2
}
