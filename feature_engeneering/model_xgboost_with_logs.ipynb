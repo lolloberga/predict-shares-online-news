{
 "cells": [
  {
   "cell_type": "code",
   "execution_count": 24,
   "metadata": {},
   "outputs": [],
   "source": [
    "import pandas as pd\n",
    "from sklearn.preprocessing import OneHotEncoder\n",
    "import numpy as np\n",
    "\n",
    "from sklearn.preprocessing import StandardScaler\n",
    "from sklearn.preprocessing import PolynomialFeatures\n",
    "from sklearn.decomposition import PCA\n",
    "from sklearn.pipeline import make_pipeline\n",
    "\n",
    "from sklearn.model_selection import train_test_split, KFold\n",
    "\n",
    "from sklearn.ensemble import RandomForestRegressor\n",
    "from sklearn.linear_model import LinearRegression\n",
    "from sklearn.linear_model import Lasso\n",
    "from sklearn.ensemble import GradientBoostingRegressor\n",
    "from xgboost import XGBRegressor\n",
    "\n",
    "from sklearn.metrics import mean_squared_error\n",
    "from sklearn.metrics import r2_score\n",
    "\n",
    "import matplotlib.pyplot as plt"
   ]
  },
  {
   "cell_type": "code",
   "execution_count": 25,
   "metadata": {},
   "outputs": [
    {
     "data": {
      "text/html": [
       "<div>\n",
       "<style scoped>\n",
       "    .dataframe tbody tr th:only-of-type {\n",
       "        vertical-align: middle;\n",
       "    }\n",
       "\n",
       "    .dataframe tbody tr th {\n",
       "        vertical-align: top;\n",
       "    }\n",
       "\n",
       "    .dataframe thead th {\n",
       "        text-align: right;\n",
       "    }\n",
       "</style>\n",
       "<table border=\"1\" class=\"dataframe\">\n",
       "  <thead>\n",
       "    <tr style=\"text-align: right;\">\n",
       "      <th></th>\n",
       "      <th>id</th>\n",
       "      <th>url</th>\n",
       "      <th>timedelta</th>\n",
       "      <th>n_tokens_title</th>\n",
       "      <th>n_tokens_content</th>\n",
       "      <th>n_unique_tokens</th>\n",
       "      <th>n_non_stop_words</th>\n",
       "      <th>n_non_stop_unique_tokens</th>\n",
       "      <th>num_hrefs</th>\n",
       "      <th>num_self_hrefs</th>\n",
       "      <th>...</th>\n",
       "      <th>avg_negative_polarity</th>\n",
       "      <th>min_negative_polarity</th>\n",
       "      <th>max_negative_polarity</th>\n",
       "      <th>title_subjectivity</th>\n",
       "      <th>title_sentiment_polarity</th>\n",
       "      <th>abs_title_subjectivity</th>\n",
       "      <th>abs_title_sentiment_polarity</th>\n",
       "      <th>shares</th>\n",
       "      <th>data_channel</th>\n",
       "      <th>weekday</th>\n",
       "    </tr>\n",
       "  </thead>\n",
       "  <tbody>\n",
       "    <tr>\n",
       "      <th>0</th>\n",
       "      <td>0</td>\n",
       "      <td>http://mashable.com/2014/09/08/safest-cabbies-...</td>\n",
       "      <td>121.0</td>\n",
       "      <td>12.0</td>\n",
       "      <td>1015.0</td>\n",
       "      <td>0.422018</td>\n",
       "      <td>1.0</td>\n",
       "      <td>0.545031</td>\n",
       "      <td>10.0</td>\n",
       "      <td>6.0</td>\n",
       "      <td>...</td>\n",
       "      <td>-0.160714</td>\n",
       "      <td>-0.50</td>\n",
       "      <td>-0.071429</td>\n",
       "      <td>0.0</td>\n",
       "      <td>0.00</td>\n",
       "      <td>0.5</td>\n",
       "      <td>0.00</td>\n",
       "      <td>2900.0</td>\n",
       "      <td>bus</td>\n",
       "      <td>tuesday</td>\n",
       "    </tr>\n",
       "    <tr>\n",
       "      <th>1</th>\n",
       "      <td>1</td>\n",
       "      <td>http://mashable.com/2013/07/25/3d-printed-rifle/</td>\n",
       "      <td>532.0</td>\n",
       "      <td>9.0</td>\n",
       "      <td>503.0</td>\n",
       "      <td>0.569697</td>\n",
       "      <td>1.0</td>\n",
       "      <td>0.737542</td>\n",
       "      <td>9.0</td>\n",
       "      <td>0.0</td>\n",
       "      <td>...</td>\n",
       "      <td>-0.157500</td>\n",
       "      <td>-0.25</td>\n",
       "      <td>-0.100000</td>\n",
       "      <td>0.0</td>\n",
       "      <td>0.00</td>\n",
       "      <td>0.5</td>\n",
       "      <td>0.00</td>\n",
       "      <td>1300.0</td>\n",
       "      <td>tech</td>\n",
       "      <td>thursday</td>\n",
       "    </tr>\n",
       "    <tr>\n",
       "      <th>2</th>\n",
       "      <td>2</td>\n",
       "      <td>http://mashable.com/2013/10/30/digital-dinosau...</td>\n",
       "      <td>435.0</td>\n",
       "      <td>9.0</td>\n",
       "      <td>232.0</td>\n",
       "      <td>0.646018</td>\n",
       "      <td>1.0</td>\n",
       "      <td>0.748428</td>\n",
       "      <td>12.0</td>\n",
       "      <td>3.0</td>\n",
       "      <td>...</td>\n",
       "      <td>-0.427500</td>\n",
       "      <td>-1.00</td>\n",
       "      <td>-0.187500</td>\n",
       "      <td>0.0</td>\n",
       "      <td>0.00</td>\n",
       "      <td>0.5</td>\n",
       "      <td>0.00</td>\n",
       "      <td>17700.0</td>\n",
       "      <td>lifestyle</td>\n",
       "      <td>wednesday</td>\n",
       "    </tr>\n",
       "    <tr>\n",
       "      <th>3</th>\n",
       "      <td>3</td>\n",
       "      <td>http://mashable.com/2014/08/27/homer-simpson-i...</td>\n",
       "      <td>134.0</td>\n",
       "      <td>12.0</td>\n",
       "      <td>171.0</td>\n",
       "      <td>0.722892</td>\n",
       "      <td>1.0</td>\n",
       "      <td>0.867925</td>\n",
       "      <td>9.0</td>\n",
       "      <td>5.0</td>\n",
       "      <td>...</td>\n",
       "      <td>-0.216667</td>\n",
       "      <td>-0.25</td>\n",
       "      <td>-0.166667</td>\n",
       "      <td>0.4</td>\n",
       "      <td>-0.25</td>\n",
       "      <td>0.1</td>\n",
       "      <td>0.25</td>\n",
       "      <td>1500.0</td>\n",
       "      <td>bus</td>\n",
       "      <td>wednesday</td>\n",
       "    </tr>\n",
       "    <tr>\n",
       "      <th>4</th>\n",
       "      <td>4</td>\n",
       "      <td>http://mashable.com/2013/01/10/creepy-robotic-...</td>\n",
       "      <td>728.0</td>\n",
       "      <td>11.0</td>\n",
       "      <td>286.0</td>\n",
       "      <td>0.652632</td>\n",
       "      <td>1.0</td>\n",
       "      <td>0.800000</td>\n",
       "      <td>5.0</td>\n",
       "      <td>2.0</td>\n",
       "      <td>...</td>\n",
       "      <td>-0.251786</td>\n",
       "      <td>-0.50</td>\n",
       "      <td>-0.100000</td>\n",
       "      <td>0.2</td>\n",
       "      <td>-0.10</td>\n",
       "      <td>0.3</td>\n",
       "      <td>0.10</td>\n",
       "      <td>1400.0</td>\n",
       "      <td>tech</td>\n",
       "      <td>thursday</td>\n",
       "    </tr>\n",
       "  </tbody>\n",
       "</table>\n",
       "<p>5 rows × 50 columns</p>\n",
       "</div>"
      ],
      "text/plain": [
       "   id                                                url  timedelta  \\\n",
       "0   0  http://mashable.com/2014/09/08/safest-cabbies-...      121.0   \n",
       "1   1   http://mashable.com/2013/07/25/3d-printed-rifle/      532.0   \n",
       "2   2  http://mashable.com/2013/10/30/digital-dinosau...      435.0   \n",
       "3   3  http://mashable.com/2014/08/27/homer-simpson-i...      134.0   \n",
       "4   4  http://mashable.com/2013/01/10/creepy-robotic-...      728.0   \n",
       "\n",
       "   n_tokens_title  n_tokens_content  n_unique_tokens  n_non_stop_words  \\\n",
       "0            12.0            1015.0         0.422018               1.0   \n",
       "1             9.0             503.0         0.569697               1.0   \n",
       "2             9.0             232.0         0.646018               1.0   \n",
       "3            12.0             171.0         0.722892               1.0   \n",
       "4            11.0             286.0         0.652632               1.0   \n",
       "\n",
       "   n_non_stop_unique_tokens  num_hrefs  num_self_hrefs  ...  \\\n",
       "0                  0.545031       10.0             6.0  ...   \n",
       "1                  0.737542        9.0             0.0  ...   \n",
       "2                  0.748428       12.0             3.0  ...   \n",
       "3                  0.867925        9.0             5.0  ...   \n",
       "4                  0.800000        5.0             2.0  ...   \n",
       "\n",
       "   avg_negative_polarity  min_negative_polarity  max_negative_polarity  \\\n",
       "0              -0.160714                  -0.50              -0.071429   \n",
       "1              -0.157500                  -0.25              -0.100000   \n",
       "2              -0.427500                  -1.00              -0.187500   \n",
       "3              -0.216667                  -0.25              -0.166667   \n",
       "4              -0.251786                  -0.50              -0.100000   \n",
       "\n",
       "   title_subjectivity  title_sentiment_polarity  abs_title_subjectivity  \\\n",
       "0                 0.0                      0.00                     0.5   \n",
       "1                 0.0                      0.00                     0.5   \n",
       "2                 0.0                      0.00                     0.5   \n",
       "3                 0.4                     -0.25                     0.1   \n",
       "4                 0.2                     -0.10                     0.3   \n",
       "\n",
       "   abs_title_sentiment_polarity   shares  data_channel    weekday  \n",
       "0                          0.00   2900.0           bus    tuesday  \n",
       "1                          0.00   1300.0          tech   thursday  \n",
       "2                          0.00  17700.0     lifestyle  wednesday  \n",
       "3                          0.25   1500.0           bus  wednesday  \n",
       "4                          0.10   1400.0          tech   thursday  \n",
       "\n",
       "[5 rows x 50 columns]"
      ]
     },
     "execution_count": 25,
     "metadata": {},
     "output_type": "execute_result"
    }
   ],
   "source": [
    "df_dev = pd.read_csv('../dataset/development.csv')\n",
    "df_eval = pd.read_csv('../dataset/evaluation.csv')\n",
    "\n",
    "df = pd.concat([df_dev, df_eval], sort=False)\n",
    "df.head()"
   ]
  },
  {
   "cell_type": "code",
   "execution_count": 26,
   "metadata": {},
   "outputs": [
    {
     "data": {
      "text/plain": [
       "(31715, 50)"
      ]
     },
     "execution_count": 26,
     "metadata": {},
     "output_type": "execute_result"
    }
   ],
   "source": [
    "df_dev.shape"
   ]
  },
  {
   "attachments": {},
   "cell_type": "markdown",
   "metadata": {},
   "source": [
    "## One hot encoding"
   ]
  },
  {
   "cell_type": "code",
   "execution_count": 27,
   "metadata": {},
   "outputs": [
    {
     "name": "stdout",
     "output_type": "stream",
     "text": [
      "(31715, 13)\n"
     ]
    },
    {
     "data": {
      "text/html": [
       "<div>\n",
       "<style scoped>\n",
       "    .dataframe tbody tr th:only-of-type {\n",
       "        vertical-align: middle;\n",
       "    }\n",
       "\n",
       "    .dataframe tbody tr th {\n",
       "        vertical-align: top;\n",
       "    }\n",
       "\n",
       "    .dataframe thead th {\n",
       "        text-align: right;\n",
       "    }\n",
       "</style>\n",
       "<table border=\"1\" class=\"dataframe\">\n",
       "  <thead>\n",
       "    <tr style=\"text-align: right;\">\n",
       "      <th></th>\n",
       "      <th>timedelta</th>\n",
       "      <th>n_tokens_title</th>\n",
       "      <th>n_tokens_content</th>\n",
       "      <th>n_unique_tokens</th>\n",
       "      <th>n_non_stop_words</th>\n",
       "      <th>n_non_stop_unique_tokens</th>\n",
       "      <th>num_hrefs</th>\n",
       "      <th>num_self_hrefs</th>\n",
       "      <th>num_imgs</th>\n",
       "      <th>num_videos</th>\n",
       "      <th>...</th>\n",
       "      <th>weekday_sunday</th>\n",
       "      <th>weekday_thursday</th>\n",
       "      <th>weekday_tuesday</th>\n",
       "      <th>weekday_wednesday</th>\n",
       "      <th>data_channel_bus</th>\n",
       "      <th>data_channel_entertainment</th>\n",
       "      <th>data_channel_lifestyle</th>\n",
       "      <th>data_channel_socmed</th>\n",
       "      <th>data_channel_tech</th>\n",
       "      <th>data_channel_world</th>\n",
       "    </tr>\n",
       "  </thead>\n",
       "  <tbody>\n",
       "    <tr>\n",
       "      <th>0</th>\n",
       "      <td>121.0</td>\n",
       "      <td>12.0</td>\n",
       "      <td>1015.0</td>\n",
       "      <td>0.422018</td>\n",
       "      <td>1.0</td>\n",
       "      <td>0.545031</td>\n",
       "      <td>10.0</td>\n",
       "      <td>6.0</td>\n",
       "      <td>33.0</td>\n",
       "      <td>1.0</td>\n",
       "      <td>...</td>\n",
       "      <td>0.0</td>\n",
       "      <td>0.0</td>\n",
       "      <td>1.0</td>\n",
       "      <td>0.0</td>\n",
       "      <td>1.0</td>\n",
       "      <td>0.0</td>\n",
       "      <td>0.0</td>\n",
       "      <td>0.0</td>\n",
       "      <td>0.0</td>\n",
       "      <td>0.0</td>\n",
       "    </tr>\n",
       "    <tr>\n",
       "      <th>1</th>\n",
       "      <td>532.0</td>\n",
       "      <td>9.0</td>\n",
       "      <td>503.0</td>\n",
       "      <td>0.569697</td>\n",
       "      <td>1.0</td>\n",
       "      <td>0.737542</td>\n",
       "      <td>9.0</td>\n",
       "      <td>0.0</td>\n",
       "      <td>NaN</td>\n",
       "      <td>1.0</td>\n",
       "      <td>...</td>\n",
       "      <td>0.0</td>\n",
       "      <td>1.0</td>\n",
       "      <td>0.0</td>\n",
       "      <td>0.0</td>\n",
       "      <td>0.0</td>\n",
       "      <td>0.0</td>\n",
       "      <td>0.0</td>\n",
       "      <td>0.0</td>\n",
       "      <td>1.0</td>\n",
       "      <td>0.0</td>\n",
       "    </tr>\n",
       "    <tr>\n",
       "      <th>2</th>\n",
       "      <td>435.0</td>\n",
       "      <td>9.0</td>\n",
       "      <td>232.0</td>\n",
       "      <td>0.646018</td>\n",
       "      <td>1.0</td>\n",
       "      <td>0.748428</td>\n",
       "      <td>12.0</td>\n",
       "      <td>3.0</td>\n",
       "      <td>4.0</td>\n",
       "      <td>1.0</td>\n",
       "      <td>...</td>\n",
       "      <td>0.0</td>\n",
       "      <td>0.0</td>\n",
       "      <td>0.0</td>\n",
       "      <td>1.0</td>\n",
       "      <td>0.0</td>\n",
       "      <td>0.0</td>\n",
       "      <td>1.0</td>\n",
       "      <td>0.0</td>\n",
       "      <td>0.0</td>\n",
       "      <td>0.0</td>\n",
       "    </tr>\n",
       "    <tr>\n",
       "      <th>3</th>\n",
       "      <td>134.0</td>\n",
       "      <td>12.0</td>\n",
       "      <td>171.0</td>\n",
       "      <td>0.722892</td>\n",
       "      <td>1.0</td>\n",
       "      <td>0.867925</td>\n",
       "      <td>9.0</td>\n",
       "      <td>5.0</td>\n",
       "      <td>0.0</td>\n",
       "      <td>NaN</td>\n",
       "      <td>...</td>\n",
       "      <td>0.0</td>\n",
       "      <td>0.0</td>\n",
       "      <td>0.0</td>\n",
       "      <td>1.0</td>\n",
       "      <td>1.0</td>\n",
       "      <td>0.0</td>\n",
       "      <td>0.0</td>\n",
       "      <td>0.0</td>\n",
       "      <td>0.0</td>\n",
       "      <td>0.0</td>\n",
       "    </tr>\n",
       "    <tr>\n",
       "      <th>4</th>\n",
       "      <td>728.0</td>\n",
       "      <td>11.0</td>\n",
       "      <td>286.0</td>\n",
       "      <td>0.652632</td>\n",
       "      <td>1.0</td>\n",
       "      <td>0.800000</td>\n",
       "      <td>5.0</td>\n",
       "      <td>2.0</td>\n",
       "      <td>NaN</td>\n",
       "      <td>0.0</td>\n",
       "      <td>...</td>\n",
       "      <td>0.0</td>\n",
       "      <td>1.0</td>\n",
       "      <td>0.0</td>\n",
       "      <td>0.0</td>\n",
       "      <td>0.0</td>\n",
       "      <td>0.0</td>\n",
       "      <td>0.0</td>\n",
       "      <td>0.0</td>\n",
       "      <td>1.0</td>\n",
       "      <td>0.0</td>\n",
       "    </tr>\n",
       "    <tr>\n",
       "      <th>...</th>\n",
       "      <td>...</td>\n",
       "      <td>...</td>\n",
       "      <td>...</td>\n",
       "      <td>...</td>\n",
       "      <td>...</td>\n",
       "      <td>...</td>\n",
       "      <td>...</td>\n",
       "      <td>...</td>\n",
       "      <td>...</td>\n",
       "      <td>...</td>\n",
       "      <td>...</td>\n",
       "      <td>...</td>\n",
       "      <td>...</td>\n",
       "      <td>...</td>\n",
       "      <td>...</td>\n",
       "      <td>...</td>\n",
       "      <td>...</td>\n",
       "      <td>...</td>\n",
       "      <td>...</td>\n",
       "      <td>...</td>\n",
       "      <td>...</td>\n",
       "    </tr>\n",
       "    <tr>\n",
       "      <th>31710</th>\n",
       "      <td>37.0</td>\n",
       "      <td>11.0</td>\n",
       "      <td>440.0</td>\n",
       "      <td>0.564103</td>\n",
       "      <td>1.0</td>\n",
       "      <td>0.718978</td>\n",
       "      <td>10.0</td>\n",
       "      <td>2.0</td>\n",
       "      <td>NaN</td>\n",
       "      <td>NaN</td>\n",
       "      <td>...</td>\n",
       "      <td>0.0</td>\n",
       "      <td>0.0</td>\n",
       "      <td>1.0</td>\n",
       "      <td>0.0</td>\n",
       "      <td>0.0</td>\n",
       "      <td>0.0</td>\n",
       "      <td>0.0</td>\n",
       "      <td>0.0</td>\n",
       "      <td>0.0</td>\n",
       "      <td>1.0</td>\n",
       "    </tr>\n",
       "    <tr>\n",
       "      <th>31711</th>\n",
       "      <td>52.0</td>\n",
       "      <td>14.0</td>\n",
       "      <td>0.0</td>\n",
       "      <td>0.000000</td>\n",
       "      <td>0.0</td>\n",
       "      <td>0.000000</td>\n",
       "      <td>0.0</td>\n",
       "      <td>0.0</td>\n",
       "      <td>0.0</td>\n",
       "      <td>NaN</td>\n",
       "      <td>...</td>\n",
       "      <td>0.0</td>\n",
       "      <td>0.0</td>\n",
       "      <td>0.0</td>\n",
       "      <td>0.0</td>\n",
       "      <td>0.0</td>\n",
       "      <td>0.0</td>\n",
       "      <td>1.0</td>\n",
       "      <td>0.0</td>\n",
       "      <td>0.0</td>\n",
       "      <td>0.0</td>\n",
       "    </tr>\n",
       "    <tr>\n",
       "      <th>31712</th>\n",
       "      <td>121.0</td>\n",
       "      <td>9.0</td>\n",
       "      <td>969.0</td>\n",
       "      <td>0.489583</td>\n",
       "      <td>1.0</td>\n",
       "      <td>0.710623</td>\n",
       "      <td>6.0</td>\n",
       "      <td>5.0</td>\n",
       "      <td>2.0</td>\n",
       "      <td>1.0</td>\n",
       "      <td>...</td>\n",
       "      <td>0.0</td>\n",
       "      <td>0.0</td>\n",
       "      <td>1.0</td>\n",
       "      <td>0.0</td>\n",
       "      <td>0.0</td>\n",
       "      <td>0.0</td>\n",
       "      <td>0.0</td>\n",
       "      <td>0.0</td>\n",
       "      <td>1.0</td>\n",
       "      <td>0.0</td>\n",
       "    </tr>\n",
       "    <tr>\n",
       "      <th>31713</th>\n",
       "      <td>503.0</td>\n",
       "      <td>11.0</td>\n",
       "      <td>1976.0</td>\n",
       "      <td>0.412308</td>\n",
       "      <td>1.0</td>\n",
       "      <td>0.621080</td>\n",
       "      <td>21.0</td>\n",
       "      <td>3.0</td>\n",
       "      <td>1.0</td>\n",
       "      <td>3.0</td>\n",
       "      <td>...</td>\n",
       "      <td>0.0</td>\n",
       "      <td>0.0</td>\n",
       "      <td>0.0</td>\n",
       "      <td>0.0</td>\n",
       "      <td>0.0</td>\n",
       "      <td>0.0</td>\n",
       "      <td>1.0</td>\n",
       "      <td>0.0</td>\n",
       "      <td>0.0</td>\n",
       "      <td>0.0</td>\n",
       "    </tr>\n",
       "    <tr>\n",
       "      <th>31714</th>\n",
       "      <td>106.0</td>\n",
       "      <td>13.0</td>\n",
       "      <td>261.0</td>\n",
       "      <td>0.616279</td>\n",
       "      <td>1.0</td>\n",
       "      <td>0.780822</td>\n",
       "      <td>5.0</td>\n",
       "      <td>4.0</td>\n",
       "      <td>1.0</td>\n",
       "      <td>1.0</td>\n",
       "      <td>...</td>\n",
       "      <td>0.0</td>\n",
       "      <td>0.0</td>\n",
       "      <td>0.0</td>\n",
       "      <td>1.0</td>\n",
       "      <td>0.0</td>\n",
       "      <td>0.0</td>\n",
       "      <td>0.0</td>\n",
       "      <td>1.0</td>\n",
       "      <td>0.0</td>\n",
       "      <td>0.0</td>\n",
       "    </tr>\n",
       "  </tbody>\n",
       "</table>\n",
       "<p>31715 rows × 59 columns</p>\n",
       "</div>"
      ],
      "text/plain": [
       "       timedelta  n_tokens_title  n_tokens_content  n_unique_tokens  \\\n",
       "0          121.0            12.0            1015.0         0.422018   \n",
       "1          532.0             9.0             503.0         0.569697   \n",
       "2          435.0             9.0             232.0         0.646018   \n",
       "3          134.0            12.0             171.0         0.722892   \n",
       "4          728.0            11.0             286.0         0.652632   \n",
       "...          ...             ...               ...              ...   \n",
       "31710       37.0            11.0             440.0         0.564103   \n",
       "31711       52.0            14.0               0.0         0.000000   \n",
       "31712      121.0             9.0             969.0         0.489583   \n",
       "31713      503.0            11.0            1976.0         0.412308   \n",
       "31714      106.0            13.0             261.0         0.616279   \n",
       "\n",
       "       n_non_stop_words  n_non_stop_unique_tokens  num_hrefs  num_self_hrefs  \\\n",
       "0                   1.0                  0.545031       10.0             6.0   \n",
       "1                   1.0                  0.737542        9.0             0.0   \n",
       "2                   1.0                  0.748428       12.0             3.0   \n",
       "3                   1.0                  0.867925        9.0             5.0   \n",
       "4                   1.0                  0.800000        5.0             2.0   \n",
       "...                 ...                       ...        ...             ...   \n",
       "31710               1.0                  0.718978       10.0             2.0   \n",
       "31711               0.0                  0.000000        0.0             0.0   \n",
       "31712               1.0                  0.710623        6.0             5.0   \n",
       "31713               1.0                  0.621080       21.0             3.0   \n",
       "31714               1.0                  0.780822        5.0             4.0   \n",
       "\n",
       "       num_imgs  num_videos  ...  weekday_sunday  weekday_thursday  \\\n",
       "0          33.0         1.0  ...             0.0               0.0   \n",
       "1           NaN         1.0  ...             0.0               1.0   \n",
       "2           4.0         1.0  ...             0.0               0.0   \n",
       "3           0.0         NaN  ...             0.0               0.0   \n",
       "4           NaN         0.0  ...             0.0               1.0   \n",
       "...         ...         ...  ...             ...               ...   \n",
       "31710       NaN         NaN  ...             0.0               0.0   \n",
       "31711       0.0         NaN  ...             0.0               0.0   \n",
       "31712       2.0         1.0  ...             0.0               0.0   \n",
       "31713       1.0         3.0  ...             0.0               0.0   \n",
       "31714       1.0         1.0  ...             0.0               0.0   \n",
       "\n",
       "       weekday_tuesday  weekday_wednesday  data_channel_bus  \\\n",
       "0                  1.0                0.0               1.0   \n",
       "1                  0.0                0.0               0.0   \n",
       "2                  0.0                1.0               0.0   \n",
       "3                  0.0                1.0               1.0   \n",
       "4                  0.0                0.0               0.0   \n",
       "...                ...                ...               ...   \n",
       "31710              1.0                0.0               0.0   \n",
       "31711              0.0                0.0               0.0   \n",
       "31712              1.0                0.0               0.0   \n",
       "31713              0.0                0.0               0.0   \n",
       "31714              0.0                1.0               0.0   \n",
       "\n",
       "       data_channel_entertainment  data_channel_lifestyle  \\\n",
       "0                             0.0                     0.0   \n",
       "1                             0.0                     0.0   \n",
       "2                             0.0                     1.0   \n",
       "3                             0.0                     0.0   \n",
       "4                             0.0                     0.0   \n",
       "...                           ...                     ...   \n",
       "31710                         0.0                     0.0   \n",
       "31711                         0.0                     1.0   \n",
       "31712                         0.0                     0.0   \n",
       "31713                         0.0                     1.0   \n",
       "31714                         0.0                     0.0   \n",
       "\n",
       "       data_channel_socmed  data_channel_tech  data_channel_world  \n",
       "0                      0.0                0.0                 0.0  \n",
       "1                      0.0                1.0                 0.0  \n",
       "2                      0.0                0.0                 0.0  \n",
       "3                      0.0                0.0                 0.0  \n",
       "4                      0.0                1.0                 0.0  \n",
       "...                    ...                ...                 ...  \n",
       "31710                  0.0                0.0                 1.0  \n",
       "31711                  0.0                0.0                 0.0  \n",
       "31712                  0.0                1.0                 0.0  \n",
       "31713                  0.0                0.0                 0.0  \n",
       "31714                  1.0                0.0                 0.0  \n",
       "\n",
       "[31715 rows x 59 columns]"
      ]
     },
     "execution_count": 27,
     "metadata": {},
     "output_type": "execute_result"
    }
   ],
   "source": [
    "enc = OneHotEncoder()\n",
    "encoded_df = pd.concat([df_dev['weekday'], df_dev['data_channel']], axis=1)\n",
    "enc.fit(encoded_df)\n",
    "encoded_df = enc.transform(encoded_df)\n",
    "additional_columns = enc.get_feature_names_out()\n",
    "print(encoded_df.toarray().shape)\n",
    "working_df_dev = df_dev.copy()\n",
    "working_df_dev[additional_columns] = encoded_df.toarray()\n",
    "working_df_dev.drop(['weekday', 'data_channel', 'url', 'id'], axis = 1, inplace=True)\n",
    "working_df_dev"
   ]
  },
  {
   "attachments": {},
   "cell_type": "markdown",
   "metadata": {},
   "source": [
    "### dropping based on mutlivariate analysis"
   ]
  },
  {
   "cell_type": "code",
   "execution_count": 28,
   "metadata": {},
   "outputs": [],
   "source": [
    "working_df_dev.drop(columns=['n_unique_tokens','n_non_stop_words','kw_max_min','kw_min_max','kw_max_avg','abs_title_sentiment_polarity',\n",
    "                     'abs_title_subjectivity','rate_positive_words','timedelta','max_negative_polarity','min_negative_polarity',\n",
    "                     'kw_min_min','kw_max_max','num_self_hrefs','data_channel_bus','LDA_00'], inplace=True)"
   ]
  },
  {
   "attachments": {},
   "cell_type": "markdown",
   "metadata": {},
   "source": [
    "### n_tokens_content: logarithmically scaled"
   ]
  },
  {
   "cell_type": "code",
   "execution_count": 29,
   "metadata": {},
   "outputs": [],
   "source": [
    "working_df_dev = working_df_dev.query(\"n_tokens_content > 0\")"
   ]
  },
  {
   "cell_type": "code",
   "execution_count": 30,
   "metadata": {},
   "outputs": [
    {
     "name": "stderr",
     "output_type": "stream",
     "text": [
      "/var/tmp/ipykernel_388892/4107790530.py:1: SettingWithCopyWarning: \n",
      "A value is trying to be set on a copy of a slice from a DataFrame.\n",
      "Try using .loc[row_indexer,col_indexer] = value instead\n",
      "\n",
      "See the caveats in the documentation: https://pandas.pydata.org/pandas-docs/stable/user_guide/indexing.html#returning-a-view-versus-a-copy\n",
      "  working_df_dev['n_tokens_content'] = np.log(working_df_dev['n_tokens_content'])\n"
     ]
    }
   ],
   "source": [
    "working_df_dev['n_tokens_content'] = np.log(working_df_dev['n_tokens_content'])\n",
    "# working_df_dev.drop(columns=['n_tokens_content'], inplace = True)\n",
    "# std_scaler = StandardScaler().fit(working_df_dev[['n_tokens_content']])\n",
    "# scaled_features = std_scaler.transform(working_df_dev[['n_tokens_content']])\n",
    "# working_df_dev[['n_tokens_content']] = scaled_features\n",
    "# working_df_dev['n_tokens_content'].hist()"
   ]
  },
  {
   "attachments": {},
   "cell_type": "markdown",
   "metadata": {},
   "source": [
    "### num_imgs: null values filled with the mean and then scale the feature to logarithmic scale"
   ]
  },
  {
   "cell_type": "code",
   "execution_count": 31,
   "metadata": {},
   "outputs": [
    {
     "name": "stderr",
     "output_type": "stream",
     "text": [
      "/var/tmp/ipykernel_388892/1065005467.py:1: SettingWithCopyWarning: \n",
      "A value is trying to be set on a copy of a slice from a DataFrame\n",
      "\n",
      "See the caveats in the documentation: https://pandas.pydata.org/pandas-docs/stable/user_guide/indexing.html#returning-a-view-versus-a-copy\n",
      "  working_df_dev['num_imgs'].fillna(working_df_dev['num_imgs'].mean(), inplace=True)\n",
      "/var/tmp/ipykernel_388892/1065005467.py:2: SettingWithCopyWarning: \n",
      "A value is trying to be set on a copy of a slice from a DataFrame.\n",
      "Try using .loc[row_indexer,col_indexer] = value instead\n",
      "\n",
      "See the caveats in the documentation: https://pandas.pydata.org/pandas-docs/stable/user_guide/indexing.html#returning-a-view-versus-a-copy\n",
      "  working_df_dev['num_imgs'] = np.log(1+working_df_dev['num_imgs'])\n"
     ]
    }
   ],
   "source": [
    "working_df_dev['num_imgs'].fillna(working_df_dev['num_imgs'].mean(), inplace=True)\n",
    "working_df_dev['num_imgs'] = np.log(1+working_df_dev['num_imgs'])\n",
    "# std_scaler = StandardScaler().fit(working_df_dev[['num_imgs']])\n",
    "# scaled_features = std_scaler.transform(working_df_dev[['num_imgs']])\n",
    "# working_df_dev[['num_imgs']] = scaled_features"
   ]
  },
  {
   "attachments": {},
   "cell_type": "markdown",
   "metadata": {},
   "source": [
    "### num_videos: null values filled with the mean and then scale the feature to logarithmic scale"
   ]
  },
  {
   "cell_type": "code",
   "execution_count": 32,
   "metadata": {},
   "outputs": [
    {
     "name": "stderr",
     "output_type": "stream",
     "text": [
      "/var/tmp/ipykernel_388892/694069239.py:1: SettingWithCopyWarning: \n",
      "A value is trying to be set on a copy of a slice from a DataFrame\n",
      "\n",
      "See the caveats in the documentation: https://pandas.pydata.org/pandas-docs/stable/user_guide/indexing.html#returning-a-view-versus-a-copy\n",
      "  working_df_dev['num_videos'].fillna(working_df_dev['num_videos'].mean(), inplace=True)\n"
     ]
    }
   ],
   "source": [
    "working_df_dev['num_videos'].fillna(working_df_dev['num_videos'].mean(), inplace=True)\n",
    "# std_scaler = StandardScaler().fit(working_df_dev[['num_videos']])\n",
    "# scaled_features = std_scaler.transform(working_df_dev[['num_videos']])\n",
    "# working_df_dev[['num_videos']] = scaled_features"
   ]
  },
  {
   "cell_type": "code",
   "execution_count": 33,
   "metadata": {},
   "outputs": [
    {
     "name": "stderr",
     "output_type": "stream",
     "text": [
      "/var/tmp/ipykernel_388892/998106049.py:3: SettingWithCopyWarning: \n",
      "A value is trying to be set on a copy of a slice from a DataFrame.\n",
      "Try using .loc[row_indexer,col_indexer] = value instead\n",
      "\n",
      "See the caveats in the documentation: https://pandas.pydata.org/pandas-docs/stable/user_guide/indexing.html#returning-a-view-versus-a-copy\n",
      "  working_df_dev[['n_tokens_title', 'n_tokens_content']] = scaled_features\n"
     ]
    }
   ],
   "source": [
    "std_scaler = StandardScaler().fit(working_df_dev[['n_tokens_title', 'n_tokens_content']])\n",
    "scaled_features = std_scaler.transform(working_df_dev[['n_tokens_title', 'n_tokens_content']])\n",
    "working_df_dev[['n_tokens_title', 'n_tokens_content']] = scaled_features\n",
    "\n",
    "# std_scaler = StandardScaler().fit(working_df_dev[['n_tokens_title']])\n",
    "# scaled_features = std_scaler.transform(working_df_dev[['n_tokens_title']])\n",
    "# working_df_dev[['n_tokens_title']] = scaled_features"
   ]
  },
  {
   "cell_type": "code",
   "execution_count": 34,
   "metadata": {},
   "outputs": [
    {
     "name": "stderr",
     "output_type": "stream",
     "text": [
      "/var/tmp/ipykernel_388892/1418335988.py:1: SettingWithCopyWarning: \n",
      "A value is trying to be set on a copy of a slice from a DataFrame.\n",
      "Try using .loc[row_indexer,col_indexer] = value instead\n",
      "\n",
      "See the caveats in the documentation: https://pandas.pydata.org/pandas-docs/stable/user_guide/indexing.html#returning-a-view-versus-a-copy\n",
      "  working_df_dev['shares'] = np.log(working_df_dev['shares'])\n"
     ]
    }
   ],
   "source": [
    "working_df_dev['shares'] = np.log(working_df_dev['shares'])"
   ]
  },
  {
   "cell_type": "code",
   "execution_count": 35,
   "metadata": {},
   "outputs": [
    {
     "name": "stderr",
     "output_type": "stream",
     "text": [
      "/var/tmp/ipykernel_388892/1339260126.py:7: UserWarning: Boolean Series key will be reindexed to match DataFrame index.\n",
      "  working_df_dev = working_df_dev[(df_dev.kw_avg_avg < max_kw_avg_avg) & (df_dev.kw_avg_avg > min_kw_avg_avg)]\n"
     ]
    }
   ],
   "source": [
    "# Remove outliers from kw_avg_avg (we lost another 9% of the dataset)\n",
    "q1 = working_df_dev['kw_avg_avg'].describe()['25%']\n",
    "q3 = working_df_dev['kw_avg_avg'].describe()['75%']\n",
    "iqr = q3 - q1\n",
    "min_kw_avg_avg = q1 - 1.5*iqr\n",
    "max_kw_avg_avg = q3 + 1.5*iqr\n",
    "working_df_dev = working_df_dev[(df_dev.kw_avg_avg < max_kw_avg_avg) & (df_dev.kw_avg_avg > min_kw_avg_avg)]\n",
    "\n",
    "working_df_dev.drop(columns=['kw_avg_min'], inplace=True)\n",
    "\n",
    "std_scaler = StandardScaler().fit(working_df_dev[['kw_avg_max', 'kw_min_avg', 'kw_avg_avg']])\n",
    "scaled_features = std_scaler.transform(working_df_dev[['kw_avg_max', 'kw_min_avg', 'kw_avg_avg']])\n",
    "working_df_dev[['kw_avg_max', 'kw_min_avg', 'kw_avg_avg']] = scaled_features"
   ]
  },
  {
   "cell_type": "code",
   "execution_count": 36,
   "metadata": {},
   "outputs": [],
   "source": [
    "working_df_dev.drop(columns=['self_reference_min_shares', 'self_reference_max_shares', 'self_reference_avg_sharess'], inplace=True)"
   ]
  },
  {
   "attachments": {},
   "cell_type": "markdown",
   "metadata": {},
   "source": [
    "### num_hrefs: logarithmic scale"
   ]
  },
  {
   "cell_type": "code",
   "execution_count": 37,
   "metadata": {},
   "outputs": [],
   "source": [
    "working_df_dev['num_hrefs'] = np.log(1 + working_df_dev['num_hrefs'])\n",
    "# working_df_dev.drop(columns=['num_hrefs'], inplace = True)\n",
    "# std_scaler = StandardScaler().fit(working_df_dev[['num_hrefs']])\n",
    "# scaled_features = std_scaler.transform(working_df_dev[['num_hrefs']])\n",
    "# working_df_dev[['num_hrefs']] = scaled_features"
   ]
  },
  {
   "cell_type": "code",
   "execution_count": 38,
   "metadata": {},
   "outputs": [],
   "source": [
    "working_df_dev.drop(columns=['LDA_01', 'LDA_02', 'LDA_03', 'LDA_04'], inplace=True)"
   ]
  },
  {
   "cell_type": "code",
   "execution_count": 39,
   "metadata": {},
   "outputs": [],
   "source": [
    "# Transform weekdays into a boolean status \"isWeekend\" since we've observed that the principal discrimination is based on\n",
    "# weather the article is published on the weekend or not\n",
    "is_weekend = []\n",
    "for _, row in working_df_dev.iterrows():\n",
    "    if row['weekday_sunday'] == 1 or row['weekday_saturday'] == 1:\n",
    "        is_weekend.append(1)\n",
    "    else:\n",
    "        is_weekend.append(0)\n",
    "working_df_dev['is_weekend'] = is_weekend\n",
    "working_df_dev.drop(columns=[x for x in additional_columns if x.startswith('weekday')], inplace=True)"
   ]
  },
  {
   "cell_type": "code",
   "execution_count": 40,
   "metadata": {},
   "outputs": [],
   "source": [
    "# q1 = df_dev['kw_min_avg'].describe()['25%']\n",
    "# q3 = df_dev['kw_min_avg'].describe()['75%']\n",
    "# iqr = q3 - q1\n",
    "# min_kw_avg_avg = q1 - 1.5*iqr\n",
    "# max_kw_avg_avg = q3 + 1.5*iqr\n",
    "# new_df_kw_avg_avg = df_dev[(df_dev.kw_avg_avg < max_kw_avg_avg) & (df_dev.kw_avg_avg > min_kw_avg_avg)]\n",
    "# print(len(new_df_kw_avg_avg), len(df_dev))\n",
    "# print(len(new_df_kw_avg_avg) / len(df_dev))"
   ]
  },
  {
   "cell_type": "code",
   "execution_count": 41,
   "metadata": {},
   "outputs": [
    {
     "name": "stderr",
     "output_type": "stream",
     "text": [
      "/var/tmp/ipykernel_388892/706698007.py:3: FutureWarning: Not prepending group keys to the result index of transform-like apply. In the future, the group keys will be included in the index, regardless of whether the applied function returns a like-indexed object.\n",
      "To preserve the previous behavior, use\n",
      "\n",
      "\t>>> .groupby(..., group_keys=False)\n",
      "\n",
      "To adopt the future behavior and silence this warning, use \n",
      "\n",
      "\t>>> .groupby(..., group_keys=True)\n",
      "  working_df_dev['num_keywords'] = df_dev.groupby(['data_channel'], sort=False)['num_keywords'].apply(lambda x: x.fillna(x.mean())).reset_index()['num_keywords']\n"
     ]
    },
    {
     "data": {
      "text/plain": [
       "<Axes: >"
      ]
     },
     "execution_count": 41,
     "metadata": {},
     "output_type": "execute_result"
    },
    {
     "data": {
      "image/png": "[encoded data removed]",
      "text/plain": [
       "<Figure size 640x480 with 1 Axes>"
      ]
     },
     "metadata": {},
     "output_type": "display_data"
    }
   ],
   "source": [
    "# Num Keywords improve its distribution when we fill the NaN values with the mean based on the data channel\n",
    "new_df_keywords = df_dev.copy()\n",
    "working_df_dev['num_keywords'] = df_dev.groupby(['data_channel'], sort=False)['num_keywords'].apply(lambda x: x.fillna(x.mean())).reset_index()['num_keywords']\n",
    "\n",
    "std_scaler = StandardScaler().fit(working_df_dev[['num_keywords']])\n",
    "scaled_features = std_scaler.transform(working_df_dev[['num_keywords']])\n",
    "working_df_dev[['num_keywords']] = scaled_features"
   ]
  },
  {
   "cell_type": "code",
   "execution_count": 42,
   "metadata": {},
   "outputs": [],
   "source": [
    "\n",
    "# working_df_dev.drop(columns=['kw_min_avg',\n",
    "# 'rate_negative_words',\n",
    "# 'title_sentiment_polarity',\n",
    "# 'num_keywords',\n",
    "# 'min_positive_polarity',\n",
    "# 'max_positive_polarity',\n",
    "# 'is_weekend',\n",
    "# 'data_channel_tech',\n",
    "# 'data_channel_entertainment',\n",
    "# 'data_channel_socmed',\n",
    "# 'data_channel_lifestyle',\n",
    "# 'data_channel_world',\n",
    "# 'num_imgs',\n",
    "# 'num_videos',\n",
    "# 'global_rate_negative_words',\n",
    "# ], inplace=True)"
   ]
  },
  {
   "cell_type": "code",
   "execution_count": 43,
   "metadata": {},
   "outputs": [],
   "source": [
    "X = working_df_dev.drop(columns=[\"shares\"]).values\n",
    "y = working_df_dev[\"shares\"].values\n",
    "\n",
    "X_train, X_valid, y_train, y_valid = train_test_split(X, y, shuffle=True, random_state=42)"
   ]
  },
  {
   "cell_type": "code",
   "execution_count": 44,
   "metadata": {},
   "outputs": [],
   "source": [
    "params = {\n",
    "    \"n_estimators\": 500,\n",
    "    \"max_depth\": 4,\n",
    "    \"min_samples_split\": 5,\n",
    "    \"learning_rate\": 0.01,\n",
    "    \"loss\": \"squared_error\",\n",
    "}"
   ]
  },
  {
   "cell_type": "code",
   "execution_count": 45,
   "metadata": {},
   "outputs": [
    {
     "data": {
      "text/plain": [
       "(29450, 29)"
      ]
     },
     "execution_count": 45,
     "metadata": {},
     "output_type": "execute_result"
    }
   ],
   "source": [
    "working_df_dev.shape"
   ]
  },
  {
   "attachments": {},
   "cell_type": "markdown",
   "metadata": {},
   "source": [
    "### all the features has been used to train xgboost regressor and others. I tried also to decrease the number but the score decreases"
   ]
  },
  {
   "cell_type": "code",
   "execution_count": 46,
   "metadata": {},
   "outputs": [
    {
     "name": "stdout",
     "output_type": "stream",
     "text": [
      "0.8284079540053488\n",
      "0.13173807750635036\n"
     ]
    }
   ],
   "source": [
    "\n",
    "xgbr = XGBRegressor(n_estimators=500, learning_rate=0.01, eval_metric = 'rmsle')\n",
    "xgb_r = xgbr.fit(X_train, y_train)\n",
    "pred = xgb_r.predict(X_valid)\n",
    "rms = mean_squared_error(y_valid, pred, squared=False)\n",
    "print(rms)\n",
    "r2 = r2_score(y_valid, pred)\n",
    "adj_r2 = 1-(1-r2)*(len(X_valid) - 1)/(len(X_valid) - X_valid.shape[1] - 1)\n",
    "print(adj_r2)"
   ]
  },
  {
   "cell_type": "code",
   "execution_count": 53,
   "metadata": {},
   "outputs": [
    {
     "name": "stdout",
     "output_type": "stream",
     "text": [
      "0.8378287510810143\n",
      "0.11187774196721634\n"
     ]
    }
   ],
   "source": [
    "rreg = RandomForestRegressor(n_estimators=100)\n",
    "rreg.fit(X_train, y_train)\n",
    "rms = mean_squared_error(y_valid, rreg.predict(X_valid), squared=False)\n",
    "print(rms)\n",
    "r2 = r2_score(y_valid, rreg.predict(X_valid))\n",
    "adj_r2 = 1-(1-r2)*(len(X_valid) - 1)/(len(X_valid) - X_valid.shape[1] - 1)\n",
    "print(adj_r2)"
   ]
  },
  {
   "attachments": {},
   "cell_type": "markdown",
   "metadata": {},
   "source": [
    "### recall that for each of these models you can check the feature importance, so that remove some features"
   ]
  },
  {
   "cell_type": "code",
   "execution_count": 47,
   "metadata": {},
   "outputs": [
    {
     "data": {
      "text/plain": [
       "[('data_channel_tech', 0.1563371),\n",
       " ('kw_avg_avg', 0.12027372),\n",
       " ('data_channel_socmed', 0.07851338),\n",
       " ('data_channel_entertainment', 0.07000306),\n",
       " ('is_weekend', 0.056433074),\n",
       " ('data_channel_lifestyle', 0.033759877),\n",
       " ('kw_min_avg', 0.033008665),\n",
       " ('data_channel_world', 0.03147098),\n",
       " ('num_hrefs', 0.026406191),\n",
       " ('min_positive_polarity', 0.025813013),\n",
       " ('global_subjectivity', 0.02474313),\n",
       " ('num_videos', 0.0245458),\n",
       " ('kw_avg_max', 0.024481896),\n",
       " ('num_imgs', 0.022690505),\n",
       " ('title_subjectivity', 0.022096708),\n",
       " ('title_sentiment_polarity', 0.021878142),\n",
       " ('global_sentiment_polarity', 0.021053853),\n",
       " ('n_tokens_content', 0.020581577),\n",
       " ('average_token_length', 0.020086395),\n",
       " ('global_rate_negative_words', 0.020071955),\n",
       " ('avg_negative_polarity', 0.02002607),\n",
       " ('n_non_stop_unique_tokens', 0.020018425),\n",
       " ('rate_negative_words', 0.019788092),\n",
       " ('avg_positive_polarity', 0.019588307),\n",
       " ('global_rate_positive_words', 0.01914742),\n",
       " ('max_positive_polarity', 0.018795239),\n",
       " ('num_keywords', 0.015723076),\n",
       " ('n_tokens_title', 0.012664358)]"
      ]
     },
     "execution_count": 47,
     "metadata": {},
     "output_type": "execute_result"
    }
   ],
   "source": [
    "feature_names = working_df_dev.drop(columns=[\"shares\"]).columns\n",
    "sorted(zip(feature_names, xgb_r.feature_importances_), key=lambda x: x[1], reverse=True)"
   ]
  },
  {
   "cell_type": "code",
   "execution_count": 56,
   "metadata": {},
   "outputs": [
    {
     "name": "stderr",
     "output_type": "stream",
     "text": [
      "/var/tmp/ipykernel_388892/829552089.py:40: FutureWarning: Not prepending group keys to the result index of transform-like apply. In the future, the group keys will be included in the index, regardless of whether the applied function returns a like-indexed object.\n",
      "To preserve the previous behavior, use\n",
      "\n",
      "\t>>> .groupby(..., group_keys=False)\n",
      "\n",
      "To adopt the future behavior and silence this warning, use \n",
      "\n",
      "\t>>> .groupby(..., group_keys=True)\n",
      "  working_df_eval['num_keywords'] = df_dev.groupby(['data_channel'], sort=False)['num_keywords'].apply(lambda x: x.fillna(x.mean())).reset_index()['num_keywords']\n"
     ]
    }
   ],
   "source": [
    "enc = OneHotEncoder()\n",
    "encoded_df = pd.concat([df_eval['weekday'], df_eval['data_channel']], axis=1)\n",
    "enc.fit(encoded_df)\n",
    "encoded_df = enc.transform(encoded_df)\n",
    "additional_columns = enc.get_feature_names_out()\n",
    "working_df_eval = df_eval.copy()\n",
    "working_df_eval[additional_columns] = encoded_df.toarray()\n",
    "working_df_eval.drop(['weekday', 'data_channel', 'url', 'id'], axis = 1, inplace=True)\n",
    "working_df_eval.drop(columns=['n_unique_tokens','n_non_stop_words','kw_max_min','kw_min_max','kw_max_avg','abs_title_sentiment_polarity',\n",
    "                     'abs_title_subjectivity','rate_positive_words','timedelta','max_negative_polarity','min_negative_polarity',\n",
    "                     'kw_min_min','kw_max_max','num_self_hrefs','data_channel_bus','LDA_00'], inplace=True)\n",
    "working_df_eval['n_tokens_content'] = np.log(1+working_df_eval['n_tokens_content'])\n",
    "working_df_eval['num_imgs'].fillna(working_df_eval['num_imgs'].mean(), inplace=True)\n",
    "working_df_eval['num_imgs'] = np.log(1+working_df_eval['num_imgs'])\n",
    "working_df_eval['num_videos'].fillna(working_df_eval['num_videos'].mean(), inplace=True)\n",
    "std_scaler = StandardScaler().fit(working_df_eval[['n_tokens_title', 'n_tokens_content']])\n",
    "scaled_features = std_scaler.transform(working_df_eval[['n_tokens_title', 'n_tokens_content']])\n",
    "working_df_eval[['n_tokens_title', 'n_tokens_content']] = scaled_features\n",
    "\n",
    "working_df_eval.drop(columns=['kw_avg_min'], inplace=True)\n",
    "\n",
    "std_scaler = StandardScaler().fit(working_df_eval[['kw_avg_max', 'kw_min_avg', 'kw_avg_avg']])\n",
    "scaled_features = std_scaler.transform(working_df_eval[['kw_avg_max', 'kw_min_avg', 'kw_avg_avg']])\n",
    "working_df_eval[['kw_avg_max', 'kw_min_avg', 'kw_avg_avg']] = scaled_features\n",
    "working_df_eval.drop(columns=['self_reference_min_shares', 'self_reference_max_shares', 'self_reference_avg_sharess'], inplace=True)\n",
    "working_df_eval['num_hrefs'] = np.log(1 + working_df_eval['num_hrefs'])\n",
    "working_df_eval.drop(columns=['LDA_01', 'LDA_02', 'LDA_03', 'LDA_04'], inplace=True)\n",
    "# Transform weekdays into a boolean status \"isWeekend\" since we've observed that the principal discrimination is based on\n",
    "# weather the article is published on the weekend or not\n",
    "is_weekend = []\n",
    "for _, row in working_df_eval.iterrows():\n",
    "    if row['weekday_sunday'] == 1 or row['weekday_saturday'] == 1:\n",
    "        is_weekend.append(1)\n",
    "    else:\n",
    "        is_weekend.append(0)\n",
    "working_df_eval['is_weekend'] = is_weekend\n",
    "working_df_eval.drop(columns=[x for x in additional_columns if x.startswith('weekday')], inplace=True)\n",
    "# Num Keywords improve its distribution when we fill the NaN values with the mean based on the data channel\n",
    "new_df_keywords = df_dev.copy()\n",
    "working_df_eval['num_keywords'] = df_dev.groupby(['data_channel'], sort=False)['num_keywords'].apply(lambda x: x.fillna(x.mean())).reset_index()['num_keywords']\n",
    "\n",
    "std_scaler = StandardScaler().fit(working_df_eval[['num_keywords']])\n",
    "scaled_features = std_scaler.transform(working_df_eval[['num_keywords']])\n",
    "working_df_eval[['num_keywords']] = scaled_features\n",
    "# working_df_eval.drop(columns=['kw_min_avg','rate_negative_words','title_sentiment_polarity','num_keywords','min_positive_polarity','max_positive_polarity','is_weekend','data_channel_tech','data_channel_entertainment','data_channel_socmed','data_channel_lifestyle','data_channel_world', 'num_imgs', 'num_videos',\n",
    "#                               'global_rate_negative_words', 'global_sentiment_polarity', 'avg_negative_polarity', 'num_hrefs', 'n_tokens_title', 'title_subjectivity',], inplace=True)\n"
   ]
  },
  {
   "cell_type": "code",
   "execution_count": 57,
   "metadata": {},
   "outputs": [],
   "source": [
    "X = working_df_dev.drop(columns=[\"shares\"]).values\n",
    "y = working_df_dev[\"shares\"].values"
   ]
  },
  {
   "cell_type": "code",
   "execution_count": 50,
   "metadata": {},
   "outputs": [
    {
     "data": {
      "text/html": [
       "<style>#sk-container-id-1 {color: black;background-color: white;}#sk-container-id-1 pre{padding: 0;}#sk-container-id-1 div.sk-toggleable {background-color: white;}#sk-container-id-1 label.sk-toggleable__label {cursor: pointer;display: block;width: 100%;margin-bottom: 0;padding: 0.3em;box-sizing: border-box;text-align: center;}#sk-container-id-1 label.sk-toggleable__label-arrow:before {content: \"▸\";float: left;margin-right: 0.25em;color: #696969;}#sk-container-id-1 label.sk-toggleable__label-arrow:hover:before {color: black;}#sk-container-id-1 div.sk-estimator:hover label.sk-toggleable__label-arrow:before {color: black;}#sk-container-id-1 div.sk-toggleable__content {max-height: 0;max-width: 0;overflow: hidden;text-align: left;background-color: #f0f8ff;}#sk-container-id-1 div.sk-toggleable__content pre {margin: 0.2em;color: black;border-radius: 0.25em;background-color: #f0f8ff;}#sk-container-id-1 input.sk-toggleable__control:checked~div.sk-toggleable__content {max-height: 200px;max-width: 100%;overflow: auto;}#sk-container-id-1 input.sk-toggleable__control:checked~label.sk-toggleable__label-arrow:before {content: \"▾\";}#sk-container-id-1 div.sk-estimator input.sk-toggleable__control:checked~label.sk-toggleable__label {background-color: #d4ebff;}#sk-container-id-1 div.sk-label input.sk-toggleable__control:checked~label.sk-toggleable__label {background-color: #d4ebff;}#sk-container-id-1 input.sk-hidden--visually {border: 0;clip: rect(1px 1px 1px 1px);clip: rect(1px, 1px, 1px, 1px);height: 1px;margin: -1px;overflow: hidden;padding: 0;position: absolute;width: 1px;}#sk-container-id-1 div.sk-estimator {font-family: monospace;background-color: #f0f8ff;border: 1px dotted black;border-radius: 0.25em;box-sizing: border-box;margin-bottom: 0.5em;}#sk-container-id-1 div.sk-estimator:hover {background-color: #d4ebff;}#sk-container-id-1 div.sk-parallel-item::after {content: \"\";width: 100%;border-bottom: 1px solid gray;flex-grow: 1;}#sk-container-id-1 div.sk-label:hover label.sk-toggleable__label {background-color: #d4ebff;}#sk-container-id-1 div.sk-serial::before {content: \"\";position: absolute;border-left: 1px solid gray;box-sizing: border-box;top: 0;bottom: 0;left: 50%;z-index: 0;}#sk-container-id-1 div.sk-serial {display: flex;flex-direction: column;align-items: center;background-color: white;padding-right: 0.2em;padding-left: 0.2em;position: relative;}#sk-container-id-1 div.sk-item {position: relative;z-index: 1;}#sk-container-id-1 div.sk-parallel {display: flex;align-items: stretch;justify-content: center;background-color: white;position: relative;}#sk-container-id-1 div.sk-item::before, #sk-container-id-1 div.sk-parallel-item::before {content: \"\";position: absolute;border-left: 1px solid gray;box-sizing: border-box;top: 0;bottom: 0;left: 50%;z-index: -1;}#sk-container-id-1 div.sk-parallel-item {display: flex;flex-direction: column;z-index: 1;position: relative;background-color: white;}#sk-container-id-1 div.sk-parallel-item:first-child::after {align-self: flex-end;width: 50%;}#sk-container-id-1 div.sk-parallel-item:last-child::after {align-self: flex-start;width: 50%;}#sk-container-id-1 div.sk-parallel-item:only-child::after {width: 0;}#sk-container-id-1 div.sk-dashed-wrapped {border: 1px dashed gray;margin: 0 0.4em 0.5em 0.4em;box-sizing: border-box;padding-bottom: 0.4em;background-color: white;}#sk-container-id-1 div.sk-label label {font-family: monospace;font-weight: bold;display: inline-block;line-height: 1.2em;}#sk-container-id-1 div.sk-label-container {text-align: center;}#sk-container-id-1 div.sk-container {/* jupyter's `normalize.less` sets `[hidden] { display: none; }` but bootstrap.min.css set `[hidden] { display: none !important; }` so we also need the `!important` here to be able to override the default hidden behavior on the sphinx rendered scikit-learn.org. See: https://github.com/scikit-learn/scikit-learn/issues/21755 */display: inline-block !important;position: relative;}#sk-container-id-1 div.sk-text-repr-fallback {display: none;}</style><div id=\"sk-container-id-1\" class=\"sk-top-container\"><div class=\"sk-text-repr-fallback\"><pre>XGBRegressor(base_score=None, booster=None, callbacks=None,\n",
       "             colsample_bylevel=None, colsample_bynode=None,\n",
       "             colsample_bytree=None, early_stopping_rounds=None,\n",
       "             enable_categorical=False, eval_metric=&#x27;rmsle&#x27;, feature_types=None,\n",
       "             gamma=None, gpu_id=None, grow_policy=None, importance_type=None,\n",
       "             interaction_constraints=None, learning_rate=0.01, max_bin=None,\n",
       "             max_cat_threshold=None, max_cat_to_onehot=None,\n",
       "             max_delta_step=None, max_depth=None, max_leaves=None,\n",
       "             min_child_weight=None, missing=nan, monotone_constraints=None,\n",
       "             n_estimators=500, n_jobs=None, num_parallel_tree=None,\n",
       "             predictor=None, random_state=None, ...)</pre><b>In a Jupyter environment, please rerun this cell to show the HTML representation or trust the notebook. <br />On GitHub, the HTML representation is unable to render, please try loading this page with nbviewer.org.</b></div><div class=\"sk-container\" hidden><div class=\"sk-item\"><div class=\"sk-estimator sk-toggleable\"><input class=\"sk-toggleable__control sk-hidden--visually\" id=\"sk-estimator-id-1\" type=\"checkbox\" checked><label for=\"sk-estimator-id-1\" class=\"sk-toggleable__label sk-toggleable__label-arrow\">XGBRegressor</label><div class=\"sk-toggleable__content\"><pre>XGBRegressor(base_score=None, booster=None, callbacks=None,\n",
       "             colsample_bylevel=None, colsample_bynode=None,\n",
       "             colsample_bytree=None, early_stopping_rounds=None,\n",
       "             enable_categorical=False, eval_metric=&#x27;rmsle&#x27;, feature_types=None,\n",
       "             gamma=None, gpu_id=None, grow_policy=None, importance_type=None,\n",
       "             interaction_constraints=None, learning_rate=0.01, max_bin=None,\n",
       "             max_cat_threshold=None, max_cat_to_onehot=None,\n",
       "             max_delta_step=None, max_depth=None, max_leaves=None,\n",
       "             min_child_weight=None, missing=nan, monotone_constraints=None,\n",
       "             n_estimators=500, n_jobs=None, num_parallel_tree=None,\n",
       "             predictor=None, random_state=None, ...)</pre></div></div></div></div></div>"
      ],
      "text/plain": [
       "XGBRegressor(base_score=None, booster=None, callbacks=None,\n",
       "             colsample_bylevel=None, colsample_bynode=None,\n",
       "             colsample_bytree=None, early_stopping_rounds=None,\n",
       "             enable_categorical=False, eval_metric='rmsle', feature_types=None,\n",
       "             gamma=None, gpu_id=None, grow_policy=None, importance_type=None,\n",
       "             interaction_constraints=None, learning_rate=0.01, max_bin=None,\n",
       "             max_cat_threshold=None, max_cat_to_onehot=None,\n",
       "             max_delta_step=None, max_depth=None, max_leaves=None,\n",
       "             min_child_weight=None, missing=nan, monotone_constraints=None,\n",
       "             n_estimators=500, n_jobs=None, num_parallel_tree=None,\n",
       "             predictor=None, random_state=None, ...)"
      ]
     },
     "execution_count": 50,
     "metadata": {},
     "output_type": "execute_result"
    }
   ],
   "source": [
    "xgbr = XGBRegressor(n_estimators=500, learning_rate=0.01, eval_metric = 'rmsle')\n",
    "xgb_r = xgbr.fit(X, y)\n",
    "xgb_r.fit(X, y)"
   ]
  },
  {
   "cell_type": "code",
   "execution_count": 51,
   "metadata": {},
   "outputs": [],
   "source": [
    "X_test = working_df_eval.values\n",
    "\n",
    "y_pred = xgb_r.predict(X_test)\n",
    "final_preds = np.exp(y_pred)\n",
    "\n",
    "id_col = df_eval['id']\n",
    "new_df = pd.DataFrame(columns=['Id', 'Predicted'])\n",
    "new_df['Id'] = id_col\n",
    "new_df['Predicted'] = final_preds\n",
    "\n",
    "new_df.to_csv('../output.csv', columns=['Id','Predicted'], index=False)"
   ]
  },
  {
   "cell_type": "code",
   "execution_count": 59,
   "metadata": {},
   "outputs": [
    {
     "data": {
      "text/html": [
       "<style>#sk-container-id-2 {color: black;background-color: white;}#sk-container-id-2 pre{padding: 0;}#sk-container-id-2 div.sk-toggleable {background-color: white;}#sk-container-id-2 label.sk-toggleable__label {cursor: pointer;display: block;width: 100%;margin-bottom: 0;padding: 0.3em;box-sizing: border-box;text-align: center;}#sk-container-id-2 label.sk-toggleable__label-arrow:before {content: \"▸\";float: left;margin-right: 0.25em;color: #696969;}#sk-container-id-2 label.sk-toggleable__label-arrow:hover:before {color: black;}#sk-container-id-2 div.sk-estimator:hover label.sk-toggleable__label-arrow:before {color: black;}#sk-container-id-2 div.sk-toggleable__content {max-height: 0;max-width: 0;overflow: hidden;text-align: left;background-color: #f0f8ff;}#sk-container-id-2 div.sk-toggleable__content pre {margin: 0.2em;color: black;border-radius: 0.25em;background-color: #f0f8ff;}#sk-container-id-2 input.sk-toggleable__control:checked~div.sk-toggleable__content {max-height: 200px;max-width: 100%;overflow: auto;}#sk-container-id-2 input.sk-toggleable__control:checked~label.sk-toggleable__label-arrow:before {content: \"▾\";}#sk-container-id-2 div.sk-estimator input.sk-toggleable__control:checked~label.sk-toggleable__label {background-color: #d4ebff;}#sk-container-id-2 div.sk-label input.sk-toggleable__control:checked~label.sk-toggleable__label {background-color: #d4ebff;}#sk-container-id-2 input.sk-hidden--visually {border: 0;clip: rect(1px 1px 1px 1px);clip: rect(1px, 1px, 1px, 1px);height: 1px;margin: -1px;overflow: hidden;padding: 0;position: absolute;width: 1px;}#sk-container-id-2 div.sk-estimator {font-family: monospace;background-color: #f0f8ff;border: 1px dotted black;border-radius: 0.25em;box-sizing: border-box;margin-bottom: 0.5em;}#sk-container-id-2 div.sk-estimator:hover {background-color: #d4ebff;}#sk-container-id-2 div.sk-parallel-item::after {content: \"\";width: 100%;border-bottom: 1px solid gray;flex-grow: 1;}#sk-container-id-2 div.sk-label:hover label.sk-toggleable__label {background-color: #d4ebff;}#sk-container-id-2 div.sk-serial::before {content: \"\";position: absolute;border-left: 1px solid gray;box-sizing: border-box;top: 0;bottom: 0;left: 50%;z-index: 0;}#sk-container-id-2 div.sk-serial {display: flex;flex-direction: column;align-items: center;background-color: white;padding-right: 0.2em;padding-left: 0.2em;position: relative;}#sk-container-id-2 div.sk-item {position: relative;z-index: 1;}#sk-container-id-2 div.sk-parallel {display: flex;align-items: stretch;justify-content: center;background-color: white;position: relative;}#sk-container-id-2 div.sk-item::before, #sk-container-id-2 div.sk-parallel-item::before {content: \"\";position: absolute;border-left: 1px solid gray;box-sizing: border-box;top: 0;bottom: 0;left: 50%;z-index: -1;}#sk-container-id-2 div.sk-parallel-item {display: flex;flex-direction: column;z-index: 1;position: relative;background-color: white;}#sk-container-id-2 div.sk-parallel-item:first-child::after {align-self: flex-end;width: 50%;}#sk-container-id-2 div.sk-parallel-item:last-child::after {align-self: flex-start;width: 50%;}#sk-container-id-2 div.sk-parallel-item:only-child::after {width: 0;}#sk-container-id-2 div.sk-dashed-wrapped {border: 1px dashed gray;margin: 0 0.4em 0.5em 0.4em;box-sizing: border-box;padding-bottom: 0.4em;background-color: white;}#sk-container-id-2 div.sk-label label {font-family: monospace;font-weight: bold;display: inline-block;line-height: 1.2em;}#sk-container-id-2 div.sk-label-container {text-align: center;}#sk-container-id-2 div.sk-container {/* jupyter's `normalize.less` sets `[hidden] { display: none; }` but bootstrap.min.css set `[hidden] { display: none !important; }` so we also need the `!important` here to be able to override the default hidden behavior on the sphinx rendered scikit-learn.org. See: https://github.com/scikit-learn/scikit-learn/issues/21755 */display: inline-block !important;position: relative;}#sk-container-id-2 div.sk-text-repr-fallback {display: none;}</style><div id=\"sk-container-id-2\" class=\"sk-top-container\"><div class=\"sk-text-repr-fallback\"><pre>RandomForestRegressor(n_estimators=200)</pre><b>In a Jupyter environment, please rerun this cell to show the HTML representation or trust the notebook. <br />On GitHub, the HTML representation is unable to render, please try loading this page with nbviewer.org.</b></div><div class=\"sk-container\" hidden><div class=\"sk-item\"><div class=\"sk-estimator sk-toggleable\"><input class=\"sk-toggleable__control sk-hidden--visually\" id=\"sk-estimator-id-2\" type=\"checkbox\" checked><label for=\"sk-estimator-id-2\" class=\"sk-toggleable__label sk-toggleable__label-arrow\">RandomForestRegressor</label><div class=\"sk-toggleable__content\"><pre>RandomForestRegressor(n_estimators=200)</pre></div></div></div></div></div>"
      ],
      "text/plain": [
       "RandomForestRegressor(n_estimators=200)"
      ]
     },
     "execution_count": 59,
     "metadata": {},
     "output_type": "execute_result"
    }
   ],
   "source": [
    "rreg = RandomForestRegressor(n_estimators=200)\n",
    "randreg = rreg.fit(X, y)\n",
    "randreg.fit(X, y)"
   ]
  },
  {
   "cell_type": "code",
   "execution_count": 60,
   "metadata": {},
   "outputs": [],
   "source": [
    "X_test = working_df_eval.values\n",
    "\n",
    "y_pred = randreg.predict(X_test)\n",
    "final_preds = np.exp(y_pred)\n",
    "\n",
    "id_col = df_eval['id']\n",
    "new_df = pd.DataFrame(columns=['Id', 'Predicted'])\n",
    "new_df['Id'] = id_col\n",
    "new_df['Predicted'] = final_preds\n",
    "\n",
    "new_df.to_csv('../output.csv', columns=['Id','Predicted'], index=False)"
   ]
  },
  {
   "cell_type": "code",
   "execution_count": 61,
   "metadata": {},
   "outputs": [
    {
     "name": "stdout",
     "output_type": "stream",
     "text": [
      "0.8678733488773915\n",
      "0.0470394129484184\n"
     ]
    }
   ],
   "source": []
  },
  {
   "cell_type": "code",
   "execution_count": null,
   "metadata": {},
   "outputs": [],
   "source": []
  }
 ],
 "metadata": {
  "kernelspec": {
   "display_name": "thesis",
   "language": "python",
   "name": "python3"
  },
  "language_info": {
   "codemirror_mode": {
    "name": "ipython",
    "version": 3
   },
   "file_extension": ".py",
   "mimetype": "text/x-python",
   "name": "python",
   "nbconvert_exporter": "python",
   "pygments_lexer": "ipython3",
   "version": "3.8.0"
  },
  "orig_nbformat": 4
 },
 "nbformat": 4,
 "nbformat_minor": 2
}
