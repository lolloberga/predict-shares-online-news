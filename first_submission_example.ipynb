{
 "cells": [
  {
   "cell_type": "code",
   "execution_count": 3,
   "metadata": {
    "collapsed": true,
    "ExecuteTime": {
     "end_time": "2023-06-06T23:22:50.409904Z",
     "start_time": "2023-06-06T23:22:50.342984Z"
    }
   },
   "outputs": [],
   "source": [
    "import pandas as pd\n",
    "from sklearn.preprocessing import OneHotEncoder\n",
    "import numpy as np\n",
    "\n",
    "from sklearn.preprocessing import StandardScaler\n",
    "from sklearn.preprocessing import PolynomialFeatures\n",
    "\n",
    "from sklearn.model_selection import train_test_split\n",
    "\n",
    "from sklearn.ensemble import RandomForestRegressor\n",
    "from sklearn.linear_model import LinearRegression\n",
    "\n",
    "from sklearn.metrics import mean_squared_error\n",
    "from sklearn.metrics import r2_score"
   ]
  },
  {
   "cell_type": "code",
   "execution_count": 13,
   "outputs": [],
   "source": [
    "df_dev = pd.read_csv('dataset/development.csv')\n",
    "df_eval = pd.read_csv('dataset/evaluation.csv')"
   ],
   "metadata": {
    "collapsed": false,
    "ExecuteTime": {
     "end_time": "2023-06-06T23:29:03.409494Z",
     "start_time": "2023-06-06T23:29:00.529311Z"
    }
   }
  },
  {
   "cell_type": "markdown",
   "source": [
    "## Preprocessing"
   ],
   "metadata": {
    "collapsed": false
   }
  },
  {
   "cell_type": "code",
   "execution_count": 16,
   "outputs": [],
   "source": [
    "def final_preprocessing(df):\n",
    "    df_preproc = df.copy()\n",
    "    enc = OneHotEncoder()\n",
    "    encoded_df = pd.concat([df_preproc['weekday'], df_preproc['data_channel']], axis=1)\n",
    "    enc.fit(encoded_df)\n",
    "    encoded_df = enc.transform(encoded_df)\n",
    "    additional_columns = enc.get_feature_names_out()\n",
    "    df_preproc[additional_columns] = encoded_df.toarray()\n",
    "    df_preproc.drop(['weekday', 'data_channel', 'url', 'id'], axis = 1, inplace=True)\n",
    "    df_preproc.drop(columns=['n_unique_tokens','n_non_stop_words','kw_max_min','kw_min_max','kw_max_avg','abs_title_sentiment_polarity',\n",
    "                                 'abs_title_subjectivity','rate_positive_words','timedelta','max_negative_polarity','min_negative_polarity',\n",
    "                                 'kw_min_min','kw_max_max','num_self_hrefs','data_channel_bus','LDA_00'], inplace=True)\n",
    "    df_preproc = df_preproc.query(\"n_tokens_content > 0\")\n",
    "    df_preproc['n_tokens_content'] = np.log(df_preproc['n_tokens_content'])\n",
    "    df_preproc['num_imgs'].fillna(0, inplace=True)\n",
    "    df_preproc['num_imgs'] = np.log(1+df_preproc['num_imgs'])\n",
    "    df_preproc['num_videos'].fillna(0, inplace=True)\n",
    "    df_preproc['num_videos'] = np.log(1+df_preproc['num_videos'])\n",
    "    std_scaler = StandardScaler().fit(df_preproc[['n_tokens_title', 'n_tokens_content']])\n",
    "    scaled_features = std_scaler.transform(df_preproc[['n_tokens_title', 'n_tokens_content']])\n",
    "    df_preproc[['n_tokens_title', 'n_tokens_content']] = scaled_features\n",
    "    df_preproc['avg_negative_polarity'] = df_preproc['avg_negative_polarity'].abs()\n",
    "    df_preproc['num_keywords'].fillna(0, inplace=True)\n",
    "    if 'shares' in df_preproc.columns:\n",
    "        df_preproc['shares'] = np.log(df_preproc['shares'])\n",
    "    std_scaler = StandardScaler().fit(df_preproc[['kw_avg_min', 'kw_avg_max', 'kw_min_avg', 'kw_avg_avg']])\n",
    "    scaled_features = std_scaler.transform(df_preproc[['kw_avg_min', 'kw_avg_max', 'kw_min_avg', 'kw_avg_avg']])\n",
    "    df_preproc[['kw_avg_min', 'kw_avg_max', 'kw_min_avg', 'kw_avg_avg']] = scaled_features\n",
    "    std_scaler = StandardScaler().fit(df_preproc[['self_reference_min_shares', 'self_reference_max_shares', 'self_reference_avg_sharess']])\n",
    "    scaled_features = std_scaler.transform(df_preproc[['self_reference_min_shares', 'self_reference_max_shares', 'self_reference_avg_sharess']])\n",
    "    df_preproc[['self_reference_min_shares', 'self_reference_max_shares', 'self_reference_avg_sharess']] = scaled_features\n",
    "    return df_preproc"
   ],
   "metadata": {
    "collapsed": false,
    "ExecuteTime": {
     "end_time": "2023-06-06T23:30:32.173995Z",
     "start_time": "2023-06-06T23:30:32.057284Z"
    }
   }
  },
  {
   "cell_type": "code",
   "execution_count": 15,
   "outputs": [
    {
     "name": "stderr",
     "output_type": "stream",
     "text": [
      "/var/folders/6w/dmgtk2bn4jx1mdj87jl8c6sh0000gn/T/ipykernel_3339/1078777751.py:14: SettingWithCopyWarning: \n",
      "A value is trying to be set on a copy of a slice from a DataFrame.\n",
      "Try using .loc[row_indexer,col_indexer] = value instead\n",
      "\n",
      "See the caveats in the documentation: https://pandas.pydata.org/pandas-docs/stable/user_guide/indexing.html#returning-a-view-versus-a-copy\n",
      "  df_preproc['n_tokens_content'] = np.log(df_preproc['n_tokens_content'])\n",
      "/var/folders/6w/dmgtk2bn4jx1mdj87jl8c6sh0000gn/T/ipykernel_3339/1078777751.py:15: SettingWithCopyWarning: \n",
      "A value is trying to be set on a copy of a slice from a DataFrame\n",
      "\n",
      "See the caveats in the documentation: https://pandas.pydata.org/pandas-docs/stable/user_guide/indexing.html#returning-a-view-versus-a-copy\n",
      "  df_preproc['num_imgs'].fillna(0, inplace=True)\n",
      "/var/folders/6w/dmgtk2bn4jx1mdj87jl8c6sh0000gn/T/ipykernel_3339/1078777751.py:16: SettingWithCopyWarning: \n",
      "A value is trying to be set on a copy of a slice from a DataFrame.\n",
      "Try using .loc[row_indexer,col_indexer] = value instead\n",
      "\n",
      "See the caveats in the documentation: https://pandas.pydata.org/pandas-docs/stable/user_guide/indexing.html#returning-a-view-versus-a-copy\n",
      "  df_preproc['num_imgs'] = np.log(1+df_preproc['num_imgs'])\n",
      "/var/folders/6w/dmgtk2bn4jx1mdj87jl8c6sh0000gn/T/ipykernel_3339/1078777751.py:17: SettingWithCopyWarning: \n",
      "A value is trying to be set on a copy of a slice from a DataFrame\n",
      "\n",
      "See the caveats in the documentation: https://pandas.pydata.org/pandas-docs/stable/user_guide/indexing.html#returning-a-view-versus-a-copy\n",
      "  df_preproc['num_videos'].fillna(0, inplace=True)\n",
      "/var/folders/6w/dmgtk2bn4jx1mdj87jl8c6sh0000gn/T/ipykernel_3339/1078777751.py:18: SettingWithCopyWarning: \n",
      "A value is trying to be set on a copy of a slice from a DataFrame.\n",
      "Try using .loc[row_indexer,col_indexer] = value instead\n",
      "\n",
      "See the caveats in the documentation: https://pandas.pydata.org/pandas-docs/stable/user_guide/indexing.html#returning-a-view-versus-a-copy\n",
      "  df_preproc['num_videos'] = np.log(1+df_preproc['num_videos'])\n",
      "/var/folders/6w/dmgtk2bn4jx1mdj87jl8c6sh0000gn/T/ipykernel_3339/1078777751.py:21: SettingWithCopyWarning: \n",
      "A value is trying to be set on a copy of a slice from a DataFrame.\n",
      "Try using .loc[row_indexer,col_indexer] = value instead\n",
      "\n",
      "See the caveats in the documentation: https://pandas.pydata.org/pandas-docs/stable/user_guide/indexing.html#returning-a-view-versus-a-copy\n",
      "  df_preproc[['n_tokens_title', 'n_tokens_content']] = scaled_features\n",
      "/var/folders/6w/dmgtk2bn4jx1mdj87jl8c6sh0000gn/T/ipykernel_3339/1078777751.py:22: SettingWithCopyWarning: \n",
      "A value is trying to be set on a copy of a slice from a DataFrame.\n",
      "Try using .loc[row_indexer,col_indexer] = value instead\n",
      "\n",
      "See the caveats in the documentation: https://pandas.pydata.org/pandas-docs/stable/user_guide/indexing.html#returning-a-view-versus-a-copy\n",
      "  df_preproc['avg_negative_polarity'] = df_preproc['avg_negative_polarity'].abs()\n",
      "/var/folders/6w/dmgtk2bn4jx1mdj87jl8c6sh0000gn/T/ipykernel_3339/1078777751.py:23: SettingWithCopyWarning: \n",
      "A value is trying to be set on a copy of a slice from a DataFrame\n",
      "\n",
      "See the caveats in the documentation: https://pandas.pydata.org/pandas-docs/stable/user_guide/indexing.html#returning-a-view-versus-a-copy\n",
      "  df_preproc['num_keywords'].fillna(0, inplace=True)\n",
      "/var/folders/6w/dmgtk2bn4jx1mdj87jl8c6sh0000gn/T/ipykernel_3339/1078777751.py:24: SettingWithCopyWarning: \n",
      "A value is trying to be set on a copy of a slice from a DataFrame.\n",
      "Try using .loc[row_indexer,col_indexer] = value instead\n",
      "\n",
      "See the caveats in the documentation: https://pandas.pydata.org/pandas-docs/stable/user_guide/indexing.html#returning-a-view-versus-a-copy\n",
      "  df_preproc['shares'] = np.log(df_preproc['shares'])\n",
      "/var/folders/6w/dmgtk2bn4jx1mdj87jl8c6sh0000gn/T/ipykernel_3339/1078777751.py:27: SettingWithCopyWarning: \n",
      "A value is trying to be set on a copy of a slice from a DataFrame.\n",
      "Try using .loc[row_indexer,col_indexer] = value instead\n",
      "\n",
      "See the caveats in the documentation: https://pandas.pydata.org/pandas-docs/stable/user_guide/indexing.html#returning-a-view-versus-a-copy\n",
      "  df_preproc[['kw_avg_min', 'kw_avg_max', 'kw_min_avg', 'kw_avg_avg']] = scaled_features\n",
      "/var/folders/6w/dmgtk2bn4jx1mdj87jl8c6sh0000gn/T/ipykernel_3339/1078777751.py:30: SettingWithCopyWarning: \n",
      "A value is trying to be set on a copy of a slice from a DataFrame.\n",
      "Try using .loc[row_indexer,col_indexer] = value instead\n",
      "\n",
      "See the caveats in the documentation: https://pandas.pydata.org/pandas-docs/stable/user_guide/indexing.html#returning-a-view-versus-a-copy\n",
      "  df_preproc[['self_reference_min_shares', 'self_reference_max_shares', 'self_reference_avg_sharess']] = scaled_features\n"
     ]
    },
    {
     "data": {
      "text/plain": "       n_tokens_title  n_tokens_content  n_non_stop_unique_tokens  num_hrefs  \\\n0            0.768992          1.182360                  0.545031       10.0   \n1           -0.649891          0.213789                  0.737542        9.0   \n2           -0.649891         -0.853837                  0.748428       12.0   \n3            0.768992         -1.274725                  0.867925        9.0   \n4            0.296031         -0.565145                  0.800000        5.0   \n...               ...               ...                       ...        ...   \n31709        0.296031          0.254330                  0.703008        9.0   \n31710        0.296031          0.029174                  0.718978       10.0   \n31712       -0.649891          1.118374                  0.710623        6.0   \n31713        0.296031          2.101447                  0.621080       21.0   \n31714        1.241953         -0.691341                  0.780822        5.0   \n\n       num_imgs  num_videos  average_token_length  num_keywords  kw_avg_min  \\\n0      3.526361    0.693147              4.656158           4.0   -0.322607   \n1      0.000000    0.693147              4.576541          10.0    0.340016   \n2      1.609438    0.693147              4.935345           6.0   -0.181578   \n3      0.000000    0.000000              4.970760           6.0    0.211117   \n4      0.000000    0.000000              5.006993           0.0    0.070408   \n...         ...         ...                   ...           ...         ...   \n31709  0.693147    0.693147              4.372587           0.0    0.045028   \n31710  0.000000    0.000000              4.784091           5.0   -0.142975   \n31712  1.098612    0.693147              4.594427           8.0   -0.184777   \n31713  0.693147    1.386294              4.353239          10.0   -0.220395   \n31714  0.693147    0.693147              4.279693           0.0   -0.241829   \n\n       kw_avg_max  ...  weekday_saturday  weekday_sunday  weekday_thursday  \\\n0        1.085158  ...               0.0             0.0               0.0   \n1       -1.040296  ...               0.0             0.0               1.0   \n2        2.415724  ...               0.0             0.0               0.0   \n3        0.423268  ...               0.0             0.0               0.0   \n4       -1.882699  ...               0.0             0.0               1.0   \n...           ...  ...               ...             ...               ...   \n31709   -0.256184  ...               0.0             0.0               1.0   \n31710    0.010189  ...               0.0             0.0               0.0   \n31712   -0.335967  ...               0.0             0.0               0.0   \n31713    0.156338  ...               0.0             0.0               0.0   \n31714    0.667860  ...               0.0             0.0               0.0   \n\n       weekday_tuesday  weekday_wednesday  data_channel_entertainment  \\\n0                  1.0                0.0                         0.0   \n1                  0.0                0.0                         0.0   \n2                  0.0                1.0                         0.0   \n3                  0.0                1.0                         0.0   \n4                  0.0                0.0                         0.0   \n...                ...                ...                         ...   \n31709              0.0                0.0                         0.0   \n31710              1.0                0.0                         0.0   \n31712              1.0                0.0                         0.0   \n31713              0.0                0.0                         0.0   \n31714              0.0                1.0                         0.0   \n\n       data_channel_lifestyle  data_channel_socmed  data_channel_tech  \\\n0                         0.0                  0.0                0.0   \n1                         0.0                  0.0                1.0   \n2                         1.0                  0.0                0.0   \n3                         0.0                  0.0                0.0   \n4                         0.0                  0.0                1.0   \n...                       ...                  ...                ...   \n31709                     1.0                  0.0                0.0   \n31710                     0.0                  0.0                0.0   \n31712                     0.0                  0.0                1.0   \n31713                     1.0                  0.0                0.0   \n31714                     0.0                  1.0                0.0   \n\n       data_channel_world  \n0                     0.0  \n1                     0.0  \n2                     0.0  \n3                     0.0  \n4                     0.0  \n...                   ...  \n31709                 0.0  \n31710                 1.0  \n31712                 0.0  \n31713                 0.0  \n31714                 0.0  \n\n[30768 rows x 43 columns]",
      "text/html": "<div>\n<style scoped>\n    .dataframe tbody tr th:only-of-type {\n        vertical-align: middle;\n    }\n\n    .dataframe tbody tr th {\n        vertical-align: top;\n    }\n\n    .dataframe thead th {\n        text-align: right;\n    }\n</style>\n<table border=\"1\" class=\"dataframe\">\n  <thead>\n    <tr style=\"text-align: right;\">\n      <th></th>\n      <th>n_tokens_title</th>\n      <th>n_tokens_content</th>\n      <th>n_non_stop_unique_tokens</th>\n      <th>num_hrefs</th>\n      <th>num_imgs</th>\n      <th>num_videos</th>\n      <th>average_token_length</th>\n      <th>num_keywords</th>\n      <th>kw_avg_min</th>\n      <th>kw_avg_max</th>\n      <th>...</th>\n      <th>weekday_saturday</th>\n      <th>weekday_sunday</th>\n      <th>weekday_thursday</th>\n      <th>weekday_tuesday</th>\n      <th>weekday_wednesday</th>\n      <th>data_channel_entertainment</th>\n      <th>data_channel_lifestyle</th>\n      <th>data_channel_socmed</th>\n      <th>data_channel_tech</th>\n      <th>data_channel_world</th>\n    </tr>\n  </thead>\n  <tbody>\n    <tr>\n      <th>0</th>\n      <td>0.768992</td>\n      <td>1.182360</td>\n      <td>0.545031</td>\n      <td>10.0</td>\n      <td>3.526361</td>\n      <td>0.693147</td>\n      <td>4.656158</td>\n      <td>4.0</td>\n      <td>-0.322607</td>\n      <td>1.085158</td>\n      <td>...</td>\n      <td>0.0</td>\n      <td>0.0</td>\n      <td>0.0</td>\n      <td>1.0</td>\n      <td>0.0</td>\n      <td>0.0</td>\n      <td>0.0</td>\n      <td>0.0</td>\n      <td>0.0</td>\n      <td>0.0</td>\n    </tr>\n    <tr>\n      <th>1</th>\n      <td>-0.649891</td>\n      <td>0.213789</td>\n      <td>0.737542</td>\n      <td>9.0</td>\n      <td>0.000000</td>\n      <td>0.693147</td>\n      <td>4.576541</td>\n      <td>10.0</td>\n      <td>0.340016</td>\n      <td>-1.040296</td>\n      <td>...</td>\n      <td>0.0</td>\n      <td>0.0</td>\n      <td>1.0</td>\n      <td>0.0</td>\n      <td>0.0</td>\n      <td>0.0</td>\n      <td>0.0</td>\n      <td>0.0</td>\n      <td>1.0</td>\n      <td>0.0</td>\n    </tr>\n    <tr>\n      <th>2</th>\n      <td>-0.649891</td>\n      <td>-0.853837</td>\n      <td>0.748428</td>\n      <td>12.0</td>\n      <td>1.609438</td>\n      <td>0.693147</td>\n      <td>4.935345</td>\n      <td>6.0</td>\n      <td>-0.181578</td>\n      <td>2.415724</td>\n      <td>...</td>\n      <td>0.0</td>\n      <td>0.0</td>\n      <td>0.0</td>\n      <td>0.0</td>\n      <td>1.0</td>\n      <td>0.0</td>\n      <td>1.0</td>\n      <td>0.0</td>\n      <td>0.0</td>\n      <td>0.0</td>\n    </tr>\n    <tr>\n      <th>3</th>\n      <td>0.768992</td>\n      <td>-1.274725</td>\n      <td>0.867925</td>\n      <td>9.0</td>\n      <td>0.000000</td>\n      <td>0.000000</td>\n      <td>4.970760</td>\n      <td>6.0</td>\n      <td>0.211117</td>\n      <td>0.423268</td>\n      <td>...</td>\n      <td>0.0</td>\n      <td>0.0</td>\n      <td>0.0</td>\n      <td>0.0</td>\n      <td>1.0</td>\n      <td>0.0</td>\n      <td>0.0</td>\n      <td>0.0</td>\n      <td>0.0</td>\n      <td>0.0</td>\n    </tr>\n    <tr>\n      <th>4</th>\n      <td>0.296031</td>\n      <td>-0.565145</td>\n      <td>0.800000</td>\n      <td>5.0</td>\n      <td>0.000000</td>\n      <td>0.000000</td>\n      <td>5.006993</td>\n      <td>0.0</td>\n      <td>0.070408</td>\n      <td>-1.882699</td>\n      <td>...</td>\n      <td>0.0</td>\n      <td>0.0</td>\n      <td>1.0</td>\n      <td>0.0</td>\n      <td>0.0</td>\n      <td>0.0</td>\n      <td>0.0</td>\n      <td>0.0</td>\n      <td>1.0</td>\n      <td>0.0</td>\n    </tr>\n    <tr>\n      <th>...</th>\n      <td>...</td>\n      <td>...</td>\n      <td>...</td>\n      <td>...</td>\n      <td>...</td>\n      <td>...</td>\n      <td>...</td>\n      <td>...</td>\n      <td>...</td>\n      <td>...</td>\n      <td>...</td>\n      <td>...</td>\n      <td>...</td>\n      <td>...</td>\n      <td>...</td>\n      <td>...</td>\n      <td>...</td>\n      <td>...</td>\n      <td>...</td>\n      <td>...</td>\n      <td>...</td>\n    </tr>\n    <tr>\n      <th>31709</th>\n      <td>0.296031</td>\n      <td>0.254330</td>\n      <td>0.703008</td>\n      <td>9.0</td>\n      <td>0.693147</td>\n      <td>0.693147</td>\n      <td>4.372587</td>\n      <td>0.0</td>\n      <td>0.045028</td>\n      <td>-0.256184</td>\n      <td>...</td>\n      <td>0.0</td>\n      <td>0.0</td>\n      <td>1.0</td>\n      <td>0.0</td>\n      <td>0.0</td>\n      <td>0.0</td>\n      <td>1.0</td>\n      <td>0.0</td>\n      <td>0.0</td>\n      <td>0.0</td>\n    </tr>\n    <tr>\n      <th>31710</th>\n      <td>0.296031</td>\n      <td>0.029174</td>\n      <td>0.718978</td>\n      <td>10.0</td>\n      <td>0.000000</td>\n      <td>0.000000</td>\n      <td>4.784091</td>\n      <td>5.0</td>\n      <td>-0.142975</td>\n      <td>0.010189</td>\n      <td>...</td>\n      <td>0.0</td>\n      <td>0.0</td>\n      <td>0.0</td>\n      <td>1.0</td>\n      <td>0.0</td>\n      <td>0.0</td>\n      <td>0.0</td>\n      <td>0.0</td>\n      <td>0.0</td>\n      <td>1.0</td>\n    </tr>\n    <tr>\n      <th>31712</th>\n      <td>-0.649891</td>\n      <td>1.118374</td>\n      <td>0.710623</td>\n      <td>6.0</td>\n      <td>1.098612</td>\n      <td>0.693147</td>\n      <td>4.594427</td>\n      <td>8.0</td>\n      <td>-0.184777</td>\n      <td>-0.335967</td>\n      <td>...</td>\n      <td>0.0</td>\n      <td>0.0</td>\n      <td>0.0</td>\n      <td>1.0</td>\n      <td>0.0</td>\n      <td>0.0</td>\n      <td>0.0</td>\n      <td>0.0</td>\n      <td>1.0</td>\n      <td>0.0</td>\n    </tr>\n    <tr>\n      <th>31713</th>\n      <td>0.296031</td>\n      <td>2.101447</td>\n      <td>0.621080</td>\n      <td>21.0</td>\n      <td>0.693147</td>\n      <td>1.386294</td>\n      <td>4.353239</td>\n      <td>10.0</td>\n      <td>-0.220395</td>\n      <td>0.156338</td>\n      <td>...</td>\n      <td>0.0</td>\n      <td>0.0</td>\n      <td>0.0</td>\n      <td>0.0</td>\n      <td>0.0</td>\n      <td>0.0</td>\n      <td>1.0</td>\n      <td>0.0</td>\n      <td>0.0</td>\n      <td>0.0</td>\n    </tr>\n    <tr>\n      <th>31714</th>\n      <td>1.241953</td>\n      <td>-0.691341</td>\n      <td>0.780822</td>\n      <td>5.0</td>\n      <td>0.693147</td>\n      <td>0.693147</td>\n      <td>4.279693</td>\n      <td>0.0</td>\n      <td>-0.241829</td>\n      <td>0.667860</td>\n      <td>...</td>\n      <td>0.0</td>\n      <td>0.0</td>\n      <td>0.0</td>\n      <td>0.0</td>\n      <td>1.0</td>\n      <td>0.0</td>\n      <td>0.0</td>\n      <td>1.0</td>\n      <td>0.0</td>\n      <td>0.0</td>\n    </tr>\n  </tbody>\n</table>\n<p>30768 rows × 43 columns</p>\n</div>"
     },
     "execution_count": 15,
     "metadata": {},
     "output_type": "execute_result"
    }
   ],
   "source": [
    "working_df_dev = final_preprocessing(df_dev)\n",
    "working_df_dev"
   ],
   "metadata": {
    "collapsed": false,
    "ExecuteTime": {
     "end_time": "2023-06-06T23:29:57.155749Z",
     "start_time": "2023-06-06T23:29:55.969688Z"
    }
   }
  },
  {
   "cell_type": "markdown",
   "source": [
    "## Model"
   ],
   "metadata": {
    "collapsed": false
   }
  },
  {
   "cell_type": "code",
   "execution_count": 18,
   "outputs": [],
   "source": [
    "X = working_df_dev.drop(columns=[\"shares\"]).values\n",
    "y = working_df_dev[\"shares\"].values"
   ],
   "metadata": {
    "collapsed": false,
    "ExecuteTime": {
     "end_time": "2023-06-06T23:33:30.003076Z",
     "start_time": "2023-06-06T23:33:29.888947Z"
    }
   }
  },
  {
   "cell_type": "code",
   "execution_count": null,
   "outputs": [],
   "source": [
    "reg = RandomForestRegressor(100, random_state=42)\n",
    "reg.fit(X , y)"
   ],
   "metadata": {
    "collapsed": false,
    "is_executing": true,
    "ExecuteTime": {
     "start_time": "2023-06-06T23:33:36.083555Z"
    }
   }
  },
  {
   "cell_type": "code",
   "execution_count": null,
   "outputs": [],
   "source": [
    "working_df_eval = final_preprocessing(df_eval)\n",
    "X_test = working_df_eval.values\n",
    "\n",
    "y_pred = reg.predict(X_test)"
   ],
   "metadata": {
    "collapsed": false
   }
  },
  {
   "cell_type": "code",
   "execution_count": null,
   "outputs": [],
   "source": [
    "#pd.DataFrame(y_pred, colu)"
   ],
   "metadata": {
    "collapsed": false
   }
  }
 ],
 "metadata": {
  "kernelspec": {
   "display_name": "Python 3",
   "language": "python",
   "name": "python3"
  },
  "language_info": {
   "codemirror_mode": {
    "name": "ipython",
    "version": 2
   },
   "file_extension": ".py",
   "mimetype": "text/x-python",
   "name": "python",
   "nbconvert_exporter": "python",
   "pygments_lexer": "ipython2",
   "version": "2.7.6"
  }
 },
 "nbformat": 4,
 "nbformat_minor": 0
}
