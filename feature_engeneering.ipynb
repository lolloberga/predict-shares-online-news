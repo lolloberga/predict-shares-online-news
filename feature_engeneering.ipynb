{
 "cells": [
  {
   "cell_type": "code",
   "execution_count": 237,
   "metadata": {
    "ExecuteTime": {
     "end_time": "2023-06-08T22:30:17.451869Z",
     "start_time": "2023-06-08T22:30:17.438560Z"
    }
   },
   "outputs": [],
   "source": [
    "import pandas as pd\n",
    "from sklearn.preprocessing import OneHotEncoder\n",
    "import numpy as np\n",
    "\n",
    "from sklearn.preprocessing import StandardScaler\n",
    "from sklearn.preprocessing import PolynomialFeatures\n",
    "from sklearn.decomposition import PCA\n",
    "from sklearn.pipeline import make_pipeline\n",
    "\n",
    "from sklearn.model_selection import train_test_split\n",
    "\n",
    "from sklearn.ensemble import RandomForestRegressor\n",
    "from sklearn.linear_model import LinearRegression\n",
    "from sklearn.linear_model import Lasso\n",
    "\n",
    "from sklearn.metrics import mean_squared_error\n",
    "from sklearn.metrics import r2_score\n",
    "\n",
    "import matplotlib.pyplot as plt"
   ]
  },
  {
   "cell_type": "code",
   "execution_count": 203,
   "metadata": {
    "ExecuteTime": {
     "end_time": "2023-06-08T22:23:16.023559Z",
     "start_time": "2023-06-08T22:23:15.553347Z"
    }
   },
   "outputs": [
    {
     "data": {
      "text/plain": "   id                                                url  timedelta  \\\n0   0  http://mashable.com/2014/09/08/safest-cabbies-...      121.0   \n1   1   http://mashable.com/2013/07/25/3d-printed-rifle/      532.0   \n2   2  http://mashable.com/2013/10/30/digital-dinosau...      435.0   \n3   3  http://mashable.com/2014/08/27/homer-simpson-i...      134.0   \n4   4  http://mashable.com/2013/01/10/creepy-robotic-...      728.0   \n\n   n_tokens_title  n_tokens_content  n_unique_tokens  n_non_stop_words  \\\n0            12.0            1015.0         0.422018               1.0   \n1             9.0             503.0         0.569697               1.0   \n2             9.0             232.0         0.646018               1.0   \n3            12.0             171.0         0.722892               1.0   \n4            11.0             286.0         0.652632               1.0   \n\n   n_non_stop_unique_tokens  num_hrefs  num_self_hrefs  ...  \\\n0                  0.545031       10.0             6.0  ...   \n1                  0.737542        9.0             0.0  ...   \n2                  0.748428       12.0             3.0  ...   \n3                  0.867925        9.0             5.0  ...   \n4                  0.800000        5.0             2.0  ...   \n\n   avg_negative_polarity  min_negative_polarity  max_negative_polarity  \\\n0              -0.160714                  -0.50              -0.071429   \n1              -0.157500                  -0.25              -0.100000   \n2              -0.427500                  -1.00              -0.187500   \n3              -0.216667                  -0.25              -0.166667   \n4              -0.251786                  -0.50              -0.100000   \n\n   title_subjectivity  title_sentiment_polarity  abs_title_subjectivity  \\\n0                 0.0                      0.00                     0.5   \n1                 0.0                      0.00                     0.5   \n2                 0.0                      0.00                     0.5   \n3                 0.4                     -0.25                     0.1   \n4                 0.2                     -0.10                     0.3   \n\n   abs_title_sentiment_polarity   shares  data_channel    weekday  \n0                          0.00   2900.0           bus    tuesday  \n1                          0.00   1300.0          tech   thursday  \n2                          0.00  17700.0     lifestyle  wednesday  \n3                          0.25   1500.0           bus  wednesday  \n4                          0.10   1400.0          tech   thursday  \n\n[5 rows x 50 columns]",
      "text/html": "<div>\n<style scoped>\n    .dataframe tbody tr th:only-of-type {\n        vertical-align: middle;\n    }\n\n    .dataframe tbody tr th {\n        vertical-align: top;\n    }\n\n    .dataframe thead th {\n        text-align: right;\n    }\n</style>\n<table border=\"1\" class=\"dataframe\">\n  <thead>\n    <tr style=\"text-align: right;\">\n      <th></th>\n      <th>id</th>\n      <th>url</th>\n      <th>timedelta</th>\n      <th>n_tokens_title</th>\n      <th>n_tokens_content</th>\n      <th>n_unique_tokens</th>\n      <th>n_non_stop_words</th>\n      <th>n_non_stop_unique_tokens</th>\n      <th>num_hrefs</th>\n      <th>num_self_hrefs</th>\n      <th>...</th>\n      <th>avg_negative_polarity</th>\n      <th>min_negative_polarity</th>\n      <th>max_negative_polarity</th>\n      <th>title_subjectivity</th>\n      <th>title_sentiment_polarity</th>\n      <th>abs_title_subjectivity</th>\n      <th>abs_title_sentiment_polarity</th>\n      <th>shares</th>\n      <th>data_channel</th>\n      <th>weekday</th>\n    </tr>\n  </thead>\n  <tbody>\n    <tr>\n      <th>0</th>\n      <td>0</td>\n      <td>http://mashable.com/2014/09/08/safest-cabbies-...</td>\n      <td>121.0</td>\n      <td>12.0</td>\n      <td>1015.0</td>\n      <td>0.422018</td>\n      <td>1.0</td>\n      <td>0.545031</td>\n      <td>10.0</td>\n      <td>6.0</td>\n      <td>...</td>\n      <td>-0.160714</td>\n      <td>-0.50</td>\n      <td>-0.071429</td>\n      <td>0.0</td>\n      <td>0.00</td>\n      <td>0.5</td>\n      <td>0.00</td>\n      <td>2900.0</td>\n      <td>bus</td>\n      <td>tuesday</td>\n    </tr>\n    <tr>\n      <th>1</th>\n      <td>1</td>\n      <td>http://mashable.com/2013/07/25/3d-printed-rifle/</td>\n      <td>532.0</td>\n      <td>9.0</td>\n      <td>503.0</td>\n      <td>0.569697</td>\n      <td>1.0</td>\n      <td>0.737542</td>\n      <td>9.0</td>\n      <td>0.0</td>\n      <td>...</td>\n      <td>-0.157500</td>\n      <td>-0.25</td>\n      <td>-0.100000</td>\n      <td>0.0</td>\n      <td>0.00</td>\n      <td>0.5</td>\n      <td>0.00</td>\n      <td>1300.0</td>\n      <td>tech</td>\n      <td>thursday</td>\n    </tr>\n    <tr>\n      <th>2</th>\n      <td>2</td>\n      <td>http://mashable.com/2013/10/30/digital-dinosau...</td>\n      <td>435.0</td>\n      <td>9.0</td>\n      <td>232.0</td>\n      <td>0.646018</td>\n      <td>1.0</td>\n      <td>0.748428</td>\n      <td>12.0</td>\n      <td>3.0</td>\n      <td>...</td>\n      <td>-0.427500</td>\n      <td>-1.00</td>\n      <td>-0.187500</td>\n      <td>0.0</td>\n      <td>0.00</td>\n      <td>0.5</td>\n      <td>0.00</td>\n      <td>17700.0</td>\n      <td>lifestyle</td>\n      <td>wednesday</td>\n    </tr>\n    <tr>\n      <th>3</th>\n      <td>3</td>\n      <td>http://mashable.com/2014/08/27/homer-simpson-i...</td>\n      <td>134.0</td>\n      <td>12.0</td>\n      <td>171.0</td>\n      <td>0.722892</td>\n      <td>1.0</td>\n      <td>0.867925</td>\n      <td>9.0</td>\n      <td>5.0</td>\n      <td>...</td>\n      <td>-0.216667</td>\n      <td>-0.25</td>\n      <td>-0.166667</td>\n      <td>0.4</td>\n      <td>-0.25</td>\n      <td>0.1</td>\n      <td>0.25</td>\n      <td>1500.0</td>\n      <td>bus</td>\n      <td>wednesday</td>\n    </tr>\n    <tr>\n      <th>4</th>\n      <td>4</td>\n      <td>http://mashable.com/2013/01/10/creepy-robotic-...</td>\n      <td>728.0</td>\n      <td>11.0</td>\n      <td>286.0</td>\n      <td>0.652632</td>\n      <td>1.0</td>\n      <td>0.800000</td>\n      <td>5.0</td>\n      <td>2.0</td>\n      <td>...</td>\n      <td>-0.251786</td>\n      <td>-0.50</td>\n      <td>-0.100000</td>\n      <td>0.2</td>\n      <td>-0.10</td>\n      <td>0.3</td>\n      <td>0.10</td>\n      <td>1400.0</td>\n      <td>tech</td>\n      <td>thursday</td>\n    </tr>\n  </tbody>\n</table>\n<p>5 rows × 50 columns</p>\n</div>"
     },
     "execution_count": 203,
     "metadata": {},
     "output_type": "execute_result"
    }
   ],
   "source": [
    "df_dev = pd.read_csv('dataset/development.csv')\n",
    "df_eval = pd.read_csv('dataset/evaluation.csv')\n",
    "\n",
    "df = pd.concat([df_dev, df_eval], sort=False)\n",
    "df.head()"
   ]
  },
  {
   "attachments": {},
   "cell_type": "markdown",
   "metadata": {},
   "source": [
    "## Categorical data"
   ]
  },
  {
   "attachments": {},
   "cell_type": "markdown",
   "metadata": {},
   "source": [
    "### OneHot Encoding\n",
    "- OneHot Encoding generates redundant data: if the ml model requires too much time to train itself or the model overfits, then the Effect Coding or Dummy Encoding could help to reduce the number of features."
   ]
  },
  {
   "cell_type": "code",
   "execution_count": 204,
   "metadata": {
    "ExecuteTime": {
     "end_time": "2023-06-08T22:23:16.819243Z",
     "start_time": "2023-06-08T22:23:16.728157Z"
    }
   },
   "outputs": [
    {
     "name": "stdout",
     "output_type": "stream",
     "text": [
      "(31715, 13)\n"
     ]
    },
    {
     "data": {
      "text/plain": "       timedelta  n_tokens_title  n_tokens_content  n_unique_tokens  \\\n0          121.0            12.0            1015.0         0.422018   \n1          532.0             9.0             503.0         0.569697   \n2          435.0             9.0             232.0         0.646018   \n3          134.0            12.0             171.0         0.722892   \n4          728.0            11.0             286.0         0.652632   \n...          ...             ...               ...              ...   \n31710       37.0            11.0             440.0         0.564103   \n31711       52.0            14.0               0.0         0.000000   \n31712      121.0             9.0             969.0         0.489583   \n31713      503.0            11.0            1976.0         0.412308   \n31714      106.0            13.0             261.0         0.616279   \n\n       n_non_stop_words  n_non_stop_unique_tokens  num_hrefs  num_self_hrefs  \\\n0                   1.0                  0.545031       10.0             6.0   \n1                   1.0                  0.737542        9.0             0.0   \n2                   1.0                  0.748428       12.0             3.0   \n3                   1.0                  0.867925        9.0             5.0   \n4                   1.0                  0.800000        5.0             2.0   \n...                 ...                       ...        ...             ...   \n31710               1.0                  0.718978       10.0             2.0   \n31711               0.0                  0.000000        0.0             0.0   \n31712               1.0                  0.710623        6.0             5.0   \n31713               1.0                  0.621080       21.0             3.0   \n31714               1.0                  0.780822        5.0             4.0   \n\n       num_imgs  num_videos  ...  weekday_sunday  weekday_thursday  \\\n0          33.0         1.0  ...             0.0               0.0   \n1           NaN         1.0  ...             0.0               1.0   \n2           4.0         1.0  ...             0.0               0.0   \n3           0.0         NaN  ...             0.0               0.0   \n4           NaN         0.0  ...             0.0               1.0   \n...         ...         ...  ...             ...               ...   \n31710       NaN         NaN  ...             0.0               0.0   \n31711       0.0         NaN  ...             0.0               0.0   \n31712       2.0         1.0  ...             0.0               0.0   \n31713       1.0         3.0  ...             0.0               0.0   \n31714       1.0         1.0  ...             0.0               0.0   \n\n       weekday_tuesday  weekday_wednesday  data_channel_bus  \\\n0                  1.0                0.0               1.0   \n1                  0.0                0.0               0.0   \n2                  0.0                1.0               0.0   \n3                  0.0                1.0               1.0   \n4                  0.0                0.0               0.0   \n...                ...                ...               ...   \n31710              1.0                0.0               0.0   \n31711              0.0                0.0               0.0   \n31712              1.0                0.0               0.0   \n31713              0.0                0.0               0.0   \n31714              0.0                1.0               0.0   \n\n       data_channel_entertainment  data_channel_lifestyle  \\\n0                             0.0                     0.0   \n1                             0.0                     0.0   \n2                             0.0                     1.0   \n3                             0.0                     0.0   \n4                             0.0                     0.0   \n...                           ...                     ...   \n31710                         0.0                     0.0   \n31711                         0.0                     1.0   \n31712                         0.0                     0.0   \n31713                         0.0                     1.0   \n31714                         0.0                     0.0   \n\n       data_channel_socmed  data_channel_tech  data_channel_world  \n0                      0.0                0.0                 0.0  \n1                      0.0                1.0                 0.0  \n2                      0.0                0.0                 0.0  \n3                      0.0                0.0                 0.0  \n4                      0.0                1.0                 0.0  \n...                    ...                ...                 ...  \n31710                  0.0                0.0                 1.0  \n31711                  0.0                0.0                 0.0  \n31712                  0.0                1.0                 0.0  \n31713                  0.0                0.0                 0.0  \n31714                  1.0                0.0                 0.0  \n\n[31715 rows x 59 columns]",
      "text/html": "<div>\n<style scoped>\n    .dataframe tbody tr th:only-of-type {\n        vertical-align: middle;\n    }\n\n    .dataframe tbody tr th {\n        vertical-align: top;\n    }\n\n    .dataframe thead th {\n        text-align: right;\n    }\n</style>\n<table border=\"1\" class=\"dataframe\">\n  <thead>\n    <tr style=\"text-align: right;\">\n      <th></th>\n      <th>timedelta</th>\n      <th>n_tokens_title</th>\n      <th>n_tokens_content</th>\n      <th>n_unique_tokens</th>\n      <th>n_non_stop_words</th>\n      <th>n_non_stop_unique_tokens</th>\n      <th>num_hrefs</th>\n      <th>num_self_hrefs</th>\n      <th>num_imgs</th>\n      <th>num_videos</th>\n      <th>...</th>\n      <th>weekday_sunday</th>\n      <th>weekday_thursday</th>\n      <th>weekday_tuesday</th>\n      <th>weekday_wednesday</th>\n      <th>data_channel_bus</th>\n      <th>data_channel_entertainment</th>\n      <th>data_channel_lifestyle</th>\n      <th>data_channel_socmed</th>\n      <th>data_channel_tech</th>\n      <th>data_channel_world</th>\n    </tr>\n  </thead>\n  <tbody>\n    <tr>\n      <th>0</th>\n      <td>121.0</td>\n      <td>12.0</td>\n      <td>1015.0</td>\n      <td>0.422018</td>\n      <td>1.0</td>\n      <td>0.545031</td>\n      <td>10.0</td>\n      <td>6.0</td>\n      <td>33.0</td>\n      <td>1.0</td>\n      <td>...</td>\n      <td>0.0</td>\n      <td>0.0</td>\n      <td>1.0</td>\n      <td>0.0</td>\n      <td>1.0</td>\n      <td>0.0</td>\n      <td>0.0</td>\n      <td>0.0</td>\n      <td>0.0</td>\n      <td>0.0</td>\n    </tr>\n    <tr>\n      <th>1</th>\n      <td>532.0</td>\n      <td>9.0</td>\n      <td>503.0</td>\n      <td>0.569697</td>\n      <td>1.0</td>\n      <td>0.737542</td>\n      <td>9.0</td>\n      <td>0.0</td>\n      <td>NaN</td>\n      <td>1.0</td>\n      <td>...</td>\n      <td>0.0</td>\n      <td>1.0</td>\n      <td>0.0</td>\n      <td>0.0</td>\n      <td>0.0</td>\n      <td>0.0</td>\n      <td>0.0</td>\n      <td>0.0</td>\n      <td>1.0</td>\n      <td>0.0</td>\n    </tr>\n    <tr>\n      <th>2</th>\n      <td>435.0</td>\n      <td>9.0</td>\n      <td>232.0</td>\n      <td>0.646018</td>\n      <td>1.0</td>\n      <td>0.748428</td>\n      <td>12.0</td>\n      <td>3.0</td>\n      <td>4.0</td>\n      <td>1.0</td>\n      <td>...</td>\n      <td>0.0</td>\n      <td>0.0</td>\n      <td>0.0</td>\n      <td>1.0</td>\n      <td>0.0</td>\n      <td>0.0</td>\n      <td>1.0</td>\n      <td>0.0</td>\n      <td>0.0</td>\n      <td>0.0</td>\n    </tr>\n    <tr>\n      <th>3</th>\n      <td>134.0</td>\n      <td>12.0</td>\n      <td>171.0</td>\n      <td>0.722892</td>\n      <td>1.0</td>\n      <td>0.867925</td>\n      <td>9.0</td>\n      <td>5.0</td>\n      <td>0.0</td>\n      <td>NaN</td>\n      <td>...</td>\n      <td>0.0</td>\n      <td>0.0</td>\n      <td>0.0</td>\n      <td>1.0</td>\n      <td>1.0</td>\n      <td>0.0</td>\n      <td>0.0</td>\n      <td>0.0</td>\n      <td>0.0</td>\n      <td>0.0</td>\n    </tr>\n    <tr>\n      <th>4</th>\n      <td>728.0</td>\n      <td>11.0</td>\n      <td>286.0</td>\n      <td>0.652632</td>\n      <td>1.0</td>\n      <td>0.800000</td>\n      <td>5.0</td>\n      <td>2.0</td>\n      <td>NaN</td>\n      <td>0.0</td>\n      <td>...</td>\n      <td>0.0</td>\n      <td>1.0</td>\n      <td>0.0</td>\n      <td>0.0</td>\n      <td>0.0</td>\n      <td>0.0</td>\n      <td>0.0</td>\n      <td>0.0</td>\n      <td>1.0</td>\n      <td>0.0</td>\n    </tr>\n    <tr>\n      <th>...</th>\n      <td>...</td>\n      <td>...</td>\n      <td>...</td>\n      <td>...</td>\n      <td>...</td>\n      <td>...</td>\n      <td>...</td>\n      <td>...</td>\n      <td>...</td>\n      <td>...</td>\n      <td>...</td>\n      <td>...</td>\n      <td>...</td>\n      <td>...</td>\n      <td>...</td>\n      <td>...</td>\n      <td>...</td>\n      <td>...</td>\n      <td>...</td>\n      <td>...</td>\n      <td>...</td>\n    </tr>\n    <tr>\n      <th>31710</th>\n      <td>37.0</td>\n      <td>11.0</td>\n      <td>440.0</td>\n      <td>0.564103</td>\n      <td>1.0</td>\n      <td>0.718978</td>\n      <td>10.0</td>\n      <td>2.0</td>\n      <td>NaN</td>\n      <td>NaN</td>\n      <td>...</td>\n      <td>0.0</td>\n      <td>0.0</td>\n      <td>1.0</td>\n      <td>0.0</td>\n      <td>0.0</td>\n      <td>0.0</td>\n      <td>0.0</td>\n      <td>0.0</td>\n      <td>0.0</td>\n      <td>1.0</td>\n    </tr>\n    <tr>\n      <th>31711</th>\n      <td>52.0</td>\n      <td>14.0</td>\n      <td>0.0</td>\n      <td>0.000000</td>\n      <td>0.0</td>\n      <td>0.000000</td>\n      <td>0.0</td>\n      <td>0.0</td>\n      <td>0.0</td>\n      <td>NaN</td>\n      <td>...</td>\n      <td>0.0</td>\n      <td>0.0</td>\n      <td>0.0</td>\n      <td>0.0</td>\n      <td>0.0</td>\n      <td>0.0</td>\n      <td>1.0</td>\n      <td>0.0</td>\n      <td>0.0</td>\n      <td>0.0</td>\n    </tr>\n    <tr>\n      <th>31712</th>\n      <td>121.0</td>\n      <td>9.0</td>\n      <td>969.0</td>\n      <td>0.489583</td>\n      <td>1.0</td>\n      <td>0.710623</td>\n      <td>6.0</td>\n      <td>5.0</td>\n      <td>2.0</td>\n      <td>1.0</td>\n      <td>...</td>\n      <td>0.0</td>\n      <td>0.0</td>\n      <td>1.0</td>\n      <td>0.0</td>\n      <td>0.0</td>\n      <td>0.0</td>\n      <td>0.0</td>\n      <td>0.0</td>\n      <td>1.0</td>\n      <td>0.0</td>\n    </tr>\n    <tr>\n      <th>31713</th>\n      <td>503.0</td>\n      <td>11.0</td>\n      <td>1976.0</td>\n      <td>0.412308</td>\n      <td>1.0</td>\n      <td>0.621080</td>\n      <td>21.0</td>\n      <td>3.0</td>\n      <td>1.0</td>\n      <td>3.0</td>\n      <td>...</td>\n      <td>0.0</td>\n      <td>0.0</td>\n      <td>0.0</td>\n      <td>0.0</td>\n      <td>0.0</td>\n      <td>0.0</td>\n      <td>1.0</td>\n      <td>0.0</td>\n      <td>0.0</td>\n      <td>0.0</td>\n    </tr>\n    <tr>\n      <th>31714</th>\n      <td>106.0</td>\n      <td>13.0</td>\n      <td>261.0</td>\n      <td>0.616279</td>\n      <td>1.0</td>\n      <td>0.780822</td>\n      <td>5.0</td>\n      <td>4.0</td>\n      <td>1.0</td>\n      <td>1.0</td>\n      <td>...</td>\n      <td>0.0</td>\n      <td>0.0</td>\n      <td>0.0</td>\n      <td>1.0</td>\n      <td>0.0</td>\n      <td>0.0</td>\n      <td>0.0</td>\n      <td>1.0</td>\n      <td>0.0</td>\n      <td>0.0</td>\n    </tr>\n  </tbody>\n</table>\n<p>31715 rows × 59 columns</p>\n</div>"
     },
     "execution_count": 204,
     "metadata": {},
     "output_type": "execute_result"
    }
   ],
   "source": [
    "enc = OneHotEncoder()\n",
    "encoded_df = pd.concat([df_dev['weekday'], df_dev['data_channel']], axis=1)\n",
    "enc.fit(encoded_df)\n",
    "encoded_df = enc.transform(encoded_df)\n",
    "additional_columns = enc.get_feature_names_out()\n",
    "print(encoded_df.toarray().shape)\n",
    "working_df_dev = df_dev.copy()\n",
    "working_df_dev[additional_columns] = encoded_df.toarray()\n",
    "working_df_dev.drop(['weekday', 'data_channel', 'url', 'id'], axis = 1, inplace=True)\n",
    "working_df_dev"
   ]
  },
  {
   "attachments": {},
   "cell_type": "markdown",
   "metadata": {},
   "source": [
    "## Numerical data"
   ]
  },
  {
   "attachments": {},
   "cell_type": "markdown",
   "metadata": {},
   "source": [
    "### Feature selection based on correlation\n",
    "- Features to delete (look at multivariate analysis):\n",
    "    - n_unique_tokens\n",
    "    - n_non_stop_words\n",
    "    - kw_max_min\n",
    "    - kw_min_max\n",
    "    - kw_max_avg\n",
    "    - abs_title_sentiment_polarity\n",
    "    - abs_title_subjectivity\n",
    "    - rate_positive_words \n",
    "    - timedelta\n",
    "    - max_negative_polarity\n",
    "    - min_negative_polarity\n",
    "    - kw_min_min\n",
    "    - kw_max_max\n",
    "    - num_self_hrefs\n",
    "    - n_tokens_content (to be verified)\n",
    "    - data_channel_business\n",
    "    - LDA_00"
   ]
  },
  {
   "cell_type": "code",
   "execution_count": 205,
   "metadata": {
    "ExecuteTime": {
     "end_time": "2023-06-08T22:23:18.088465Z",
     "start_time": "2023-06-08T22:23:18.081136Z"
    }
   },
   "outputs": [],
   "source": [
    "working_df_dev.drop(columns=['n_unique_tokens','n_non_stop_words','kw_max_min','kw_min_max','kw_max_avg','abs_title_sentiment_polarity',\n",
    "                     'abs_title_subjectivity','rate_positive_words','timedelta','max_negative_polarity','min_negative_polarity',\n",
    "                     'kw_min_min','kw_max_max','num_self_hrefs','data_channel_bus','LDA_00'], inplace=True)"
   ]
  },
  {
   "cell_type": "code",
   "execution_count": 206,
   "metadata": {
    "ExecuteTime": {
     "end_time": "2023-06-08T22:23:18.597483Z",
     "start_time": "2023-06-08T22:23:18.578592Z"
    }
   },
   "outputs": [
    {
     "data": {
      "text/plain": "   n_tokens_title  n_tokens_content  n_non_stop_unique_tokens  num_hrefs  \\\n0            12.0            1015.0                  0.545031       10.0   \n1             9.0             503.0                  0.737542        9.0   \n2             9.0             232.0                  0.748428       12.0   \n3            12.0             171.0                  0.867925        9.0   \n4            11.0             286.0                  0.800000        5.0   \n\n   num_imgs  num_videos  average_token_length  num_keywords  kw_avg_min  \\\n0      33.0         1.0              4.656158           4.0  110.500000   \n1       NaN         1.0              4.576541          10.0  524.750000   \n2       4.0         1.0              4.935345           6.0  198.666667   \n3       0.0         NaN              4.970760           6.0  444.166667   \n4       NaN         0.0              5.006993           NaN  356.200000   \n\n      kw_avg_max  ...  weekday_saturday  weekday_sunday  weekday_thursday  \\\n0  398350.000000  ...               0.0             0.0               0.0   \n1  117960.000000  ...               0.0             0.0               1.0   \n2  573878.333333  ...               0.0             0.0               0.0   \n3  311033.333333  ...               0.0             0.0               0.0   \n4    6830.125000  ...               0.0             0.0               1.0   \n\n   weekday_tuesday  weekday_wednesday  data_channel_entertainment  \\\n0              1.0                0.0                         0.0   \n1              0.0                0.0                         0.0   \n2              0.0                1.0                         0.0   \n3              0.0                1.0                         0.0   \n4              0.0                0.0                         0.0   \n\n   data_channel_lifestyle  data_channel_socmed  data_channel_tech  \\\n0                     0.0                  0.0                0.0   \n1                     0.0                  0.0                1.0   \n2                     1.0                  0.0                0.0   \n3                     0.0                  0.0                0.0   \n4                     0.0                  0.0                1.0   \n\n   data_channel_world  \n0                 0.0  \n1                 0.0  \n2                 0.0  \n3                 0.0  \n4                 0.0  \n\n[5 rows x 43 columns]",
      "text/html": "<div>\n<style scoped>\n    .dataframe tbody tr th:only-of-type {\n        vertical-align: middle;\n    }\n\n    .dataframe tbody tr th {\n        vertical-align: top;\n    }\n\n    .dataframe thead th {\n        text-align: right;\n    }\n</style>\n<table border=\"1\" class=\"dataframe\">\n  <thead>\n    <tr style=\"text-align: right;\">\n      <th></th>\n      <th>n_tokens_title</th>\n      <th>n_tokens_content</th>\n      <th>n_non_stop_unique_tokens</th>\n      <th>num_hrefs</th>\n      <th>num_imgs</th>\n      <th>num_videos</th>\n      <th>average_token_length</th>\n      <th>num_keywords</th>\n      <th>kw_avg_min</th>\n      <th>kw_avg_max</th>\n      <th>...</th>\n      <th>weekday_saturday</th>\n      <th>weekday_sunday</th>\n      <th>weekday_thursday</th>\n      <th>weekday_tuesday</th>\n      <th>weekday_wednesday</th>\n      <th>data_channel_entertainment</th>\n      <th>data_channel_lifestyle</th>\n      <th>data_channel_socmed</th>\n      <th>data_channel_tech</th>\n      <th>data_channel_world</th>\n    </tr>\n  </thead>\n  <tbody>\n    <tr>\n      <th>0</th>\n      <td>12.0</td>\n      <td>1015.0</td>\n      <td>0.545031</td>\n      <td>10.0</td>\n      <td>33.0</td>\n      <td>1.0</td>\n      <td>4.656158</td>\n      <td>4.0</td>\n      <td>110.500000</td>\n      <td>398350.000000</td>\n      <td>...</td>\n      <td>0.0</td>\n      <td>0.0</td>\n      <td>0.0</td>\n      <td>1.0</td>\n      <td>0.0</td>\n      <td>0.0</td>\n      <td>0.0</td>\n      <td>0.0</td>\n      <td>0.0</td>\n      <td>0.0</td>\n    </tr>\n    <tr>\n      <th>1</th>\n      <td>9.0</td>\n      <td>503.0</td>\n      <td>0.737542</td>\n      <td>9.0</td>\n      <td>NaN</td>\n      <td>1.0</td>\n      <td>4.576541</td>\n      <td>10.0</td>\n      <td>524.750000</td>\n      <td>117960.000000</td>\n      <td>...</td>\n      <td>0.0</td>\n      <td>0.0</td>\n      <td>1.0</td>\n      <td>0.0</td>\n      <td>0.0</td>\n      <td>0.0</td>\n      <td>0.0</td>\n      <td>0.0</td>\n      <td>1.0</td>\n      <td>0.0</td>\n    </tr>\n    <tr>\n      <th>2</th>\n      <td>9.0</td>\n      <td>232.0</td>\n      <td>0.748428</td>\n      <td>12.0</td>\n      <td>4.0</td>\n      <td>1.0</td>\n      <td>4.935345</td>\n      <td>6.0</td>\n      <td>198.666667</td>\n      <td>573878.333333</td>\n      <td>...</td>\n      <td>0.0</td>\n      <td>0.0</td>\n      <td>0.0</td>\n      <td>0.0</td>\n      <td>1.0</td>\n      <td>0.0</td>\n      <td>1.0</td>\n      <td>0.0</td>\n      <td>0.0</td>\n      <td>0.0</td>\n    </tr>\n    <tr>\n      <th>3</th>\n      <td>12.0</td>\n      <td>171.0</td>\n      <td>0.867925</td>\n      <td>9.0</td>\n      <td>0.0</td>\n      <td>NaN</td>\n      <td>4.970760</td>\n      <td>6.0</td>\n      <td>444.166667</td>\n      <td>311033.333333</td>\n      <td>...</td>\n      <td>0.0</td>\n      <td>0.0</td>\n      <td>0.0</td>\n      <td>0.0</td>\n      <td>1.0</td>\n      <td>0.0</td>\n      <td>0.0</td>\n      <td>0.0</td>\n      <td>0.0</td>\n      <td>0.0</td>\n    </tr>\n    <tr>\n      <th>4</th>\n      <td>11.0</td>\n      <td>286.0</td>\n      <td>0.800000</td>\n      <td>5.0</td>\n      <td>NaN</td>\n      <td>0.0</td>\n      <td>5.006993</td>\n      <td>NaN</td>\n      <td>356.200000</td>\n      <td>6830.125000</td>\n      <td>...</td>\n      <td>0.0</td>\n      <td>0.0</td>\n      <td>1.0</td>\n      <td>0.0</td>\n      <td>0.0</td>\n      <td>0.0</td>\n      <td>0.0</td>\n      <td>0.0</td>\n      <td>1.0</td>\n      <td>0.0</td>\n    </tr>\n  </tbody>\n</table>\n<p>5 rows × 43 columns</p>\n</div>"
     },
     "execution_count": 206,
     "metadata": {},
     "output_type": "execute_result"
    }
   ],
   "source": [
    "working_df_dev.head()"
   ]
  },
  {
   "attachments": {},
   "cell_type": "markdown",
   "metadata": {},
   "source": [
    "### Feature selection based on univariate analysis\n",
    "- Features to delete:\n",
    "    - n_tokens_content: It can be observed that there are a lot of values equal to 0 words: this can be due to an error during the data collection step. As solution, we decide to drop the records corresponding to the value zero of this feature (3% of the whole dataset)\n",
    "    - kw_avg_min: its distribution does not improve even after the preprocessing step\n",
    "    - self_reference_min_shares: --> TO BE VERIFIED (its distribution does not improve even after the preprocessing step)\n",
    "    - self_reference_max_shares: --> TO BE VERIFIED (its distribution does not improve even after the preprocessing step)\n",
    "    - self_reference_avg_sharess: --> TO BE VERIFIED (its distribution does not improve even after the preprocessing step)\n",
    "    - LDA_01: very low correlation with the dependent variable; it does not provide any important information\n",
    "    - LDA_02: very low correlation with the dependent variable; it does not provide any important information\n",
    "    - LDA_03: very low correlation with the dependent variable; it does not provide any important information\n",
    "    - LDA_04: very low correlation with the dependent variable; it does not provide any important information\n",
    "- Features to transform:\n",
    "    - num_imgs: Filled NaN values with 0 and rescaled in logarithmic scale to better distribute data and remove outliers.\n",
    "    - num_videos: Filled NaN values with 0 and rescaled in logarithmic scale to better distribute data and remove outliers.\n",
    "    - n_tokens_content: Rescaled in logarithmic scale to better distribute data and remove outliers\n",
    "    - avg_negative_polarity: Use absolute value to bring the range of this feature between [0, +1] as the corresponding \"avg_positive_polarity\" features\n",
    "    - num_keywords: Filled NaN values with 0\n",
    "    - num_hrefs: Rescaled in logarithmic scale to better distribute data\n",
    "    - shares: Rescaled in logarithmic scale to better distribute data\n",
    "    - kw_avg_avg: remove outliers using the quartiles; in this way the dataset is reduced by another 9%\n",
    "    - weekdays: transform weekdays into a boolean status \"isWeekend\" since we've observed that the principal discrimination is based on weather the article is published on the weekend or not --> TO BE VERIFIED\n",
    "- Features to scale:\n",
    "    - n_tokens_content: standard scaler\n",
    "    - n_tokens_title: standard scaler\n",
    "    - kw_avg_min: standard scaler\n",
    "    - kw_avg_max: standard scaler\n",
    "    - kw_min_avg: standard scaler\n",
    "    - kw_avg_avg: standard scaler\n",
    "    - self_reference_min_shares: standard scaler\n",
    "    - self_reference_max_shares: standard scaler\n",
    "    - self_reference_avg_sharess: standard scaler"
   ]
  },
  {
   "cell_type": "code",
   "execution_count": 207,
   "metadata": {
    "ExecuteTime": {
     "end_time": "2023-06-08T22:23:19.505949Z",
     "start_time": "2023-06-08T22:23:19.492331Z"
    }
   },
   "outputs": [],
   "source": [
    "working_df_dev = working_df_dev.query(\"n_tokens_content > 0\")"
   ]
  },
  {
   "cell_type": "code",
   "execution_count": 208,
   "metadata": {
    "ExecuteTime": {
     "end_time": "2023-06-08T22:23:19.917176Z",
     "start_time": "2023-06-08T22:23:19.909298Z"
    }
   },
   "outputs": [
    {
     "name": "stderr",
     "output_type": "stream",
     "text": [
      "/var/folders/6w/dmgtk2bn4jx1mdj87jl8c6sh0000gn/T/ipykernel_8889/420597367.py:1: SettingWithCopyWarning: \n",
      "A value is trying to be set on a copy of a slice from a DataFrame.\n",
      "Try using .loc[row_indexer,col_indexer] = value instead\n",
      "\n",
      "See the caveats in the documentation: https://pandas.pydata.org/pandas-docs/stable/user_guide/indexing.html#returning-a-view-versus-a-copy\n",
      "  working_df_dev['n_tokens_content'] = np.log(working_df_dev['n_tokens_content'])\n"
     ]
    }
   ],
   "source": [
    "working_df_dev['n_tokens_content'] = np.log(working_df_dev['n_tokens_content'])"
   ]
  },
  {
   "cell_type": "code",
   "execution_count": 209,
   "metadata": {
    "ExecuteTime": {
     "end_time": "2023-06-08T22:23:20.225283Z",
     "start_time": "2023-06-08T22:23:20.209981Z"
    }
   },
   "outputs": [
    {
     "name": "stderr",
     "output_type": "stream",
     "text": [
      "/var/folders/6w/dmgtk2bn4jx1mdj87jl8c6sh0000gn/T/ipykernel_8889/4188442937.py:1: SettingWithCopyWarning: \n",
      "A value is trying to be set on a copy of a slice from a DataFrame\n",
      "\n",
      "See the caveats in the documentation: https://pandas.pydata.org/pandas-docs/stable/user_guide/indexing.html#returning-a-view-versus-a-copy\n",
      "  working_df_dev['num_imgs'].fillna(0, inplace=True)\n",
      "/var/folders/6w/dmgtk2bn4jx1mdj87jl8c6sh0000gn/T/ipykernel_8889/4188442937.py:2: SettingWithCopyWarning: \n",
      "A value is trying to be set on a copy of a slice from a DataFrame.\n",
      "Try using .loc[row_indexer,col_indexer] = value instead\n",
      "\n",
      "See the caveats in the documentation: https://pandas.pydata.org/pandas-docs/stable/user_guide/indexing.html#returning-a-view-versus-a-copy\n",
      "  working_df_dev['num_imgs'] = np.log(1+working_df_dev['num_imgs'])\n"
     ]
    }
   ],
   "source": [
    "working_df_dev['num_imgs'].fillna(0, inplace=True)\n",
    "working_df_dev['num_imgs'] = np.log(1+working_df_dev['num_imgs'])"
   ]
  },
  {
   "cell_type": "code",
   "execution_count": 210,
   "metadata": {
    "ExecuteTime": {
     "end_time": "2023-06-08T22:23:20.507259Z",
     "start_time": "2023-06-08T22:23:20.501666Z"
    }
   },
   "outputs": [
    {
     "name": "stderr",
     "output_type": "stream",
     "text": [
      "/var/folders/6w/dmgtk2bn4jx1mdj87jl8c6sh0000gn/T/ipykernel_8889/1745796961.py:1: SettingWithCopyWarning: \n",
      "A value is trying to be set on a copy of a slice from a DataFrame\n",
      "\n",
      "See the caveats in the documentation: https://pandas.pydata.org/pandas-docs/stable/user_guide/indexing.html#returning-a-view-versus-a-copy\n",
      "  working_df_dev['num_videos'].fillna(0, inplace=True)\n",
      "/var/folders/6w/dmgtk2bn4jx1mdj87jl8c6sh0000gn/T/ipykernel_8889/1745796961.py:2: SettingWithCopyWarning: \n",
      "A value is trying to be set on a copy of a slice from a DataFrame.\n",
      "Try using .loc[row_indexer,col_indexer] = value instead\n",
      "\n",
      "See the caveats in the documentation: https://pandas.pydata.org/pandas-docs/stable/user_guide/indexing.html#returning-a-view-versus-a-copy\n",
      "  working_df_dev['num_videos'] = np.log(1+working_df_dev['num_videos'])\n"
     ]
    }
   ],
   "source": [
    "working_df_dev['num_videos'].fillna(0, inplace=True)\n",
    "working_df_dev['num_videos'] = np.log(1+working_df_dev['num_videos'])"
   ]
  },
  {
   "cell_type": "code",
   "execution_count": 211,
   "metadata": {
    "ExecuteTime": {
     "end_time": "2023-06-08T22:23:20.877084Z",
     "start_time": "2023-06-08T22:23:20.864151Z"
    }
   },
   "outputs": [
    {
     "name": "stderr",
     "output_type": "stream",
     "text": [
      "/var/folders/6w/dmgtk2bn4jx1mdj87jl8c6sh0000gn/T/ipykernel_8889/1289566745.py:3: SettingWithCopyWarning: \n",
      "A value is trying to be set on a copy of a slice from a DataFrame.\n",
      "Try using .loc[row_indexer,col_indexer] = value instead\n",
      "\n",
      "See the caveats in the documentation: https://pandas.pydata.org/pandas-docs/stable/user_guide/indexing.html#returning-a-view-versus-a-copy\n",
      "  working_df_dev[['n_tokens_title', 'n_tokens_content']] = scaled_features\n"
     ]
    }
   ],
   "source": [
    "std_scaler = StandardScaler().fit(working_df_dev[['n_tokens_title', 'n_tokens_content']])\n",
    "scaled_features = std_scaler.transform(working_df_dev[['n_tokens_title', 'n_tokens_content']])\n",
    "working_df_dev[['n_tokens_title', 'n_tokens_content']] = scaled_features"
   ]
  },
  {
   "cell_type": "code",
   "execution_count": 212,
   "outputs": [
    {
     "name": "stderr",
     "output_type": "stream",
     "text": [
      "/var/folders/6w/dmgtk2bn4jx1mdj87jl8c6sh0000gn/T/ipykernel_8889/4135121572.py:1: SettingWithCopyWarning: \n",
      "A value is trying to be set on a copy of a slice from a DataFrame.\n",
      "Try using .loc[row_indexer,col_indexer] = value instead\n",
      "\n",
      "See the caveats in the documentation: https://pandas.pydata.org/pandas-docs/stable/user_guide/indexing.html#returning-a-view-versus-a-copy\n",
      "  working_df_dev['avg_negative_polarity'] = working_df_dev['avg_negative_polarity'].abs()\n"
     ]
    }
   ],
   "source": [
    "working_df_dev['avg_negative_polarity'] = working_df_dev['avg_negative_polarity'].abs()"
   ],
   "metadata": {
    "collapsed": false,
    "ExecuteTime": {
     "end_time": "2023-06-08T22:23:21.160807Z",
     "start_time": "2023-06-08T22:23:21.154447Z"
    }
   }
  },
  {
   "cell_type": "code",
   "execution_count": 213,
   "outputs": [
    {
     "name": "stderr",
     "output_type": "stream",
     "text": [
      "/var/folders/6w/dmgtk2bn4jx1mdj87jl8c6sh0000gn/T/ipykernel_8889/619483132.py:1: SettingWithCopyWarning: \n",
      "A value is trying to be set on a copy of a slice from a DataFrame\n",
      "\n",
      "See the caveats in the documentation: https://pandas.pydata.org/pandas-docs/stable/user_guide/indexing.html#returning-a-view-versus-a-copy\n",
      "  working_df_dev['num_keywords'].fillna(0, inplace=True)\n"
     ]
    }
   ],
   "source": [
    "working_df_dev['num_keywords'].fillna(0, inplace=True)"
   ],
   "metadata": {
    "collapsed": false,
    "ExecuteTime": {
     "end_time": "2023-06-08T22:23:21.553924Z",
     "start_time": "2023-06-08T22:23:21.544739Z"
    }
   }
  },
  {
   "cell_type": "code",
   "execution_count": 214,
   "outputs": [
    {
     "name": "stderr",
     "output_type": "stream",
     "text": [
      "/var/folders/6w/dmgtk2bn4jx1mdj87jl8c6sh0000gn/T/ipykernel_8889/1159595187.py:1: SettingWithCopyWarning: \n",
      "A value is trying to be set on a copy of a slice from a DataFrame.\n",
      "Try using .loc[row_indexer,col_indexer] = value instead\n",
      "\n",
      "See the caveats in the documentation: https://pandas.pydata.org/pandas-docs/stable/user_guide/indexing.html#returning-a-view-versus-a-copy\n",
      "  working_df_dev['shares'] = np.log(working_df_dev['shares'])\n"
     ]
    }
   ],
   "source": [
    "working_df_dev['shares'] = np.log(working_df_dev['shares'])"
   ],
   "metadata": {
    "collapsed": false,
    "ExecuteTime": {
     "end_time": "2023-06-08T22:23:22.373143Z",
     "start_time": "2023-06-08T22:23:22.367143Z"
    }
   }
  },
  {
   "cell_type": "code",
   "execution_count": 215,
   "outputs": [
    {
     "name": "stderr",
     "output_type": "stream",
     "text": [
      "/var/folders/6w/dmgtk2bn4jx1mdj87jl8c6sh0000gn/T/ipykernel_8889/3959705728.py:7: UserWarning: Boolean Series key will be reindexed to match DataFrame index.\n",
      "  working_df_dev = working_df_dev[(df_dev.kw_avg_avg < max_kw_avg_avg) & (df_dev.kw_avg_avg > min_kw_avg_avg)]\n"
     ]
    }
   ],
   "source": [
    "# Remove outliers from kw_avg_avg (we lost another 9% of the dataset)\n",
    "q1 = working_df_dev['kw_avg_avg'].describe()['25%']\n",
    "q3 = working_df_dev['kw_avg_avg'].describe()['75%']\n",
    "iqr = q3 - q1\n",
    "min_kw_avg_avg = q1 - 1.5*iqr\n",
    "max_kw_avg_avg = q3 + 1.5*iqr\n",
    "working_df_dev = working_df_dev[(df_dev.kw_avg_avg < max_kw_avg_avg) & (df_dev.kw_avg_avg > min_kw_avg_avg)]\n",
    "\n",
    "working_df_dev.drop(columns=['kw_avg_min'], inplace=True)\n",
    "\n",
    "std_scaler = StandardScaler().fit(working_df_dev[['kw_avg_max', 'kw_min_avg', 'kw_avg_avg']])\n",
    "scaled_features = std_scaler.transform(working_df_dev[['kw_avg_max', 'kw_min_avg', 'kw_avg_avg']])\n",
    "working_df_dev[['kw_avg_max', 'kw_min_avg', 'kw_avg_avg']] = scaled_features"
   ],
   "metadata": {
    "collapsed": false,
    "ExecuteTime": {
     "end_time": "2023-06-08T22:23:22.890585Z",
     "start_time": "2023-06-08T22:23:22.841339Z"
    }
   }
  },
  {
   "cell_type": "code",
   "execution_count": 216,
   "outputs": [
    {
     "data": {
      "text/plain": "\"\\nstd_scaler = StandardScaler().fit(working_df_dev[['self_reference_min_shares', 'self_reference_max_shares', 'self_reference_avg_sharess']])\\nscaled_features = std_scaler.transform(working_df_dev[['self_reference_min_shares', 'self_reference_max_shares', 'self_reference_avg_sharess']])\\nworking_df_dev[['self_reference_min_shares', 'self_reference_max_shares', 'self_reference_avg_sharess']] = scaled_features\\n\""
     },
     "execution_count": 216,
     "metadata": {},
     "output_type": "execute_result"
    }
   ],
   "source": [
    "working_df_dev.drop(columns=['self_reference_min_shares', 'self_reference_max_shares', 'self_reference_avg_sharess'], inplace=True)\n",
    "\n",
    "'''\n",
    "std_scaler = StandardScaler().fit(working_df_dev[['self_reference_min_shares', 'self_reference_max_shares', 'self_reference_avg_sharess']])\n",
    "scaled_features = std_scaler.transform(working_df_dev[['self_reference_min_shares', 'self_reference_max_shares', 'self_reference_avg_sharess']])\n",
    "working_df_dev[['self_reference_min_shares', 'self_reference_max_shares', 'self_reference_avg_sharess']] = scaled_features\n",
    "'''"
   ],
   "metadata": {
    "collapsed": false,
    "ExecuteTime": {
     "end_time": "2023-06-08T22:23:23.555291Z",
     "start_time": "2023-06-08T22:23:23.545072Z"
    }
   }
  },
  {
   "cell_type": "code",
   "execution_count": 217,
   "outputs": [],
   "source": [
    "working_df_dev['num_hrefs'] = np.log(1 + working_df_dev['num_hrefs'])"
   ],
   "metadata": {
    "collapsed": false,
    "ExecuteTime": {
     "end_time": "2023-06-08T22:23:23.920072Z",
     "start_time": "2023-06-08T22:23:23.915377Z"
    }
   }
  },
  {
   "cell_type": "code",
   "execution_count": 218,
   "outputs": [],
   "source": [
    "# Drop LDA features because they are not well distributed even after the data preprocessing step...\n",
    "# Maybe it's possible to check if the AdjR2_score experienced an increase when we add them\n",
    "working_df_dev.drop(columns=['LDA_01', 'LDA_02', 'LDA_03', 'LDA_04'], inplace=True)"
   ],
   "metadata": {
    "collapsed": false,
    "ExecuteTime": {
     "end_time": "2023-06-08T22:23:24.515742Z",
     "start_time": "2023-06-08T22:23:24.507333Z"
    }
   }
  },
  {
   "cell_type": "code",
   "execution_count": 230,
   "outputs": [],
   "source": [
    "# Transform weekdays into a boolean status \"isWeekend\" since we've observed that the principal discrimination is based on\n",
    "# weather the article is published on the weekend or not\n",
    "is_weekend = []\n",
    "for _, row in working_df_dev.iterrows():\n",
    "    if row['weekday_sunday'] == 1 or row['weekday_saturday'] == 1:\n",
    "        is_weekend.append(1)\n",
    "    else:\n",
    "        is_weekend.append(0)\n",
    "working_df_dev['is_weekend'] = is_weekend\n",
    "working_df_dev.drop(columns=[x for x in additional_columns if x.startswith('weekday')], inplace=True)"
   ],
   "metadata": {
    "collapsed": false,
    "ExecuteTime": {
     "end_time": "2023-06-08T22:27:41.908315Z",
     "start_time": "2023-06-08T22:27:40.570933Z"
    }
   }
  },
  {
   "cell_type": "code",
   "execution_count": 231,
   "outputs": [
    {
     "data": {
      "text/plain": "       n_tokens_title  n_tokens_content  n_non_stop_unique_tokens  num_hrefs  \\\n0            0.768992          1.182360                  0.545031   2.397895   \n1           -0.649891          0.213789                  0.737542   2.302585   \n2           -0.649891         -0.853837                  0.748428   2.564949   \n3            0.768992         -1.274725                  0.867925   2.302585   \n4            0.296031         -0.565145                  0.800000   1.791759   \n...               ...               ...                       ...        ...   \n31709        0.296031          0.254330                  0.703008   2.302585   \n31710        0.296031          0.029174                  0.718978   2.397895   \n31712       -0.649891          1.118374                  0.710623   1.945910   \n31713        0.296031          2.101447                  0.621080   3.091042   \n31714        1.241953         -0.691341                  0.780822   1.791759   \n\n       num_imgs  num_videos  average_token_length  num_keywords  kw_avg_max  \\\n0      3.526361    0.693147              4.656158           4.0    1.129960   \n1      0.000000    0.693147              4.576541          10.0   -1.027350   \n2      1.609438    0.693147              4.935345           6.0    2.480468   \n3      0.000000    0.000000              4.970760           6.0    0.458149   \n4      0.000000    0.000000              5.006993           0.0   -1.882379   \n...         ...         ...                   ...           ...         ...   \n31709  0.693147    0.693147              4.372587           0.0   -0.231487   \n31710  0.000000    0.000000              4.784091           5.0    0.038879   \n31712  1.098612    0.693147              4.594427           8.0   -0.312466   \n31713  0.693147    1.386294              4.353239          10.0    0.187219   \n31714  0.693147    0.693147              4.279693           0.0    0.706407   \n\n       kw_min_avg  ...  avg_negative_polarity  title_subjectivity  \\\n0        0.698238  ...               0.160714            0.000000   \n1       -0.965816  ...               0.157500            0.000000   \n2       -0.087832  ...               0.427500            0.000000   \n3        0.944244  ...               0.216667            0.400000   \n4       -0.965816  ...               0.251786            0.200000   \n...           ...  ...                    ...                 ...   \n31709    2.207003  ...               0.386310            0.288889   \n31710    0.502769  ...               0.209167            0.000000   \n31712   -0.965816  ...               0.400000            0.000000   \n31713    1.580256  ...               0.323413            0.700000   \n31714    1.092306  ...               0.206019            0.325000   \n\n       title_sentiment_polarity    shares  data_channel_entertainment  \\\n0                      0.000000  7.972466                         0.0   \n1                      0.000000  7.170120                         0.0   \n2                      0.000000  9.781320                         0.0   \n3                     -0.250000  7.313220                         0.0   \n4                     -0.100000  7.244228                         0.0   \n...                         ...       ...                         ...   \n31709                 -0.155556  6.527958                         0.0   \n31710                  0.000000  6.907755                         0.0   \n31712                  0.000000  7.783224                         0.0   \n31713                 -0.400000  8.699515                         0.0   \n31714                  0.175000  7.313220                         0.0   \n\n       data_channel_lifestyle  data_channel_socmed  data_channel_tech  \\\n0                         0.0                  0.0                0.0   \n1                         0.0                  0.0                1.0   \n2                         1.0                  0.0                0.0   \n3                         0.0                  0.0                0.0   \n4                         0.0                  0.0                1.0   \n...                       ...                  ...                ...   \n31709                     1.0                  0.0                0.0   \n31710                     0.0                  0.0                0.0   \n31712                     0.0                  0.0                1.0   \n31713                     1.0                  0.0                0.0   \n31714                     0.0                  1.0                0.0   \n\n       data_channel_world  is_weekend  \n0                     0.0           0  \n1                     0.0           0  \n2                     0.0           0  \n3                     0.0           0  \n4                     0.0           0  \n...                   ...         ...  \n31709                 0.0           0  \n31710                 1.0           0  \n31712                 0.0           0  \n31713                 0.0           0  \n31714                 0.0           0  \n\n[29450 rows x 29 columns]",
      "text/html": "<div>\n<style scoped>\n    .dataframe tbody tr th:only-of-type {\n        vertical-align: middle;\n    }\n\n    .dataframe tbody tr th {\n        vertical-align: top;\n    }\n\n    .dataframe thead th {\n        text-align: right;\n    }\n</style>\n<table border=\"1\" class=\"dataframe\">\n  <thead>\n    <tr style=\"text-align: right;\">\n      <th></th>\n      <th>n_tokens_title</th>\n      <th>n_tokens_content</th>\n      <th>n_non_stop_unique_tokens</th>\n      <th>num_hrefs</th>\n      <th>num_imgs</th>\n      <th>num_videos</th>\n      <th>average_token_length</th>\n      <th>num_keywords</th>\n      <th>kw_avg_max</th>\n      <th>kw_min_avg</th>\n      <th>...</th>\n      <th>avg_negative_polarity</th>\n      <th>title_subjectivity</th>\n      <th>title_sentiment_polarity</th>\n      <th>shares</th>\n      <th>data_channel_entertainment</th>\n      <th>data_channel_lifestyle</th>\n      <th>data_channel_socmed</th>\n      <th>data_channel_tech</th>\n      <th>data_channel_world</th>\n      <th>is_weekend</th>\n    </tr>\n  </thead>\n  <tbody>\n    <tr>\n      <th>0</th>\n      <td>0.768992</td>\n      <td>1.182360</td>\n      <td>0.545031</td>\n      <td>2.397895</td>\n      <td>3.526361</td>\n      <td>0.693147</td>\n      <td>4.656158</td>\n      <td>4.0</td>\n      <td>1.129960</td>\n      <td>0.698238</td>\n      <td>...</td>\n      <td>0.160714</td>\n      <td>0.000000</td>\n      <td>0.000000</td>\n      <td>7.972466</td>\n      <td>0.0</td>\n      <td>0.0</td>\n      <td>0.0</td>\n      <td>0.0</td>\n      <td>0.0</td>\n      <td>0</td>\n    </tr>\n    <tr>\n      <th>1</th>\n      <td>-0.649891</td>\n      <td>0.213789</td>\n      <td>0.737542</td>\n      <td>2.302585</td>\n      <td>0.000000</td>\n      <td>0.693147</td>\n      <td>4.576541</td>\n      <td>10.0</td>\n      <td>-1.027350</td>\n      <td>-0.965816</td>\n      <td>...</td>\n      <td>0.157500</td>\n      <td>0.000000</td>\n      <td>0.000000</td>\n      <td>7.170120</td>\n      <td>0.0</td>\n      <td>0.0</td>\n      <td>0.0</td>\n      <td>1.0</td>\n      <td>0.0</td>\n      <td>0</td>\n    </tr>\n    <tr>\n      <th>2</th>\n      <td>-0.649891</td>\n      <td>-0.853837</td>\n      <td>0.748428</td>\n      <td>2.564949</td>\n      <td>1.609438</td>\n      <td>0.693147</td>\n      <td>4.935345</td>\n      <td>6.0</td>\n      <td>2.480468</td>\n      <td>-0.087832</td>\n      <td>...</td>\n      <td>0.427500</td>\n      <td>0.000000</td>\n      <td>0.000000</td>\n      <td>9.781320</td>\n      <td>0.0</td>\n      <td>1.0</td>\n      <td>0.0</td>\n      <td>0.0</td>\n      <td>0.0</td>\n      <td>0</td>\n    </tr>\n    <tr>\n      <th>3</th>\n      <td>0.768992</td>\n      <td>-1.274725</td>\n      <td>0.867925</td>\n      <td>2.302585</td>\n      <td>0.000000</td>\n      <td>0.000000</td>\n      <td>4.970760</td>\n      <td>6.0</td>\n      <td>0.458149</td>\n      <td>0.944244</td>\n      <td>...</td>\n      <td>0.216667</td>\n      <td>0.400000</td>\n      <td>-0.250000</td>\n      <td>7.313220</td>\n      <td>0.0</td>\n      <td>0.0</td>\n      <td>0.0</td>\n      <td>0.0</td>\n      <td>0.0</td>\n      <td>0</td>\n    </tr>\n    <tr>\n      <th>4</th>\n      <td>0.296031</td>\n      <td>-0.565145</td>\n      <td>0.800000</td>\n      <td>1.791759</td>\n      <td>0.000000</td>\n      <td>0.000000</td>\n      <td>5.006993</td>\n      <td>0.0</td>\n      <td>-1.882379</td>\n      <td>-0.965816</td>\n      <td>...</td>\n      <td>0.251786</td>\n      <td>0.200000</td>\n      <td>-0.100000</td>\n      <td>7.244228</td>\n      <td>0.0</td>\n      <td>0.0</td>\n      <td>0.0</td>\n      <td>1.0</td>\n      <td>0.0</td>\n      <td>0</td>\n    </tr>\n    <tr>\n      <th>...</th>\n      <td>...</td>\n      <td>...</td>\n      <td>...</td>\n      <td>...</td>\n      <td>...</td>\n      <td>...</td>\n      <td>...</td>\n      <td>...</td>\n      <td>...</td>\n      <td>...</td>\n      <td>...</td>\n      <td>...</td>\n      <td>...</td>\n      <td>...</td>\n      <td>...</td>\n      <td>...</td>\n      <td>...</td>\n      <td>...</td>\n      <td>...</td>\n      <td>...</td>\n      <td>...</td>\n    </tr>\n    <tr>\n      <th>31709</th>\n      <td>0.296031</td>\n      <td>0.254330</td>\n      <td>0.703008</td>\n      <td>2.302585</td>\n      <td>0.693147</td>\n      <td>0.693147</td>\n      <td>4.372587</td>\n      <td>0.0</td>\n      <td>-0.231487</td>\n      <td>2.207003</td>\n      <td>...</td>\n      <td>0.386310</td>\n      <td>0.288889</td>\n      <td>-0.155556</td>\n      <td>6.527958</td>\n      <td>0.0</td>\n      <td>1.0</td>\n      <td>0.0</td>\n      <td>0.0</td>\n      <td>0.0</td>\n      <td>0</td>\n    </tr>\n    <tr>\n      <th>31710</th>\n      <td>0.296031</td>\n      <td>0.029174</td>\n      <td>0.718978</td>\n      <td>2.397895</td>\n      <td>0.000000</td>\n      <td>0.000000</td>\n      <td>4.784091</td>\n      <td>5.0</td>\n      <td>0.038879</td>\n      <td>0.502769</td>\n      <td>...</td>\n      <td>0.209167</td>\n      <td>0.000000</td>\n      <td>0.000000</td>\n      <td>6.907755</td>\n      <td>0.0</td>\n      <td>0.0</td>\n      <td>0.0</td>\n      <td>0.0</td>\n      <td>1.0</td>\n      <td>0</td>\n    </tr>\n    <tr>\n      <th>31712</th>\n      <td>-0.649891</td>\n      <td>1.118374</td>\n      <td>0.710623</td>\n      <td>1.945910</td>\n      <td>1.098612</td>\n      <td>0.693147</td>\n      <td>4.594427</td>\n      <td>8.0</td>\n      <td>-0.312466</td>\n      <td>-0.965816</td>\n      <td>...</td>\n      <td>0.400000</td>\n      <td>0.000000</td>\n      <td>0.000000</td>\n      <td>7.783224</td>\n      <td>0.0</td>\n      <td>0.0</td>\n      <td>0.0</td>\n      <td>1.0</td>\n      <td>0.0</td>\n      <td>0</td>\n    </tr>\n    <tr>\n      <th>31713</th>\n      <td>0.296031</td>\n      <td>2.101447</td>\n      <td>0.621080</td>\n      <td>3.091042</td>\n      <td>0.693147</td>\n      <td>1.386294</td>\n      <td>4.353239</td>\n      <td>10.0</td>\n      <td>0.187219</td>\n      <td>1.580256</td>\n      <td>...</td>\n      <td>0.323413</td>\n      <td>0.700000</td>\n      <td>-0.400000</td>\n      <td>8.699515</td>\n      <td>0.0</td>\n      <td>1.0</td>\n      <td>0.0</td>\n      <td>0.0</td>\n      <td>0.0</td>\n      <td>0</td>\n    </tr>\n    <tr>\n      <th>31714</th>\n      <td>1.241953</td>\n      <td>-0.691341</td>\n      <td>0.780822</td>\n      <td>1.791759</td>\n      <td>0.693147</td>\n      <td>0.693147</td>\n      <td>4.279693</td>\n      <td>0.0</td>\n      <td>0.706407</td>\n      <td>1.092306</td>\n      <td>...</td>\n      <td>0.206019</td>\n      <td>0.325000</td>\n      <td>0.175000</td>\n      <td>7.313220</td>\n      <td>0.0</td>\n      <td>0.0</td>\n      <td>1.0</td>\n      <td>0.0</td>\n      <td>0.0</td>\n      <td>0</td>\n    </tr>\n  </tbody>\n</table>\n<p>29450 rows × 29 columns</p>\n</div>"
     },
     "execution_count": 231,
     "metadata": {},
     "output_type": "execute_result"
    }
   ],
   "source": [
    "working_df_dev"
   ],
   "metadata": {
    "collapsed": false,
    "ExecuteTime": {
     "end_time": "2023-06-08T22:27:45.161418Z",
     "start_time": "2023-06-08T22:27:45.104024Z"
    }
   }
  },
  {
   "cell_type": "code",
   "execution_count": 232,
   "outputs": [
    {
     "data": {
      "text/plain": "       n_tokens_title  n_tokens_content  n_non_stop_unique_tokens  \\\ncount    29450.000000      29450.000000              29450.000000   \nmean         0.001093          0.012689                  0.694141   \nstd          1.001825          0.999471                  0.100552   \nmin         -3.960618         -4.380663                  0.123214   \n25%         -0.649891         -0.686065                  0.633333   \n50%         -0.176930         -0.012202                  0.694444   \n75%          0.768992          0.731411                  0.757576   \nmax          5.971563          4.110082                  1.000000   \n\n          num_hrefs      num_imgs    num_videos  average_token_length  \\\ncount  29450.000000  29450.000000  29450.000000          29450.000000   \nmean       2.206863      0.879087      0.313204              4.685439   \nstd        0.719399      0.949518      0.631295              0.279909   \nmin        0.000000      0.000000      0.000000              3.600000   \n25%        1.791759      0.000000      0.000000              4.496471   \n50%        2.197225      0.693147      0.000000              4.673808   \n75%        2.639057      1.098612      0.693147              4.859056   \nmax        5.720312      4.859812      4.330733              8.041534   \n\n       num_keywords    kw_avg_max    kw_min_avg  ...  avg_negative_polarity  \\\ncount  29450.000000  2.945000e+04  2.945000e+04  ...           29450.000000   \nmean       5.762886 -1.930167e-17  3.812080e-17  ...               0.265254   \nstd        3.349513  1.000017e+00  1.000017e+00  ...               0.119860   \nmin        0.000000 -1.911727e+00 -9.667361e-01  ...               0.000000   \n25%        4.000000 -6.321786e-01 -9.658163e-01  ...               0.191667   \n50%        6.000000 -1.044337e-01 -7.893995e-02  ...               0.255357   \n75%        8.000000  5.520134e-01  8.416499e-01  ...               0.328562   \nmax       10.000000  4.553388e+00  2.354911e+00  ...               1.000000   \n\n       title_subjectivity  title_sentiment_polarity        shares  \\\ncount        29450.000000              29450.000000  29450.000000   \nmean             0.275924                  0.069097      7.447231   \nstd              0.320867                  0.260960      0.906247   \nmin              0.000000                 -1.000000      1.609438   \n25%              0.000000                  0.000000      6.844815   \n50%              0.100000                  0.000000      7.244228   \n75%              0.500000                  0.136364      7.901007   \nmax              1.000000                  1.000000     13.645078   \n\n       data_channel_entertainment  data_channel_lifestyle  \\\ncount                29450.000000            29450.000000   \nmean                     0.181800                0.174058   \nstd                      0.385686                0.379166   \nmin                      0.000000                0.000000   \n25%                      0.000000                0.000000   \n50%                      0.000000                0.000000   \n75%                      0.000000                0.000000   \nmax                      1.000000                1.000000   \n\n       data_channel_socmed  data_channel_tech  data_channel_world  \\\ncount         29450.000000       29450.000000        29450.000000   \nmean              0.061358           0.197657            0.219117   \nstd               0.239990           0.398239            0.413655   \nmin               0.000000           0.000000            0.000000   \n25%               0.000000           0.000000            0.000000   \n50%               0.000000           0.000000            0.000000   \n75%               0.000000           0.000000            0.000000   \nmax               1.000000           1.000000            1.000000   \n\n         is_weekend  \ncount  29450.000000  \nmean       0.130390  \nstd        0.336738  \nmin        0.000000  \n25%        0.000000  \n50%        0.000000  \n75%        0.000000  \nmax        1.000000  \n\n[8 rows x 29 columns]",
      "text/html": "<div>\n<style scoped>\n    .dataframe tbody tr th:only-of-type {\n        vertical-align: middle;\n    }\n\n    .dataframe tbody tr th {\n        vertical-align: top;\n    }\n\n    .dataframe thead th {\n        text-align: right;\n    }\n</style>\n<table border=\"1\" class=\"dataframe\">\n  <thead>\n    <tr style=\"text-align: right;\">\n      <th></th>\n      <th>n_tokens_title</th>\n      <th>n_tokens_content</th>\n      <th>n_non_stop_unique_tokens</th>\n      <th>num_hrefs</th>\n      <th>num_imgs</th>\n      <th>num_videos</th>\n      <th>average_token_length</th>\n      <th>num_keywords</th>\n      <th>kw_avg_max</th>\n      <th>kw_min_avg</th>\n      <th>...</th>\n      <th>avg_negative_polarity</th>\n      <th>title_subjectivity</th>\n      <th>title_sentiment_polarity</th>\n      <th>shares</th>\n      <th>data_channel_entertainment</th>\n      <th>data_channel_lifestyle</th>\n      <th>data_channel_socmed</th>\n      <th>data_channel_tech</th>\n      <th>data_channel_world</th>\n      <th>is_weekend</th>\n    </tr>\n  </thead>\n  <tbody>\n    <tr>\n      <th>count</th>\n      <td>29450.000000</td>\n      <td>29450.000000</td>\n      <td>29450.000000</td>\n      <td>29450.000000</td>\n      <td>29450.000000</td>\n      <td>29450.000000</td>\n      <td>29450.000000</td>\n      <td>29450.000000</td>\n      <td>2.945000e+04</td>\n      <td>2.945000e+04</td>\n      <td>...</td>\n      <td>29450.000000</td>\n      <td>29450.000000</td>\n      <td>29450.000000</td>\n      <td>29450.000000</td>\n      <td>29450.000000</td>\n      <td>29450.000000</td>\n      <td>29450.000000</td>\n      <td>29450.000000</td>\n      <td>29450.000000</td>\n      <td>29450.000000</td>\n    </tr>\n    <tr>\n      <th>mean</th>\n      <td>0.001093</td>\n      <td>0.012689</td>\n      <td>0.694141</td>\n      <td>2.206863</td>\n      <td>0.879087</td>\n      <td>0.313204</td>\n      <td>4.685439</td>\n      <td>5.762886</td>\n      <td>-1.930167e-17</td>\n      <td>3.812080e-17</td>\n      <td>...</td>\n      <td>0.265254</td>\n      <td>0.275924</td>\n      <td>0.069097</td>\n      <td>7.447231</td>\n      <td>0.181800</td>\n      <td>0.174058</td>\n      <td>0.061358</td>\n      <td>0.197657</td>\n      <td>0.219117</td>\n      <td>0.130390</td>\n    </tr>\n    <tr>\n      <th>std</th>\n      <td>1.001825</td>\n      <td>0.999471</td>\n      <td>0.100552</td>\n      <td>0.719399</td>\n      <td>0.949518</td>\n      <td>0.631295</td>\n      <td>0.279909</td>\n      <td>3.349513</td>\n      <td>1.000017e+00</td>\n      <td>1.000017e+00</td>\n      <td>...</td>\n      <td>0.119860</td>\n      <td>0.320867</td>\n      <td>0.260960</td>\n      <td>0.906247</td>\n      <td>0.385686</td>\n      <td>0.379166</td>\n      <td>0.239990</td>\n      <td>0.398239</td>\n      <td>0.413655</td>\n      <td>0.336738</td>\n    </tr>\n    <tr>\n      <th>min</th>\n      <td>-3.960618</td>\n      <td>-4.380663</td>\n      <td>0.123214</td>\n      <td>0.000000</td>\n      <td>0.000000</td>\n      <td>0.000000</td>\n      <td>3.600000</td>\n      <td>0.000000</td>\n      <td>-1.911727e+00</td>\n      <td>-9.667361e-01</td>\n      <td>...</td>\n      <td>0.000000</td>\n      <td>0.000000</td>\n      <td>-1.000000</td>\n      <td>1.609438</td>\n      <td>0.000000</td>\n      <td>0.000000</td>\n      <td>0.000000</td>\n      <td>0.000000</td>\n      <td>0.000000</td>\n      <td>0.000000</td>\n    </tr>\n    <tr>\n      <th>25%</th>\n      <td>-0.649891</td>\n      <td>-0.686065</td>\n      <td>0.633333</td>\n      <td>1.791759</td>\n      <td>0.000000</td>\n      <td>0.000000</td>\n      <td>4.496471</td>\n      <td>4.000000</td>\n      <td>-6.321786e-01</td>\n      <td>-9.658163e-01</td>\n      <td>...</td>\n      <td>0.191667</td>\n      <td>0.000000</td>\n      <td>0.000000</td>\n      <td>6.844815</td>\n      <td>0.000000</td>\n      <td>0.000000</td>\n      <td>0.000000</td>\n      <td>0.000000</td>\n      <td>0.000000</td>\n      <td>0.000000</td>\n    </tr>\n    <tr>\n      <th>50%</th>\n      <td>-0.176930</td>\n      <td>-0.012202</td>\n      <td>0.694444</td>\n      <td>2.197225</td>\n      <td>0.693147</td>\n      <td>0.000000</td>\n      <td>4.673808</td>\n      <td>6.000000</td>\n      <td>-1.044337e-01</td>\n      <td>-7.893995e-02</td>\n      <td>...</td>\n      <td>0.255357</td>\n      <td>0.100000</td>\n      <td>0.000000</td>\n      <td>7.244228</td>\n      <td>0.000000</td>\n      <td>0.000000</td>\n      <td>0.000000</td>\n      <td>0.000000</td>\n      <td>0.000000</td>\n      <td>0.000000</td>\n    </tr>\n    <tr>\n      <th>75%</th>\n      <td>0.768992</td>\n      <td>0.731411</td>\n      <td>0.757576</td>\n      <td>2.639057</td>\n      <td>1.098612</td>\n      <td>0.693147</td>\n      <td>4.859056</td>\n      <td>8.000000</td>\n      <td>5.520134e-01</td>\n      <td>8.416499e-01</td>\n      <td>...</td>\n      <td>0.328562</td>\n      <td>0.500000</td>\n      <td>0.136364</td>\n      <td>7.901007</td>\n      <td>0.000000</td>\n      <td>0.000000</td>\n      <td>0.000000</td>\n      <td>0.000000</td>\n      <td>0.000000</td>\n      <td>0.000000</td>\n    </tr>\n    <tr>\n      <th>max</th>\n      <td>5.971563</td>\n      <td>4.110082</td>\n      <td>1.000000</td>\n      <td>5.720312</td>\n      <td>4.859812</td>\n      <td>4.330733</td>\n      <td>8.041534</td>\n      <td>10.000000</td>\n      <td>4.553388e+00</td>\n      <td>2.354911e+00</td>\n      <td>...</td>\n      <td>1.000000</td>\n      <td>1.000000</td>\n      <td>1.000000</td>\n      <td>13.645078</td>\n      <td>1.000000</td>\n      <td>1.000000</td>\n      <td>1.000000</td>\n      <td>1.000000</td>\n      <td>1.000000</td>\n      <td>1.000000</td>\n    </tr>\n  </tbody>\n</table>\n<p>8 rows × 29 columns</p>\n</div>"
     },
     "execution_count": 232,
     "metadata": {},
     "output_type": "execute_result"
    }
   ],
   "source": [
    "working_df_dev.describe()"
   ],
   "metadata": {
    "collapsed": false,
    "ExecuteTime": {
     "end_time": "2023-06-08T22:27:52.444277Z",
     "start_time": "2023-06-08T22:27:52.345471Z"
    }
   }
  },
  {
   "cell_type": "markdown",
   "source": [
    "### Other final adjustments based on the final result of this step"
   ],
   "metadata": {
    "collapsed": false
   }
  },
  {
   "cell_type": "code",
   "execution_count": 197,
   "outputs": [
    {
     "data": {
      "text/plain": "<Axes: >"
     },
     "execution_count": 197,
     "metadata": {},
     "output_type": "execute_result"
    },
    {
     "data": {
      "text/plain": "<Figure size 640x480 with 1 Axes>",
      "image/png": "[encoded data removed]"
     },
     "metadata": {},
     "output_type": "display_data"
    }
   ],
   "source": [
    "working_df_dev['kw_min_avg'].hist()"
   ],
   "metadata": {
    "collapsed": false,
    "ExecuteTime": {
     "end_time": "2023-06-08T22:18:32.553066Z",
     "start_time": "2023-06-08T22:18:32.302577Z"
    }
   }
  },
  {
   "cell_type": "code",
   "execution_count": 107,
   "outputs": [
    {
     "name": "stdout",
     "output_type": "stream",
     "text": [
      "20468 31715\n"
     ]
    },
    {
     "data": {
      "text/plain": "array([[<Axes: title={'center': 'num_imgs'}>]], dtype=object)"
     },
     "execution_count": 107,
     "metadata": {},
     "output_type": "execute_result"
    },
    {
     "data": {
      "text/plain": "<Figure size 640x480 with 1 Axes>",
      "image/png": "[encoded data removed]"
     },
     "metadata": {},
     "output_type": "display_data"
    },
    {
     "data": {
      "text/plain": "<Figure size 640x480 with 1 Axes>",
      "image/png": "[encoded data removed]"
     },
     "metadata": {},
     "output_type": "display_data"
    }
   ],
   "source": [
    "# remove outlier from num_imgs and see if the distribution improve\n",
    "# se tagliamo fuori gli outliers usando i percentili si distribuisce meglio ma stiamo tagliando fuori il 20% del dataset\n",
    "from sklearn.preprocessing import MinMaxScaler\n",
    "\n",
    "q1 = df_dev['num_imgs'].describe()['25%']\n",
    "q3 = df_dev['num_imgs'].describe()['75%']\n",
    "iqr = q3 - q1\n",
    "min_num_imgs = q1 - 1.5*iqr\n",
    "max_num_imgs = q3 + 1.5*iqr\n",
    "new_df_imgs = df_dev[(df_dev.num_imgs < max_num_imgs) & (df_dev.num_imgs > min_num_imgs)]\n",
    "print(len(new_df_imgs), len(df_dev))\n",
    "\n",
    "pd.DataFrame(data=MinMaxScaler(feature_range=(0, 1)).fit_transform(new_df_imgs[['num_imgs']]), columns=['num_imgs']).hist()\n",
    "pd.DataFrame(data=StandardScaler().fit_transform(new_df_imgs[['num_imgs']]), columns=['num_imgs']).hist()\n",
    "#pd.DataFrame(data=MinMaxScaler(feature_range=(0, 1)).fit_transform(df_dev[['num_imgs']]), columns=['num_imgs']).hist()\n",
    "#pd.DataFrame(data=StandardScaler().fit_transform(df_dev[['num_imgs']]), columns=['num_imgs']).hist()"
   ],
   "metadata": {
    "collapsed": false,
    "ExecuteTime": {
     "end_time": "2023-06-08T21:45:24.479094Z",
     "start_time": "2023-06-08T21:45:23.730191Z"
    }
   }
  },
  {
   "cell_type": "code",
   "execution_count": 129,
   "outputs": [
    {
     "name": "stdout",
     "output_type": "stream",
     "text": [
      "29994 31715\n",
      "0.9457354564086394\n"
     ]
    },
    {
     "data": {
      "text/plain": "<Axes: >"
     },
     "execution_count": 129,
     "metadata": {},
     "output_type": "execute_result"
    },
    {
     "data": {
      "text/plain": "<Figure size 640x480 with 1 Axes>",
      "image/png": "[encoded data removed]"
     },
     "metadata": {},
     "output_type": "display_data"
    }
   ],
   "source": [
    "q1 = df_dev['kw_min_avg'].describe()['25%']\n",
    "q3 = df_dev['kw_min_avg'].describe()['75%']\n",
    "iqr = q3 - q1\n",
    "min_kw_avg_avg = q1 - 1.5*iqr\n",
    "max_kw_avg_avg = q3 + 1.5*iqr\n",
    "new_df_kw_avg_avg = df_dev[(df_dev.kw_avg_avg < max_kw_avg_avg) & (df_dev.kw_avg_avg > min_kw_avg_avg)]\n",
    "print(len(new_df_kw_avg_avg), len(df_dev))\n",
    "print(len(new_df_kw_avg_avg) / len(df_dev))\n",
    "new_df_kw_avg_avg['kw_min_avg'].hist()\n",
    "#df_dev['kw_avg_avg'].hist()"
   ],
   "metadata": {
    "collapsed": false,
    "ExecuteTime": {
     "end_time": "2023-06-08T21:56:25.201893Z",
     "start_time": "2023-06-08T21:56:24.902133Z"
    }
   }
  },
  {
   "cell_type": "code",
   "execution_count": 145,
   "outputs": [
    {
     "data": {
      "text/plain": "<Figure size 700x500 with 2 Axes>",
      "image/png": "[encoded data removed]"
     },
     "metadata": {},
     "output_type": "display_data"
    }
   ],
   "source": [
    "import seaborn as sns\n",
    "\n",
    "lda = ['LDA_01', 'LDA_02', 'LDA_03', 'LDA_04', 'shares']\n",
    "\n",
    "_, ax = plt.subplots(1,1, figsize=(7, 5))\n",
    "sns.heatmap(working_df_dev[lda].corr(method='spearman').loc[lda], ax=ax, annot=True)\n",
    "plt.tight_layout()\n",
    "plt.show()"
   ],
   "metadata": {
    "collapsed": false,
    "ExecuteTime": {
     "end_time": "2023-06-08T22:03:39.998129Z",
     "start_time": "2023-06-08T22:03:39.690403Z"
    }
   }
  },
  {
   "cell_type": "markdown",
   "source": [
    "## Features importance"
   ],
   "metadata": {
    "collapsed": false
   }
  },
  {
   "cell_type": "markdown",
   "source": [
    "### Features selected based on the importance\n",
    "- Use RandomForestRegression to discover the features importance in order to predict the target variable\n",
    "- The OneHot-Encoding features have a lower importance... It is possibile to try to delete them\n",
    "- Without the OneHot-Encoding features the RMSE is higher and this means a worse result"
   ],
   "metadata": {
    "collapsed": false
   }
  },
  {
   "cell_type": "code",
   "execution_count": 233,
   "outputs": [],
   "source": [
    "X = working_df_dev.drop(columns=[\"shares\"]).values\n",
    "y = working_df_dev[\"shares\"].values\n",
    "\n",
    "X_train, X_valid, y_train, y_valid = train_test_split(X, y, shuffle=True, random_state=42)"
   ],
   "metadata": {
    "collapsed": false,
    "ExecuteTime": {
     "end_time": "2023-06-08T22:27:58.713709Z",
     "start_time": "2023-06-08T22:27:58.695428Z"
    }
   }
  },
  {
   "cell_type": "code",
   "execution_count": 234,
   "outputs": [
    {
     "name": "stdout",
     "output_type": "stream",
     "text": [
      "0.8363469097163312\n",
      "0.11501655157110602\n"
     ]
    }
   ],
   "source": [
    "reg = RandomForestRegressor(100, random_state=42)\n",
    "reg.fit(X_train , y_train)\n",
    "\n",
    "rms = mean_squared_error(y_valid, reg.predict(X_valid), squared=False)\n",
    "print(rms)\n",
    "r2 = r2_score(y_valid, reg.predict(X_valid))\n",
    "adj_r2 = 1-(1-r2)*(len(X_valid) - 1)/(len(X_valid) - X_valid.shape[1] - 1)\n",
    "print(adj_r2)"
   ],
   "metadata": {
    "collapsed": false,
    "ExecuteTime": {
     "end_time": "2023-06-08T22:28:36.120596Z",
     "start_time": "2023-06-08T22:28:04.912782Z"
    }
   }
  },
  {
   "cell_type": "code",
   "execution_count": 235,
   "outputs": [
    {
     "data": {
      "text/plain": "[('kw_avg_avg', 0.12374509164943762),\n ('kw_avg_max', 0.06732004205865229),\n ('n_non_stop_unique_tokens', 0.057257222634345316),\n ('global_subjectivity', 0.0560922663830787),\n ('average_token_length', 0.055332441617790634),\n ('n_tokens_content', 0.0552762844887399),\n ('avg_positive_polarity', 0.049839097566336074),\n ('avg_negative_polarity', 0.04819814402850409),\n ('num_hrefs', 0.046726102630046944),\n ('global_sentiment_polarity', 0.04596910401839951),\n ('global_rate_positive_words', 0.045539572000351136),\n ('global_rate_negative_words', 0.04217745861885641),\n ('kw_min_avg', 0.0395465511862795),\n ('rate_negative_words', 0.03334485226787265),\n ('n_tokens_title', 0.030863167916486314),\n ('title_sentiment_polarity', 0.03046895060139374),\n ('title_subjectivity', 0.023202687654565117),\n ('num_imgs', 0.023110462912571756),\n ('num_keywords', 0.021691585501345322),\n ('min_positive_polarity', 0.020922818464311124),\n ('num_videos', 0.015654599333648545),\n ('max_positive_polarity', 0.015402363233530864),\n ('data_channel_tech', 0.012288045254527237),\n ('is_weekend', 0.012110949846643366),\n ('data_channel_entertainment', 0.010019611951645663),\n ('data_channel_socmed', 0.0078013422621491454),\n ('data_channel_lifestyle', 0.006323894758882197),\n ('data_channel_world', 0.003775289159608731)]"
     },
     "execution_count": 235,
     "metadata": {},
     "output_type": "execute_result"
    }
   ],
   "source": [
    "feature_names = working_df_dev.drop(columns=[\"shares\"]).columns\n",
    "sorted(zip(feature_names, reg.feature_importances_), key=lambda x: x[1], reverse=True)"
   ],
   "metadata": {
    "collapsed": false,
    "ExecuteTime": {
     "end_time": "2023-06-08T22:28:45.559906Z",
     "start_time": "2023-06-08T22:28:45.494012Z"
    }
   }
  },
  {
   "cell_type": "markdown",
   "source": [
    "#### Without OneHot-Encoded features"
   ],
   "metadata": {
    "collapsed": false
   }
  },
  {
   "cell_type": "code",
   "execution_count": 198,
   "outputs": [],
   "source": [
    "working_df_dev_no_onehot = working_df_dev.drop(columns=['data_channel_world', 'weekday_friday', 'weekday_wednesday',\n",
    "                                                        'weekday_thursday', 'data_channel_lifestyle', 'weekday_tuesday',\n",
    "                                                        'weekday_monday', 'data_channel_socmed', 'weekday_sunday', 'data_channel_tech',\n",
    "                                                        'data_channel_entertainment', 'weekday_saturday'])\n",
    "\n",
    "X = working_df_dev_no_onehot.drop(columns=[\"shares\"]).values\n",
    "y = working_df_dev_no_onehot[\"shares\"].values\n",
    "X_train, X_valid, y_train, y_valid = train_test_split(X, y, shuffle=True, random_state=42)"
   ],
   "metadata": {
    "collapsed": false,
    "ExecuteTime": {
     "end_time": "2023-06-08T22:19:10.017456Z",
     "start_time": "2023-06-08T22:19:09.998700Z"
    }
   }
  },
  {
   "cell_type": "code",
   "execution_count": 199,
   "outputs": [
    {
     "name": "stdout",
     "output_type": "stream",
     "text": [
      "0.8527091366072734\n",
      "0.08080233235922296\n"
     ]
    }
   ],
   "source": [
    "reg = RandomForestRegressor(100, random_state=42)\n",
    "reg.fit(X_train , y_train)\n",
    "\n",
    "rms = mean_squared_error(y_valid, reg.predict(X_valid), squared=False)\n",
    "print(rms)\n",
    "r2 = r2_score(y_valid, reg.predict(X_valid))\n",
    "adj_r2 = 1-(1-r2)*(len(X_valid) - 1)/(len(X_valid) - X_valid.shape[1] - 1)\n",
    "print(adj_r2)"
   ],
   "metadata": {
    "collapsed": false,
    "ExecuteTime": {
     "end_time": "2023-06-08T22:19:49.255400Z",
     "start_time": "2023-06-08T22:19:20.139955Z"
    }
   }
  },
  {
   "cell_type": "code",
   "execution_count": 60,
   "outputs": [
    {
     "data": {
      "text/plain": "[('kw_avg_avg', 0.11044895690775566),\n ('self_reference_avg_sharess', 0.04926776474511304),\n ('kw_avg_max', 0.047355415176575266),\n ('kw_avg_min', 0.04374766267911385),\n ('n_non_stop_unique_tokens', 0.04230917542764838),\n ('LDA_01', 0.03979648738535886),\n ('LDA_04', 0.03946678694668837),\n ('n_tokens_content', 0.03915448765787121),\n ('average_token_length', 0.038543912739106165),\n ('global_subjectivity', 0.038425300204354654),\n ('LDA_02', 0.037130928033989555),\n ('LDA_03', 0.03711095942000228),\n ('avg_positive_polarity', 0.0356730903177886),\n ('avg_negative_polarity', 0.03550492933578567),\n ('self_reference_min_shares', 0.0343583856022983),\n ('global_rate_positive_words', 0.03362383617265644),\n ('global_sentiment_polarity', 0.033298827748174845),\n ('num_hrefs', 0.032537821566620634),\n ('global_rate_negative_words', 0.029827182624030144),\n ('kw_min_avg', 0.029168613010562956),\n ('rate_negative_words', 0.02469459618733489),\n ('self_reference_max_shares', 0.02252662737095779),\n ('title_sentiment_polarity', 0.02251691278347561),\n ('n_tokens_title', 0.02138640503323807),\n ('num_imgs', 0.01713636391636395),\n ('title_subjectivity', 0.01703861265160366),\n ('min_positive_polarity', 0.015406906401859093),\n ('num_videos', 0.011012495332346628),\n ('num_keywords', 0.010990806013832188),\n ('max_positive_polarity', 0.01053975060749339)]"
     },
     "execution_count": 60,
     "metadata": {},
     "output_type": "execute_result"
    }
   ],
   "source": [
    "feature_names = working_df_dev_no_onehot.drop(columns=[\"shares\"]).columns\n",
    "sorted(zip(feature_names, reg.feature_importances_), key=lambda x: x[1], reverse=True)"
   ],
   "metadata": {
    "collapsed": false,
    "ExecuteTime": {
     "end_time": "2023-06-07T21:14:34.768958Z",
     "start_time": "2023-06-07T21:14:34.711903Z"
    }
   }
  },
  {
   "cell_type": "markdown",
   "source": [
    "#### Continue to delete features with low importance"
   ],
   "metadata": {
    "collapsed": false
   }
  },
  {
   "cell_type": "code",
   "execution_count": 79,
   "outputs": [],
   "source": [
    "working_df_dev_reducted = working_df_dev_no_onehot.drop(columns=['self_reference_min_shares', 'self_reference_max_shares', 'kw_min_avg', 'kw_avg_avg',\n",
    "                                                            'min_positive_polarity', 'max_positive_polarity', 'LDA_01', 'LDA_02', 'LDA_03', 'LDA_04'])\n",
    "\n",
    "X = working_df_dev_reducted.drop(columns=[\"shares\"]).values\n",
    "y = working_df_dev_reducted[\"shares\"].values\n",
    "X_train, X_valid, y_train, y_valid = train_test_split(X, y, shuffle=True, random_state=42)"
   ],
   "metadata": {
    "collapsed": false,
    "ExecuteTime": {
     "end_time": "2023-06-07T21:41:25.409901Z",
     "start_time": "2023-06-07T21:41:25.377475Z"
    }
   }
  },
  {
   "cell_type": "code",
   "execution_count": 81,
   "outputs": [
    {
     "name": "stdout",
     "output_type": "stream",
     "text": [
      "0.8774152875040087\n",
      "0.08025443770674512\n"
     ]
    }
   ],
   "source": [
    "reg = RandomForestRegressor(100, random_state=42)\n",
    "reg.fit(X_train , y_train)\n",
    "\n",
    "rms = mean_squared_error(y_valid, reg.predict(X_valid), squared=False)\n",
    "print(rms)\n",
    "print(r2_score(y_valid, reg.predict(X_valid)))"
   ],
   "metadata": {
    "collapsed": false,
    "ExecuteTime": {
     "end_time": "2023-06-07T21:42:26.562083Z",
     "start_time": "2023-06-07T21:41:42.478285Z"
    }
   }
  },
  {
   "cell_type": "code",
   "execution_count": 77,
   "outputs": [
    {
     "data": {
      "text/plain": "[('self_reference_avg_sharess', 0.09874496329273745),\n ('kw_avg_max', 0.06308988012270815),\n ('kw_avg_min', 0.0609908405212075),\n ('n_non_stop_unique_tokens', 0.05786302241558468),\n ('average_token_length', 0.057381221043681006),\n ('global_subjectivity', 0.056455306456974864),\n ('n_tokens_content', 0.05554684669724463),\n ('avg_positive_polarity', 0.05353840853426568),\n ('global_rate_positive_words', 0.049381579200996804),\n ('avg_negative_polarity', 0.04915682038521308),\n ('num_hrefs', 0.04658050074205566),\n ('global_sentiment_polarity', 0.04490124003615786),\n ('global_rate_negative_words', 0.04289293018713305),\n ('rate_negative_words', 0.034479842755919754),\n ('title_sentiment_polarity', 0.03058223415713801),\n ('n_tokens_title', 0.029041857796420895),\n ('num_imgs', 0.025904649606108335),\n ('title_subjectivity', 0.0239993375816882),\n ('num_keywords', 0.022454375720673606),\n ('num_videos', 0.014392338823224892),\n ('data_channel_world', 0.013364319186322693),\n ('data_channel_entertainment', 0.010001727568602953),\n ('weekday_saturday', 0.009362107296614193),\n ('data_channel_lifestyle', 0.008778434597488819),\n ('weekday_sunday', 0.007318887922259697),\n ('data_channel_socmed', 0.005778672788885333),\n ('weekday_monday', 0.005135667808651684),\n ('data_channel_tech', 0.005072124947222359),\n ('weekday_tuesday', 0.004835720767219765),\n ('weekday_wednesday', 0.004415803376930727),\n ('weekday_thursday', 0.004362230008036458),\n ('weekday_friday', 0.004196107654631343)]"
     },
     "execution_count": 77,
     "metadata": {},
     "output_type": "execute_result"
    }
   ],
   "source": [
    "feature_names = working_df_dev_reducted.drop(columns=[\"shares\"]).columns\n",
    "sorted(zip(feature_names, reg.feature_importances_), key=lambda x: x[1], reverse=True)"
   ],
   "metadata": {
    "collapsed": false,
    "ExecuteTime": {
     "end_time": "2023-06-07T21:40:46.460269Z",
     "start_time": "2023-06-07T21:40:46.396396Z"
    }
   }
  },
  {
   "cell_type": "markdown",
   "source": [
    "### Features selection with PCA\n",
    "- We just need from 8 to 16 Principal Components (PCs) in order to cover the cumulative explain variance of the dataset"
   ],
   "metadata": {
    "collapsed": false
   }
  },
  {
   "cell_type": "code",
   "execution_count": 31,
   "outputs": [
    {
     "data": {
      "text/plain": "<Figure size 1700x600 with 1 Axes>",
      "image/png": "[encoded data removed]"
     },
     "metadata": {},
     "output_type": "display_data"
    }
   ],
   "source": [
    "X = working_df_dev.drop(columns=[\"shares\"]).values\n",
    "\n",
    "pca_1 = PCA(random_state = 42)\n",
    "pca_1.fit(X)\n",
    "\n",
    "fig, ax = plt.subplots(1,1, figsize = (17,6))\n",
    "ax.plot(np.insert(np.cumsum(pca_1.explained_variance_ratio_), 0, 0))\n",
    "ax.set_title('Explained variance VS PCs')\n",
    "plt.xticks(ticks=np.arange(1, pca_1.n_features_in_ + 1),\n",
    "           labels=[f'PC{i}' for i in range(1, pca_1.n_features_in_ + 1)])\n",
    "ax.set_xlabel('Principal components')\n",
    "ax.set_ylabel('Cumulative explained variance')\n",
    "ax.grid()\n",
    "plt.tight_layout()\n",
    "plt.show()"
   ],
   "metadata": {
    "collapsed": false,
    "ExecuteTime": {
     "end_time": "2023-06-07T20:26:42.681757Z",
     "start_time": "2023-06-07T20:26:41.781934Z"
    }
   }
  },
  {
   "cell_type": "code",
   "execution_count": 32,
   "outputs": [],
   "source": [
    "X = working_df_dev.drop(columns=[\"shares\"]).values\n",
    "y = working_df_dev[\"shares\"].values\n",
    "\n",
    "pca_12 = PCA(n_components=12, random_state = 42)\n",
    "pca_12.fit(X)\n",
    "\n",
    "X_train, X_valid, y_train, y_valid = train_test_split(pca_12.transform(X), y, shuffle=True, random_state=42)"
   ],
   "metadata": {
    "collapsed": false,
    "ExecuteTime": {
     "end_time": "2023-06-07T20:30:22.265176Z",
     "start_time": "2023-06-07T20:30:22.071306Z"
    }
   }
  },
  {
   "cell_type": "code",
   "execution_count": 36,
   "outputs": [
    {
     "name": "stdout",
     "output_type": "stream",
     "text": [
      "0.8688872188329296\n",
      "0.09804654845413274\n"
     ]
    }
   ],
   "source": [
    "reg = RandomForestRegressor(100, random_state=42)\n",
    "reg.fit(X_train, y_train)\n",
    "\n",
    "rms = mean_squared_error(y_valid, reg.predict(X_valid), squared=False)\n",
    "print(rms)\n",
    "print(r2_score(y_valid, reg.predict(X_valid)))"
   ],
   "metadata": {
    "collapsed": false,
    "ExecuteTime": {
     "end_time": "2023-06-07T20:31:32.098983Z",
     "start_time": "2023-06-07T20:30:54.056861Z"
    }
   }
  },
  {
   "cell_type": "code",
   "execution_count": 37,
   "outputs": [
    {
     "data": {
      "text/plain": "[('n_non_stop_unique_tokens', 0.13454098707910733),\n ('n_tokens_title', 0.09790095070118207),\n ('kw_avg_avg', 0.08935787403970165),\n ('kw_min_avg', 0.08213931339881514),\n ('num_imgs', 0.08126376535984962),\n ('num_videos', 0.08025253501825359),\n ('num_keywords', 0.07564481820096851),\n ('n_tokens_content', 0.07548242160043558),\n ('average_token_length', 0.07449868077618106),\n ('kw_avg_min', 0.07423015669010685),\n ('num_hrefs', 0.06985958281557146),\n ('kw_avg_max', 0.06482891431982697)]"
     },
     "execution_count": 37,
     "metadata": {},
     "output_type": "execute_result"
    }
   ],
   "source": [
    "feature_names = working_df_dev.drop(columns=[\"shares\"]).columns\n",
    "sorted(zip(feature_names, reg.feature_importances_), key=lambda x: x[1], reverse=True)"
   ],
   "metadata": {
    "collapsed": false,
    "ExecuteTime": {
     "end_time": "2023-06-07T20:39:53.027394Z",
     "start_time": "2023-06-07T20:39:52.960358Z"
    }
   }
  },
  {
   "cell_type": "code",
   "execution_count": 39,
   "outputs": [
    {
     "name": "stdout",
     "output_type": "stream",
     "text": [
      "0.8606521973872098\n",
      "0.11506235367672135\n"
     ]
    }
   ],
   "source": [
    "X = working_df_dev.drop(columns=[\"shares\"]).values\n",
    "y = working_df_dev[\"shares\"].values\n",
    "\n",
    "pca_16 = PCA(n_components=16, random_state = 42)\n",
    "pca_16.fit(X)\n",
    "\n",
    "X_train, X_valid, y_train, y_valid = train_test_split(pca_16.transform(X), y, shuffle=True, random_state=42)\n",
    "reg = RandomForestRegressor(100, random_state=42)\n",
    "reg.fit(X_train, y_train)\n",
    "\n",
    "rms = mean_squared_error(y_valid, reg.predict(X_valid), squared=False)\n",
    "print(rms)\n",
    "print(r2_score(y_valid, reg.predict(X_valid)))"
   ],
   "metadata": {
    "collapsed": false,
    "ExecuteTime": {
     "end_time": "2023-06-07T21:04:10.098804Z",
     "start_time": "2023-06-07T21:03:21.363643Z"
    }
   }
  },
  {
   "cell_type": "markdown",
   "source": [
    "## Polynomial regressor"
   ],
   "metadata": {
    "collapsed": false
   }
  },
  {
   "cell_type": "code",
   "execution_count": 238,
   "outputs": [],
   "source": [
    "X = working_df_dev.drop(columns=[\"shares\"]).values\n",
    "y = working_df_dev[\"shares\"].values\n",
    "\n",
    "X_train, X_valid, y_train, y_valid = train_test_split(X, y, shuffle=True, random_state=42)"
   ],
   "metadata": {
    "collapsed": false,
    "ExecuteTime": {
     "end_time": "2023-06-08T22:32:08.549798Z",
     "start_time": "2023-06-08T22:32:08.529783Z"
    }
   }
  },
  {
   "cell_type": "code",
   "execution_count": 245,
   "outputs": [
    {
     "name": "stdout",
     "output_type": "stream",
     "text": [
      "0.8679914062455072\n",
      "0.11501655157110602\n"
     ]
    }
   ],
   "source": [
    "pipe = make_pipeline(\n",
    "    PolynomialFeatures(2),\n",
    "    Lasso(alpha=0.4)\n",
    ")\n",
    "pipe.fit(X_train, y_train)\n",
    "'''\n",
    "poli = PolynomialFeatures(2)\n",
    "poli_train = poli.fit_transform(X_train)\n",
    "poli_test = poli.fit_transform(X_valid)\n",
    "\n",
    "reg = LinearRegression()\n",
    "reg.fit(poli_train, y_train)\n",
    "preds_poli_reg = reg.predict(poli_test)\n",
    "'''\n",
    "preds_poli_reg = pipe.predict(X_valid)\n",
    "\n",
    "rms = mean_squared_error(y_valid, preds_poli_reg, squared=False)\n",
    "print(rms)\n",
    "r2 = r2_score(y_valid, reg.predict(X_valid))\n",
    "adj_r2 = 1-(1-r2)*(len(X_valid) - 1)/(len(X_valid) - X_valid.shape[1] - 1)\n",
    "print(adj_r2)"
   ],
   "metadata": {
    "collapsed": false,
    "ExecuteTime": {
     "end_time": "2023-06-08T22:32:49.175923Z",
     "start_time": "2023-06-08T22:32:48.329233Z"
    }
   }
  }
 ],
 "metadata": {
  "kernelspec": {
   "display_name": "thesis",
   "language": "python",
   "name": "python3"
  },
  "language_info": {
   "codemirror_mode": {
    "name": "ipython",
    "version": 3
   },
   "file_extension": ".py",
   "mimetype": "text/x-python",
   "name": "python",
   "nbconvert_exporter": "python",
   "pygments_lexer": "ipython3",
   "version": "3.8.0"
  },
  "orig_nbformat": 4
 },
 "nbformat": 4,
 "nbformat_minor": 2
}
