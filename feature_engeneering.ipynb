{
 "cells": [
  {
   "cell_type": "code",
   "execution_count": 23,
   "metadata": {
    "ExecuteTime": {
     "end_time": "2023-06-07T20:23:19.577606Z",
     "start_time": "2023-06-07T20:23:02.753379Z"
    }
   },
   "outputs": [],
   "source": [
    "import pandas as pd\n",
    "from sklearn.preprocessing import OneHotEncoder\n",
    "import numpy as np\n",
    "\n",
    "from sklearn.preprocessing import StandardScaler\n",
    "from sklearn.preprocessing import PolynomialFeatures\n",
    "from sklearn.decomposition import PCA\n",
    "\n",
    "from sklearn.model_selection import train_test_split\n",
    "\n",
    "from sklearn.ensemble import RandomForestRegressor\n",
    "from sklearn.linear_model import LinearRegression\n",
    "\n",
    "from sklearn.metrics import mean_squared_error\n",
    "from sklearn.metrics import r2_score\n",
    "\n",
    "import matplotlib.pyplot as plt"
   ]
  },
  {
   "cell_type": "code",
   "execution_count": 3,
   "metadata": {
    "ExecuteTime": {
     "end_time": "2023-06-07T20:04:43.446260Z",
     "start_time": "2023-06-07T20:04:42.234095Z"
    }
   },
   "outputs": [
    {
     "data": {
      "text/plain": "   id                                                url  timedelta  \\\n0   0  http://mashable.com/2014/09/08/safest-cabbies-...      121.0   \n1   1   http://mashable.com/2013/07/25/3d-printed-rifle/      532.0   \n2   2  http://mashable.com/2013/10/30/digital-dinosau...      435.0   \n3   3  http://mashable.com/2014/08/27/homer-simpson-i...      134.0   \n4   4  http://mashable.com/2013/01/10/creepy-robotic-...      728.0   \n\n   n_tokens_title  n_tokens_content  n_unique_tokens  n_non_stop_words  \\\n0            12.0            1015.0         0.422018               1.0   \n1             9.0             503.0         0.569697               1.0   \n2             9.0             232.0         0.646018               1.0   \n3            12.0             171.0         0.722892               1.0   \n4            11.0             286.0         0.652632               1.0   \n\n   n_non_stop_unique_tokens  num_hrefs  num_self_hrefs  ...  \\\n0                  0.545031       10.0             6.0  ...   \n1                  0.737542        9.0             0.0  ...   \n2                  0.748428       12.0             3.0  ...   \n3                  0.867925        9.0             5.0  ...   \n4                  0.800000        5.0             2.0  ...   \n\n   avg_negative_polarity  min_negative_polarity  max_negative_polarity  \\\n0              -0.160714                  -0.50              -0.071429   \n1              -0.157500                  -0.25              -0.100000   \n2              -0.427500                  -1.00              -0.187500   \n3              -0.216667                  -0.25              -0.166667   \n4              -0.251786                  -0.50              -0.100000   \n\n   title_subjectivity  title_sentiment_polarity  abs_title_subjectivity  \\\n0                 0.0                      0.00                     0.5   \n1                 0.0                      0.00                     0.5   \n2                 0.0                      0.00                     0.5   \n3                 0.4                     -0.25                     0.1   \n4                 0.2                     -0.10                     0.3   \n\n   abs_title_sentiment_polarity   shares  data_channel    weekday  \n0                          0.00   2900.0           bus    tuesday  \n1                          0.00   1300.0          tech   thursday  \n2                          0.00  17700.0     lifestyle  wednesday  \n3                          0.25   1500.0           bus  wednesday  \n4                          0.10   1400.0          tech   thursday  \n\n[5 rows x 50 columns]",
      "text/html": "<div>\n<style scoped>\n    .dataframe tbody tr th:only-of-type {\n        vertical-align: middle;\n    }\n\n    .dataframe tbody tr th {\n        vertical-align: top;\n    }\n\n    .dataframe thead th {\n        text-align: right;\n    }\n</style>\n<table border=\"1\" class=\"dataframe\">\n  <thead>\n    <tr style=\"text-align: right;\">\n      <th></th>\n      <th>id</th>\n      <th>url</th>\n      <th>timedelta</th>\n      <th>n_tokens_title</th>\n      <th>n_tokens_content</th>\n      <th>n_unique_tokens</th>\n      <th>n_non_stop_words</th>\n      <th>n_non_stop_unique_tokens</th>\n      <th>num_hrefs</th>\n      <th>num_self_hrefs</th>\n      <th>...</th>\n      <th>avg_negative_polarity</th>\n      <th>min_negative_polarity</th>\n      <th>max_negative_polarity</th>\n      <th>title_subjectivity</th>\n      <th>title_sentiment_polarity</th>\n      <th>abs_title_subjectivity</th>\n      <th>abs_title_sentiment_polarity</th>\n      <th>shares</th>\n      <th>data_channel</th>\n      <th>weekday</th>\n    </tr>\n  </thead>\n  <tbody>\n    <tr>\n      <th>0</th>\n      <td>0</td>\n      <td>http://mashable.com/2014/09/08/safest-cabbies-...</td>\n      <td>121.0</td>\n      <td>12.0</td>\n      <td>1015.0</td>\n      <td>0.422018</td>\n      <td>1.0</td>\n      <td>0.545031</td>\n      <td>10.0</td>\n      <td>6.0</td>\n      <td>...</td>\n      <td>-0.160714</td>\n      <td>-0.50</td>\n      <td>-0.071429</td>\n      <td>0.0</td>\n      <td>0.00</td>\n      <td>0.5</td>\n      <td>0.00</td>\n      <td>2900.0</td>\n      <td>bus</td>\n      <td>tuesday</td>\n    </tr>\n    <tr>\n      <th>1</th>\n      <td>1</td>\n      <td>http://mashable.com/2013/07/25/3d-printed-rifle/</td>\n      <td>532.0</td>\n      <td>9.0</td>\n      <td>503.0</td>\n      <td>0.569697</td>\n      <td>1.0</td>\n      <td>0.737542</td>\n      <td>9.0</td>\n      <td>0.0</td>\n      <td>...</td>\n      <td>-0.157500</td>\n      <td>-0.25</td>\n      <td>-0.100000</td>\n      <td>0.0</td>\n      <td>0.00</td>\n      <td>0.5</td>\n      <td>0.00</td>\n      <td>1300.0</td>\n      <td>tech</td>\n      <td>thursday</td>\n    </tr>\n    <tr>\n      <th>2</th>\n      <td>2</td>\n      <td>http://mashable.com/2013/10/30/digital-dinosau...</td>\n      <td>435.0</td>\n      <td>9.0</td>\n      <td>232.0</td>\n      <td>0.646018</td>\n      <td>1.0</td>\n      <td>0.748428</td>\n      <td>12.0</td>\n      <td>3.0</td>\n      <td>...</td>\n      <td>-0.427500</td>\n      <td>-1.00</td>\n      <td>-0.187500</td>\n      <td>0.0</td>\n      <td>0.00</td>\n      <td>0.5</td>\n      <td>0.00</td>\n      <td>17700.0</td>\n      <td>lifestyle</td>\n      <td>wednesday</td>\n    </tr>\n    <tr>\n      <th>3</th>\n      <td>3</td>\n      <td>http://mashable.com/2014/08/27/homer-simpson-i...</td>\n      <td>134.0</td>\n      <td>12.0</td>\n      <td>171.0</td>\n      <td>0.722892</td>\n      <td>1.0</td>\n      <td>0.867925</td>\n      <td>9.0</td>\n      <td>5.0</td>\n      <td>...</td>\n      <td>-0.216667</td>\n      <td>-0.25</td>\n      <td>-0.166667</td>\n      <td>0.4</td>\n      <td>-0.25</td>\n      <td>0.1</td>\n      <td>0.25</td>\n      <td>1500.0</td>\n      <td>bus</td>\n      <td>wednesday</td>\n    </tr>\n    <tr>\n      <th>4</th>\n      <td>4</td>\n      <td>http://mashable.com/2013/01/10/creepy-robotic-...</td>\n      <td>728.0</td>\n      <td>11.0</td>\n      <td>286.0</td>\n      <td>0.652632</td>\n      <td>1.0</td>\n      <td>0.800000</td>\n      <td>5.0</td>\n      <td>2.0</td>\n      <td>...</td>\n      <td>-0.251786</td>\n      <td>-0.50</td>\n      <td>-0.100000</td>\n      <td>0.2</td>\n      <td>-0.10</td>\n      <td>0.3</td>\n      <td>0.10</td>\n      <td>1400.0</td>\n      <td>tech</td>\n      <td>thursday</td>\n    </tr>\n  </tbody>\n</table>\n<p>5 rows × 50 columns</p>\n</div>"
     },
     "execution_count": 3,
     "metadata": {},
     "output_type": "execute_result"
    }
   ],
   "source": [
    "df_dev = pd.read_csv('dataset/development.csv')\n",
    "df_eval = pd.read_csv('dataset/evaluation.csv')\n",
    "\n",
    "df = pd.concat([df_dev, df_eval], sort=False)\n",
    "df.head()"
   ]
  },
  {
   "attachments": {},
   "cell_type": "markdown",
   "metadata": {},
   "source": [
    "## Categorical data"
   ]
  },
  {
   "attachments": {},
   "cell_type": "markdown",
   "metadata": {},
   "source": [
    "### OneHot Encoding\n",
    "- OneHot Encoding generates redundant data: if the ml model requires too much time to train itself or the model overfits, then the Effect Coding or Dummy Encoding could help to reduce the number of features."
   ]
  },
  {
   "cell_type": "code",
   "execution_count": 4,
   "metadata": {
    "ExecuteTime": {
     "end_time": "2023-06-07T20:04:47.417775Z",
     "start_time": "2023-06-07T20:04:47.257406Z"
    }
   },
   "outputs": [
    {
     "name": "stdout",
     "output_type": "stream",
     "text": [
      "(31715, 13)\n"
     ]
    },
    {
     "data": {
      "text/plain": "       timedelta  n_tokens_title  n_tokens_content  n_unique_tokens  \\\n0          121.0            12.0            1015.0         0.422018   \n1          532.0             9.0             503.0         0.569697   \n2          435.0             9.0             232.0         0.646018   \n3          134.0            12.0             171.0         0.722892   \n4          728.0            11.0             286.0         0.652632   \n...          ...             ...               ...              ...   \n31710       37.0            11.0             440.0         0.564103   \n31711       52.0            14.0               0.0         0.000000   \n31712      121.0             9.0             969.0         0.489583   \n31713      503.0            11.0            1976.0         0.412308   \n31714      106.0            13.0             261.0         0.616279   \n\n       n_non_stop_words  n_non_stop_unique_tokens  num_hrefs  num_self_hrefs  \\\n0                   1.0                  0.545031       10.0             6.0   \n1                   1.0                  0.737542        9.0             0.0   \n2                   1.0                  0.748428       12.0             3.0   \n3                   1.0                  0.867925        9.0             5.0   \n4                   1.0                  0.800000        5.0             2.0   \n...                 ...                       ...        ...             ...   \n31710               1.0                  0.718978       10.0             2.0   \n31711               0.0                  0.000000        0.0             0.0   \n31712               1.0                  0.710623        6.0             5.0   \n31713               1.0                  0.621080       21.0             3.0   \n31714               1.0                  0.780822        5.0             4.0   \n\n       num_imgs  num_videos  ...  weekday_sunday  weekday_thursday  \\\n0          33.0         1.0  ...             0.0               0.0   \n1           NaN         1.0  ...             0.0               1.0   \n2           4.0         1.0  ...             0.0               0.0   \n3           0.0         NaN  ...             0.0               0.0   \n4           NaN         0.0  ...             0.0               1.0   \n...         ...         ...  ...             ...               ...   \n31710       NaN         NaN  ...             0.0               0.0   \n31711       0.0         NaN  ...             0.0               0.0   \n31712       2.0         1.0  ...             0.0               0.0   \n31713       1.0         3.0  ...             0.0               0.0   \n31714       1.0         1.0  ...             0.0               0.0   \n\n       weekday_tuesday  weekday_wednesday  data_channel_bus  \\\n0                  1.0                0.0               1.0   \n1                  0.0                0.0               0.0   \n2                  0.0                1.0               0.0   \n3                  0.0                1.0               1.0   \n4                  0.0                0.0               0.0   \n...                ...                ...               ...   \n31710              1.0                0.0               0.0   \n31711              0.0                0.0               0.0   \n31712              1.0                0.0               0.0   \n31713              0.0                0.0               0.0   \n31714              0.0                1.0               0.0   \n\n       data_channel_entertainment  data_channel_lifestyle  \\\n0                             0.0                     0.0   \n1                             0.0                     0.0   \n2                             0.0                     1.0   \n3                             0.0                     0.0   \n4                             0.0                     0.0   \n...                           ...                     ...   \n31710                         0.0                     0.0   \n31711                         0.0                     1.0   \n31712                         0.0                     0.0   \n31713                         0.0                     1.0   \n31714                         0.0                     0.0   \n\n       data_channel_socmed  data_channel_tech  data_channel_world  \n0                      0.0                0.0                 0.0  \n1                      0.0                1.0                 0.0  \n2                      0.0                0.0                 0.0  \n3                      0.0                0.0                 0.0  \n4                      0.0                1.0                 0.0  \n...                    ...                ...                 ...  \n31710                  0.0                0.0                 1.0  \n31711                  0.0                0.0                 0.0  \n31712                  0.0                1.0                 0.0  \n31713                  0.0                0.0                 0.0  \n31714                  1.0                0.0                 0.0  \n\n[31715 rows x 59 columns]",
      "text/html": "<div>\n<style scoped>\n    .dataframe tbody tr th:only-of-type {\n        vertical-align: middle;\n    }\n\n    .dataframe tbody tr th {\n        vertical-align: top;\n    }\n\n    .dataframe thead th {\n        text-align: right;\n    }\n</style>\n<table border=\"1\" class=\"dataframe\">\n  <thead>\n    <tr style=\"text-align: right;\">\n      <th></th>\n      <th>timedelta</th>\n      <th>n_tokens_title</th>\n      <th>n_tokens_content</th>\n      <th>n_unique_tokens</th>\n      <th>n_non_stop_words</th>\n      <th>n_non_stop_unique_tokens</th>\n      <th>num_hrefs</th>\n      <th>num_self_hrefs</th>\n      <th>num_imgs</th>\n      <th>num_videos</th>\n      <th>...</th>\n      <th>weekday_sunday</th>\n      <th>weekday_thursday</th>\n      <th>weekday_tuesday</th>\n      <th>weekday_wednesday</th>\n      <th>data_channel_bus</th>\n      <th>data_channel_entertainment</th>\n      <th>data_channel_lifestyle</th>\n      <th>data_channel_socmed</th>\n      <th>data_channel_tech</th>\n      <th>data_channel_world</th>\n    </tr>\n  </thead>\n  <tbody>\n    <tr>\n      <th>0</th>\n      <td>121.0</td>\n      <td>12.0</td>\n      <td>1015.0</td>\n      <td>0.422018</td>\n      <td>1.0</td>\n      <td>0.545031</td>\n      <td>10.0</td>\n      <td>6.0</td>\n      <td>33.0</td>\n      <td>1.0</td>\n      <td>...</td>\n      <td>0.0</td>\n      <td>0.0</td>\n      <td>1.0</td>\n      <td>0.0</td>\n      <td>1.0</td>\n      <td>0.0</td>\n      <td>0.0</td>\n      <td>0.0</td>\n      <td>0.0</td>\n      <td>0.0</td>\n    </tr>\n    <tr>\n      <th>1</th>\n      <td>532.0</td>\n      <td>9.0</td>\n      <td>503.0</td>\n      <td>0.569697</td>\n      <td>1.0</td>\n      <td>0.737542</td>\n      <td>9.0</td>\n      <td>0.0</td>\n      <td>NaN</td>\n      <td>1.0</td>\n      <td>...</td>\n      <td>0.0</td>\n      <td>1.0</td>\n      <td>0.0</td>\n      <td>0.0</td>\n      <td>0.0</td>\n      <td>0.0</td>\n      <td>0.0</td>\n      <td>0.0</td>\n      <td>1.0</td>\n      <td>0.0</td>\n    </tr>\n    <tr>\n      <th>2</th>\n      <td>435.0</td>\n      <td>9.0</td>\n      <td>232.0</td>\n      <td>0.646018</td>\n      <td>1.0</td>\n      <td>0.748428</td>\n      <td>12.0</td>\n      <td>3.0</td>\n      <td>4.0</td>\n      <td>1.0</td>\n      <td>...</td>\n      <td>0.0</td>\n      <td>0.0</td>\n      <td>0.0</td>\n      <td>1.0</td>\n      <td>0.0</td>\n      <td>0.0</td>\n      <td>1.0</td>\n      <td>0.0</td>\n      <td>0.0</td>\n      <td>0.0</td>\n    </tr>\n    <tr>\n      <th>3</th>\n      <td>134.0</td>\n      <td>12.0</td>\n      <td>171.0</td>\n      <td>0.722892</td>\n      <td>1.0</td>\n      <td>0.867925</td>\n      <td>9.0</td>\n      <td>5.0</td>\n      <td>0.0</td>\n      <td>NaN</td>\n      <td>...</td>\n      <td>0.0</td>\n      <td>0.0</td>\n      <td>0.0</td>\n      <td>1.0</td>\n      <td>1.0</td>\n      <td>0.0</td>\n      <td>0.0</td>\n      <td>0.0</td>\n      <td>0.0</td>\n      <td>0.0</td>\n    </tr>\n    <tr>\n      <th>4</th>\n      <td>728.0</td>\n      <td>11.0</td>\n      <td>286.0</td>\n      <td>0.652632</td>\n      <td>1.0</td>\n      <td>0.800000</td>\n      <td>5.0</td>\n      <td>2.0</td>\n      <td>NaN</td>\n      <td>0.0</td>\n      <td>...</td>\n      <td>0.0</td>\n      <td>1.0</td>\n      <td>0.0</td>\n      <td>0.0</td>\n      <td>0.0</td>\n      <td>0.0</td>\n      <td>0.0</td>\n      <td>0.0</td>\n      <td>1.0</td>\n      <td>0.0</td>\n    </tr>\n    <tr>\n      <th>...</th>\n      <td>...</td>\n      <td>...</td>\n      <td>...</td>\n      <td>...</td>\n      <td>...</td>\n      <td>...</td>\n      <td>...</td>\n      <td>...</td>\n      <td>...</td>\n      <td>...</td>\n      <td>...</td>\n      <td>...</td>\n      <td>...</td>\n      <td>...</td>\n      <td>...</td>\n      <td>...</td>\n      <td>...</td>\n      <td>...</td>\n      <td>...</td>\n      <td>...</td>\n      <td>...</td>\n    </tr>\n    <tr>\n      <th>31710</th>\n      <td>37.0</td>\n      <td>11.0</td>\n      <td>440.0</td>\n      <td>0.564103</td>\n      <td>1.0</td>\n      <td>0.718978</td>\n      <td>10.0</td>\n      <td>2.0</td>\n      <td>NaN</td>\n      <td>NaN</td>\n      <td>...</td>\n      <td>0.0</td>\n      <td>0.0</td>\n      <td>1.0</td>\n      <td>0.0</td>\n      <td>0.0</td>\n      <td>0.0</td>\n      <td>0.0</td>\n      <td>0.0</td>\n      <td>0.0</td>\n      <td>1.0</td>\n    </tr>\n    <tr>\n      <th>31711</th>\n      <td>52.0</td>\n      <td>14.0</td>\n      <td>0.0</td>\n      <td>0.000000</td>\n      <td>0.0</td>\n      <td>0.000000</td>\n      <td>0.0</td>\n      <td>0.0</td>\n      <td>0.0</td>\n      <td>NaN</td>\n      <td>...</td>\n      <td>0.0</td>\n      <td>0.0</td>\n      <td>0.0</td>\n      <td>0.0</td>\n      <td>0.0</td>\n      <td>0.0</td>\n      <td>1.0</td>\n      <td>0.0</td>\n      <td>0.0</td>\n      <td>0.0</td>\n    </tr>\n    <tr>\n      <th>31712</th>\n      <td>121.0</td>\n      <td>9.0</td>\n      <td>969.0</td>\n      <td>0.489583</td>\n      <td>1.0</td>\n      <td>0.710623</td>\n      <td>6.0</td>\n      <td>5.0</td>\n      <td>2.0</td>\n      <td>1.0</td>\n      <td>...</td>\n      <td>0.0</td>\n      <td>0.0</td>\n      <td>1.0</td>\n      <td>0.0</td>\n      <td>0.0</td>\n      <td>0.0</td>\n      <td>0.0</td>\n      <td>0.0</td>\n      <td>1.0</td>\n      <td>0.0</td>\n    </tr>\n    <tr>\n      <th>31713</th>\n      <td>503.0</td>\n      <td>11.0</td>\n      <td>1976.0</td>\n      <td>0.412308</td>\n      <td>1.0</td>\n      <td>0.621080</td>\n      <td>21.0</td>\n      <td>3.0</td>\n      <td>1.0</td>\n      <td>3.0</td>\n      <td>...</td>\n      <td>0.0</td>\n      <td>0.0</td>\n      <td>0.0</td>\n      <td>0.0</td>\n      <td>0.0</td>\n      <td>0.0</td>\n      <td>1.0</td>\n      <td>0.0</td>\n      <td>0.0</td>\n      <td>0.0</td>\n    </tr>\n    <tr>\n      <th>31714</th>\n      <td>106.0</td>\n      <td>13.0</td>\n      <td>261.0</td>\n      <td>0.616279</td>\n      <td>1.0</td>\n      <td>0.780822</td>\n      <td>5.0</td>\n      <td>4.0</td>\n      <td>1.0</td>\n      <td>1.0</td>\n      <td>...</td>\n      <td>0.0</td>\n      <td>0.0</td>\n      <td>0.0</td>\n      <td>1.0</td>\n      <td>0.0</td>\n      <td>0.0</td>\n      <td>0.0</td>\n      <td>1.0</td>\n      <td>0.0</td>\n      <td>0.0</td>\n    </tr>\n  </tbody>\n</table>\n<p>31715 rows × 59 columns</p>\n</div>"
     },
     "execution_count": 4,
     "metadata": {},
     "output_type": "execute_result"
    }
   ],
   "source": [
    "enc = OneHotEncoder()\n",
    "encoded_df = pd.concat([df_dev['weekday'], df_dev['data_channel']], axis=1)\n",
    "enc.fit(encoded_df)\n",
    "encoded_df = enc.transform(encoded_df)\n",
    "additional_columns = enc.get_feature_names_out()\n",
    "print(encoded_df.toarray().shape)\n",
    "working_df_dev = df_dev.copy()\n",
    "working_df_dev[additional_columns] = encoded_df.toarray()\n",
    "working_df_dev.drop(['weekday', 'data_channel', 'url', 'id'], axis = 1, inplace=True)\n",
    "working_df_dev"
   ]
  },
  {
   "attachments": {},
   "cell_type": "markdown",
   "metadata": {},
   "source": [
    "## Numerical data"
   ]
  },
  {
   "attachments": {},
   "cell_type": "markdown",
   "metadata": {},
   "source": [
    "### Feature selection based on correlation\n",
    "- Features to delete (look at multivariate analysis):\n",
    "    - n_unique_tokens\n",
    "    - n_non_stop_words\n",
    "    - kw_max_min\n",
    "    - kw_min_max\n",
    "    - kw_max_avg\n",
    "    - abs_title_sentiment_polarity\n",
    "    - abs_title_subjectivity\n",
    "    - rate_positive_words \n",
    "    - timedelta\n",
    "    - max_negative_polarity\n",
    "    - min_negative_polarity\n",
    "    - kw_min_min\n",
    "    - kw_max_max\n",
    "    - num_self_hrefs\n",
    "    - n_tokens_content (to be verified)\n",
    "    - data_channel_business\n",
    "    - LDA_00"
   ]
  },
  {
   "cell_type": "code",
   "execution_count": 5,
   "metadata": {
    "ExecuteTime": {
     "end_time": "2023-06-07T20:04:50.448087Z",
     "start_time": "2023-06-07T20:04:50.444552Z"
    }
   },
   "outputs": [],
   "source": [
    "working_df_dev.drop(columns=['n_unique_tokens','n_non_stop_words','kw_max_min','kw_min_max','kw_max_avg','abs_title_sentiment_polarity',\n",
    "                     'abs_title_subjectivity','rate_positive_words','timedelta','max_negative_polarity','min_negative_polarity',\n",
    "                     'kw_min_min','kw_max_max','num_self_hrefs','data_channel_bus','LDA_00'], inplace=True)"
   ]
  },
  {
   "cell_type": "code",
   "execution_count": 6,
   "metadata": {
    "ExecuteTime": {
     "end_time": "2023-06-07T20:04:52.458292Z",
     "start_time": "2023-06-07T20:04:52.402793Z"
    }
   },
   "outputs": [
    {
     "data": {
      "text/plain": "   n_tokens_title  n_tokens_content  n_non_stop_unique_tokens  num_hrefs  \\\n0            12.0            1015.0                  0.545031       10.0   \n1             9.0             503.0                  0.737542        9.0   \n2             9.0             232.0                  0.748428       12.0   \n3            12.0             171.0                  0.867925        9.0   \n4            11.0             286.0                  0.800000        5.0   \n\n   num_imgs  num_videos  average_token_length  num_keywords  kw_avg_min  \\\n0      33.0         1.0              4.656158           4.0  110.500000   \n1       NaN         1.0              4.576541          10.0  524.750000   \n2       4.0         1.0              4.935345           6.0  198.666667   \n3       0.0         NaN              4.970760           6.0  444.166667   \n4       NaN         0.0              5.006993           NaN  356.200000   \n\n      kw_avg_max  ...  weekday_saturday  weekday_sunday  weekday_thursday  \\\n0  398350.000000  ...               0.0             0.0               0.0   \n1  117960.000000  ...               0.0             0.0               1.0   \n2  573878.333333  ...               0.0             0.0               0.0   \n3  311033.333333  ...               0.0             0.0               0.0   \n4    6830.125000  ...               0.0             0.0               1.0   \n\n   weekday_tuesday  weekday_wednesday  data_channel_entertainment  \\\n0              1.0                0.0                         0.0   \n1              0.0                0.0                         0.0   \n2              0.0                1.0                         0.0   \n3              0.0                1.0                         0.0   \n4              0.0                0.0                         0.0   \n\n   data_channel_lifestyle  data_channel_socmed  data_channel_tech  \\\n0                     0.0                  0.0                0.0   \n1                     0.0                  0.0                1.0   \n2                     1.0                  0.0                0.0   \n3                     0.0                  0.0                0.0   \n4                     0.0                  0.0                1.0   \n\n   data_channel_world  \n0                 0.0  \n1                 0.0  \n2                 0.0  \n3                 0.0  \n4                 0.0  \n\n[5 rows x 43 columns]",
      "text/html": "<div>\n<style scoped>\n    .dataframe tbody tr th:only-of-type {\n        vertical-align: middle;\n    }\n\n    .dataframe tbody tr th {\n        vertical-align: top;\n    }\n\n    .dataframe thead th {\n        text-align: right;\n    }\n</style>\n<table border=\"1\" class=\"dataframe\">\n  <thead>\n    <tr style=\"text-align: right;\">\n      <th></th>\n      <th>n_tokens_title</th>\n      <th>n_tokens_content</th>\n      <th>n_non_stop_unique_tokens</th>\n      <th>num_hrefs</th>\n      <th>num_imgs</th>\n      <th>num_videos</th>\n      <th>average_token_length</th>\n      <th>num_keywords</th>\n      <th>kw_avg_min</th>\n      <th>kw_avg_max</th>\n      <th>...</th>\n      <th>weekday_saturday</th>\n      <th>weekday_sunday</th>\n      <th>weekday_thursday</th>\n      <th>weekday_tuesday</th>\n      <th>weekday_wednesday</th>\n      <th>data_channel_entertainment</th>\n      <th>data_channel_lifestyle</th>\n      <th>data_channel_socmed</th>\n      <th>data_channel_tech</th>\n      <th>data_channel_world</th>\n    </tr>\n  </thead>\n  <tbody>\n    <tr>\n      <th>0</th>\n      <td>12.0</td>\n      <td>1015.0</td>\n      <td>0.545031</td>\n      <td>10.0</td>\n      <td>33.0</td>\n      <td>1.0</td>\n      <td>4.656158</td>\n      <td>4.0</td>\n      <td>110.500000</td>\n      <td>398350.000000</td>\n      <td>...</td>\n      <td>0.0</td>\n      <td>0.0</td>\n      <td>0.0</td>\n      <td>1.0</td>\n      <td>0.0</td>\n      <td>0.0</td>\n      <td>0.0</td>\n      <td>0.0</td>\n      <td>0.0</td>\n      <td>0.0</td>\n    </tr>\n    <tr>\n      <th>1</th>\n      <td>9.0</td>\n      <td>503.0</td>\n      <td>0.737542</td>\n      <td>9.0</td>\n      <td>NaN</td>\n      <td>1.0</td>\n      <td>4.576541</td>\n      <td>10.0</td>\n      <td>524.750000</td>\n      <td>117960.000000</td>\n      <td>...</td>\n      <td>0.0</td>\n      <td>0.0</td>\n      <td>1.0</td>\n      <td>0.0</td>\n      <td>0.0</td>\n      <td>0.0</td>\n      <td>0.0</td>\n      <td>0.0</td>\n      <td>1.0</td>\n      <td>0.0</td>\n    </tr>\n    <tr>\n      <th>2</th>\n      <td>9.0</td>\n      <td>232.0</td>\n      <td>0.748428</td>\n      <td>12.0</td>\n      <td>4.0</td>\n      <td>1.0</td>\n      <td>4.935345</td>\n      <td>6.0</td>\n      <td>198.666667</td>\n      <td>573878.333333</td>\n      <td>...</td>\n      <td>0.0</td>\n      <td>0.0</td>\n      <td>0.0</td>\n      <td>0.0</td>\n      <td>1.0</td>\n      <td>0.0</td>\n      <td>1.0</td>\n      <td>0.0</td>\n      <td>0.0</td>\n      <td>0.0</td>\n    </tr>\n    <tr>\n      <th>3</th>\n      <td>12.0</td>\n      <td>171.0</td>\n      <td>0.867925</td>\n      <td>9.0</td>\n      <td>0.0</td>\n      <td>NaN</td>\n      <td>4.970760</td>\n      <td>6.0</td>\n      <td>444.166667</td>\n      <td>311033.333333</td>\n      <td>...</td>\n      <td>0.0</td>\n      <td>0.0</td>\n      <td>0.0</td>\n      <td>0.0</td>\n      <td>1.0</td>\n      <td>0.0</td>\n      <td>0.0</td>\n      <td>0.0</td>\n      <td>0.0</td>\n      <td>0.0</td>\n    </tr>\n    <tr>\n      <th>4</th>\n      <td>11.0</td>\n      <td>286.0</td>\n      <td>0.800000</td>\n      <td>5.0</td>\n      <td>NaN</td>\n      <td>0.0</td>\n      <td>5.006993</td>\n      <td>NaN</td>\n      <td>356.200000</td>\n      <td>6830.125000</td>\n      <td>...</td>\n      <td>0.0</td>\n      <td>0.0</td>\n      <td>1.0</td>\n      <td>0.0</td>\n      <td>0.0</td>\n      <td>0.0</td>\n      <td>0.0</td>\n      <td>0.0</td>\n      <td>1.0</td>\n      <td>0.0</td>\n    </tr>\n  </tbody>\n</table>\n<p>5 rows × 43 columns</p>\n</div>"
     },
     "execution_count": 6,
     "metadata": {},
     "output_type": "execute_result"
    }
   ],
   "source": [
    "working_df_dev.head()"
   ]
  },
  {
   "attachments": {},
   "cell_type": "markdown",
   "metadata": {},
   "source": [
    "### Feature selection based on univariate analysis\n",
    "- Features to delete:\n",
    "    - n_tokens_content: It can be observed that there are a lot of values equal to 0 words: this can be due to an error during the data collection step. As solution, we decide to drop the records corresponding to the value zero of this feature (3% of the whole dataset)\n",
    "- Features to transform:\n",
    "    - num_imgs: Filled NaN values with 0 and rescaled in logarithmic scale to better distribute data and remove outliers.\n",
    "    - num_videos: Filled NaN values with 0 and rescaled in logarithmic scale to better distribute data and remove outliers.\n",
    "    - n_tokens_content: Rescaled in logarithmic scale to better distribute data and remove outliers\n",
    "    - avg_negative_polarity: Use absolute value to bring the range of this feature between [0, +1] as the corresponding \"avg_positive_polarity\" features\n",
    "    - num_keywords: Filled NaN values with 0\n",
    "    - num_hrefs: Rescaled in logarithmic scale to better distribute data\n",
    "    - shares: Rescaled in logarithmic scale to better distribute data\n",
    "- Features to scale:\n",
    "    - n_tokens_content: standard scaler\n",
    "    - n_tokens_title: standard scaler\n",
    "    - kw_avg_min: standard scaler\n",
    "    - kw_avg_max: standard scaler\n",
    "    - kw_min_avg: standard scaler\n",
    "    - kw_avg_avg: standard scaler\n",
    "    - self_reference_min_shares: standard scaler\n",
    "    - self_reference_max_shares: standard scaler\n",
    "    - self_reference_avg_sharess: standard scaler\n",
    "    \n"
   ]
  },
  {
   "cell_type": "code",
   "execution_count": 7,
   "metadata": {
    "ExecuteTime": {
     "end_time": "2023-06-07T20:06:25.774365Z",
     "start_time": "2023-06-07T20:06:25.761215Z"
    }
   },
   "outputs": [],
   "source": [
    "working_df_dev = working_df_dev.query(\"n_tokens_content > 0\")"
   ]
  },
  {
   "cell_type": "code",
   "execution_count": 8,
   "metadata": {
    "ExecuteTime": {
     "end_time": "2023-06-07T20:06:26.382998Z",
     "start_time": "2023-06-07T20:06:26.369866Z"
    }
   },
   "outputs": [
    {
     "name": "stderr",
     "output_type": "stream",
     "text": [
      "/var/folders/6w/dmgtk2bn4jx1mdj87jl8c6sh0000gn/T/ipykernel_4868/420597367.py:1: SettingWithCopyWarning: \n",
      "A value is trying to be set on a copy of a slice from a DataFrame.\n",
      "Try using .loc[row_indexer,col_indexer] = value instead\n",
      "\n",
      "See the caveats in the documentation: https://pandas.pydata.org/pandas-docs/stable/user_guide/indexing.html#returning-a-view-versus-a-copy\n",
      "  working_df_dev['n_tokens_content'] = np.log(working_df_dev['n_tokens_content'])\n"
     ]
    }
   ],
   "source": [
    "working_df_dev['n_tokens_content'] = np.log(working_df_dev['n_tokens_content'])"
   ]
  },
  {
   "cell_type": "code",
   "execution_count": 9,
   "metadata": {
    "ExecuteTime": {
     "end_time": "2023-06-07T20:06:27.770948Z",
     "start_time": "2023-06-07T20:06:27.760513Z"
    }
   },
   "outputs": [
    {
     "name": "stderr",
     "output_type": "stream",
     "text": [
      "/var/folders/6w/dmgtk2bn4jx1mdj87jl8c6sh0000gn/T/ipykernel_4868/4188442937.py:1: SettingWithCopyWarning: \n",
      "A value is trying to be set on a copy of a slice from a DataFrame\n",
      "\n",
      "See the caveats in the documentation: https://pandas.pydata.org/pandas-docs/stable/user_guide/indexing.html#returning-a-view-versus-a-copy\n",
      "  working_df_dev['num_imgs'].fillna(0, inplace=True)\n",
      "/var/folders/6w/dmgtk2bn4jx1mdj87jl8c6sh0000gn/T/ipykernel_4868/4188442937.py:2: SettingWithCopyWarning: \n",
      "A value is trying to be set on a copy of a slice from a DataFrame.\n",
      "Try using .loc[row_indexer,col_indexer] = value instead\n",
      "\n",
      "See the caveats in the documentation: https://pandas.pydata.org/pandas-docs/stable/user_guide/indexing.html#returning-a-view-versus-a-copy\n",
      "  working_df_dev['num_imgs'] = np.log(1+working_df_dev['num_imgs'])\n"
     ]
    }
   ],
   "source": [
    "working_df_dev['num_imgs'].fillna(0, inplace=True)\n",
    "working_df_dev['num_imgs'] = np.log(1+working_df_dev['num_imgs'])"
   ]
  },
  {
   "cell_type": "code",
   "execution_count": 10,
   "metadata": {
    "ExecuteTime": {
     "end_time": "2023-06-07T20:06:28.442611Z",
     "start_time": "2023-06-07T20:06:28.425150Z"
    }
   },
   "outputs": [
    {
     "name": "stderr",
     "output_type": "stream",
     "text": [
      "/var/folders/6w/dmgtk2bn4jx1mdj87jl8c6sh0000gn/T/ipykernel_4868/1745796961.py:1: SettingWithCopyWarning: \n",
      "A value is trying to be set on a copy of a slice from a DataFrame\n",
      "\n",
      "See the caveats in the documentation: https://pandas.pydata.org/pandas-docs/stable/user_guide/indexing.html#returning-a-view-versus-a-copy\n",
      "  working_df_dev['num_videos'].fillna(0, inplace=True)\n",
      "/var/folders/6w/dmgtk2bn4jx1mdj87jl8c6sh0000gn/T/ipykernel_4868/1745796961.py:2: SettingWithCopyWarning: \n",
      "A value is trying to be set on a copy of a slice from a DataFrame.\n",
      "Try using .loc[row_indexer,col_indexer] = value instead\n",
      "\n",
      "See the caveats in the documentation: https://pandas.pydata.org/pandas-docs/stable/user_guide/indexing.html#returning-a-view-versus-a-copy\n",
      "  working_df_dev['num_videos'] = np.log(1+working_df_dev['num_videos'])\n"
     ]
    }
   ],
   "source": [
    "working_df_dev['num_videos'].fillna(0, inplace=True)\n",
    "working_df_dev['num_videos'] = np.log(1+working_df_dev['num_videos'])"
   ]
  },
  {
   "cell_type": "code",
   "execution_count": 11,
   "metadata": {
    "ExecuteTime": {
     "end_time": "2023-06-07T20:06:29.179364Z",
     "start_time": "2023-06-07T20:06:29.135373Z"
    }
   },
   "outputs": [
    {
     "name": "stderr",
     "output_type": "stream",
     "text": [
      "/var/folders/6w/dmgtk2bn4jx1mdj87jl8c6sh0000gn/T/ipykernel_4868/1289566745.py:3: SettingWithCopyWarning: \n",
      "A value is trying to be set on a copy of a slice from a DataFrame.\n",
      "Try using .loc[row_indexer,col_indexer] = value instead\n",
      "\n",
      "See the caveats in the documentation: https://pandas.pydata.org/pandas-docs/stable/user_guide/indexing.html#returning-a-view-versus-a-copy\n",
      "  working_df_dev[['n_tokens_title', 'n_tokens_content']] = scaled_features\n"
     ]
    }
   ],
   "source": [
    "std_scaler = StandardScaler().fit(working_df_dev[['n_tokens_title', 'n_tokens_content']])\n",
    "scaled_features = std_scaler.transform(working_df_dev[['n_tokens_title', 'n_tokens_content']])\n",
    "working_df_dev[['n_tokens_title', 'n_tokens_content']] = scaled_features"
   ]
  },
  {
   "cell_type": "code",
   "execution_count": 12,
   "outputs": [
    {
     "name": "stderr",
     "output_type": "stream",
     "text": [
      "/var/folders/6w/dmgtk2bn4jx1mdj87jl8c6sh0000gn/T/ipykernel_4868/4135121572.py:1: SettingWithCopyWarning: \n",
      "A value is trying to be set on a copy of a slice from a DataFrame.\n",
      "Try using .loc[row_indexer,col_indexer] = value instead\n",
      "\n",
      "See the caveats in the documentation: https://pandas.pydata.org/pandas-docs/stable/user_guide/indexing.html#returning-a-view-versus-a-copy\n",
      "  working_df_dev['avg_negative_polarity'] = working_df_dev['avg_negative_polarity'].abs()\n"
     ]
    }
   ],
   "source": [
    "working_df_dev['avg_negative_polarity'] = working_df_dev['avg_negative_polarity'].abs()"
   ],
   "metadata": {
    "collapsed": false,
    "ExecuteTime": {
     "end_time": "2023-06-07T20:06:29.901900Z",
     "start_time": "2023-06-07T20:06:29.888890Z"
    }
   }
  },
  {
   "cell_type": "code",
   "execution_count": 13,
   "outputs": [
    {
     "name": "stderr",
     "output_type": "stream",
     "text": [
      "/var/folders/6w/dmgtk2bn4jx1mdj87jl8c6sh0000gn/T/ipykernel_4868/619483132.py:1: SettingWithCopyWarning: \n",
      "A value is trying to be set on a copy of a slice from a DataFrame\n",
      "\n",
      "See the caveats in the documentation: https://pandas.pydata.org/pandas-docs/stable/user_guide/indexing.html#returning-a-view-versus-a-copy\n",
      "  working_df_dev['num_keywords'].fillna(0, inplace=True)\n"
     ]
    }
   ],
   "source": [
    "working_df_dev['num_keywords'].fillna(0, inplace=True)"
   ],
   "metadata": {
    "collapsed": false,
    "ExecuteTime": {
     "end_time": "2023-06-07T20:06:30.525361Z",
     "start_time": "2023-06-07T20:06:30.518159Z"
    }
   }
  },
  {
   "cell_type": "code",
   "execution_count": 14,
   "outputs": [
    {
     "name": "stderr",
     "output_type": "stream",
     "text": [
      "/var/folders/6w/dmgtk2bn4jx1mdj87jl8c6sh0000gn/T/ipykernel_4868/1159595187.py:1: SettingWithCopyWarning: \n",
      "A value is trying to be set on a copy of a slice from a DataFrame.\n",
      "Try using .loc[row_indexer,col_indexer] = value instead\n",
      "\n",
      "See the caveats in the documentation: https://pandas.pydata.org/pandas-docs/stable/user_guide/indexing.html#returning-a-view-versus-a-copy\n",
      "  working_df_dev['shares'] = np.log(working_df_dev['shares'])\n"
     ]
    }
   ],
   "source": [
    "working_df_dev['shares'] = np.log(working_df_dev['shares'])"
   ],
   "metadata": {
    "collapsed": false,
    "ExecuteTime": {
     "end_time": "2023-06-07T20:06:31.382355Z",
     "start_time": "2023-06-07T20:06:31.371017Z"
    }
   }
  },
  {
   "cell_type": "code",
   "execution_count": 15,
   "outputs": [
    {
     "name": "stderr",
     "output_type": "stream",
     "text": [
      "/var/folders/6w/dmgtk2bn4jx1mdj87jl8c6sh0000gn/T/ipykernel_4868/3702993585.py:3: SettingWithCopyWarning: \n",
      "A value is trying to be set on a copy of a slice from a DataFrame.\n",
      "Try using .loc[row_indexer,col_indexer] = value instead\n",
      "\n",
      "See the caveats in the documentation: https://pandas.pydata.org/pandas-docs/stable/user_guide/indexing.html#returning-a-view-versus-a-copy\n",
      "  working_df_dev[['kw_avg_min', 'kw_avg_max', 'kw_min_avg', 'kw_avg_avg']] = scaled_features\n"
     ]
    }
   ],
   "source": [
    "std_scaler = StandardScaler().fit(working_df_dev[['kw_avg_min', 'kw_avg_max', 'kw_min_avg', 'kw_avg_avg']])\n",
    "scaled_features = std_scaler.transform(working_df_dev[['kw_avg_min', 'kw_avg_max', 'kw_min_avg', 'kw_avg_avg']])\n",
    "working_df_dev[['kw_avg_min', 'kw_avg_max', 'kw_min_avg', 'kw_avg_avg']] = scaled_features"
   ],
   "metadata": {
    "collapsed": false,
    "ExecuteTime": {
     "end_time": "2023-06-07T20:06:31.979026Z",
     "start_time": "2023-06-07T20:06:31.949802Z"
    }
   }
  },
  {
   "cell_type": "code",
   "execution_count": 16,
   "outputs": [
    {
     "name": "stderr",
     "output_type": "stream",
     "text": [
      "/var/folders/6w/dmgtk2bn4jx1mdj87jl8c6sh0000gn/T/ipykernel_4868/2796675946.py:3: SettingWithCopyWarning: \n",
      "A value is trying to be set on a copy of a slice from a DataFrame.\n",
      "Try using .loc[row_indexer,col_indexer] = value instead\n",
      "\n",
      "See the caveats in the documentation: https://pandas.pydata.org/pandas-docs/stable/user_guide/indexing.html#returning-a-view-versus-a-copy\n",
      "  working_df_dev[['self_reference_min_shares', 'self_reference_max_shares', 'self_reference_avg_sharess']] = scaled_features\n"
     ]
    }
   ],
   "source": [
    "std_scaler = StandardScaler().fit(working_df_dev[['self_reference_min_shares', 'self_reference_max_shares', 'self_reference_avg_sharess']])\n",
    "scaled_features = std_scaler.transform(working_df_dev[['self_reference_min_shares', 'self_reference_max_shares', 'self_reference_avg_sharess']])\n",
    "working_df_dev[['self_reference_min_shares', 'self_reference_max_shares', 'self_reference_avg_sharess']] = scaled_features"
   ],
   "metadata": {
    "collapsed": false,
    "ExecuteTime": {
     "end_time": "2023-06-07T20:06:40.940808Z",
     "start_time": "2023-06-07T20:06:40.926115Z"
    }
   }
  },
  {
   "cell_type": "code",
   "execution_count": 47,
   "outputs": [
    {
     "name": "stderr",
     "output_type": "stream",
     "text": [
      "/var/folders/6w/dmgtk2bn4jx1mdj87jl8c6sh0000gn/T/ipykernel_4868/2945718431.py:1: SettingWithCopyWarning: \n",
      "A value is trying to be set on a copy of a slice from a DataFrame.\n",
      "Try using .loc[row_indexer,col_indexer] = value instead\n",
      "\n",
      "See the caveats in the documentation: https://pandas.pydata.org/pandas-docs/stable/user_guide/indexing.html#returning-a-view-versus-a-copy\n",
      "  working_df_dev['num_hrefs'] = np.log(1 + working_df_dev['num_hrefs'])\n"
     ]
    }
   ],
   "source": [
    "working_df_dev['num_hrefs'] = np.log(1 + working_df_dev['num_hrefs'])"
   ],
   "metadata": {
    "collapsed": false,
    "ExecuteTime": {
     "end_time": "2023-06-07T21:09:43.920475Z",
     "start_time": "2023-06-07T21:09:43.892746Z"
    }
   }
  },
  {
   "cell_type": "code",
   "execution_count": 72,
   "outputs": [
    {
     "data": {
      "text/plain": "       n_tokens_title  n_tokens_content  n_non_stop_unique_tokens  num_hrefs  \\\n0            0.768992          1.182360                  0.545031   2.397895   \n1           -0.649891          0.213789                  0.737542   2.302585   \n2           -0.649891         -0.853837                  0.748428   2.564949   \n3            0.768992         -1.274725                  0.867925   2.302585   \n4            0.296031         -0.565145                  0.800000   1.791759   \n...               ...               ...                       ...        ...   \n31709        0.296031          0.254330                  0.703008   2.302585   \n31710        0.296031          0.029174                  0.718978   2.397895   \n31712       -0.649891          1.118374                  0.710623   1.945910   \n31713        0.296031          2.101447                  0.621080   3.091042   \n31714        1.241953         -0.691341                  0.780822   1.791759   \n\n       num_imgs  num_videos  average_token_length  num_keywords  kw_avg_min  \\\n0      3.526361    0.693147              4.656158           4.0   -0.322607   \n1      0.000000    0.693147              4.576541          10.0    0.340016   \n2      1.609438    0.693147              4.935345           6.0   -0.181578   \n3      0.000000    0.000000              4.970760           6.0    0.211117   \n4      0.000000    0.000000              5.006993           0.0    0.070408   \n...         ...         ...                   ...           ...         ...   \n31709  0.693147    0.693147              4.372587           0.0    0.045028   \n31710  0.000000    0.000000              4.784091           5.0   -0.142975   \n31712  1.098612    0.693147              4.594427           8.0   -0.184777   \n31713  0.693147    1.386294              4.353239          10.0   -0.220395   \n31714  0.693147    0.693147              4.279693           0.0   -0.241829   \n\n       kw_avg_max  ...  weekday_saturday  weekday_sunday  weekday_thursday  \\\n0        1.085158  ...               0.0             0.0               0.0   \n1       -1.040296  ...               0.0             0.0               1.0   \n2        2.415724  ...               0.0             0.0               0.0   \n3        0.423268  ...               0.0             0.0               0.0   \n4       -1.882699  ...               0.0             0.0               1.0   \n...           ...  ...               ...             ...               ...   \n31709   -0.256184  ...               0.0             0.0               1.0   \n31710    0.010189  ...               0.0             0.0               0.0   \n31712   -0.335967  ...               0.0             0.0               0.0   \n31713    0.156338  ...               0.0             0.0               0.0   \n31714    0.667860  ...               0.0             0.0               0.0   \n\n       weekday_tuesday  weekday_wednesday  data_channel_entertainment  \\\n0                  1.0                0.0                         0.0   \n1                  0.0                0.0                         0.0   \n2                  0.0                1.0                         0.0   \n3                  0.0                1.0                         0.0   \n4                  0.0                0.0                         0.0   \n...                ...                ...                         ...   \n31709              0.0                0.0                         0.0   \n31710              1.0                0.0                         0.0   \n31712              1.0                0.0                         0.0   \n31713              0.0                0.0                         0.0   \n31714              0.0                1.0                         0.0   \n\n       data_channel_lifestyle  data_channel_socmed  data_channel_tech  \\\n0                         0.0                  0.0                0.0   \n1                         0.0                  0.0                1.0   \n2                         1.0                  0.0                0.0   \n3                         0.0                  0.0                0.0   \n4                         0.0                  0.0                1.0   \n...                       ...                  ...                ...   \n31709                     1.0                  0.0                0.0   \n31710                     0.0                  0.0                0.0   \n31712                     0.0                  0.0                1.0   \n31713                     1.0                  0.0                0.0   \n31714                     0.0                  1.0                0.0   \n\n       data_channel_world  \n0                     0.0  \n1                     0.0  \n2                     0.0  \n3                     0.0  \n4                     0.0  \n...                   ...  \n31709                 0.0  \n31710                 1.0  \n31712                 0.0  \n31713                 0.0  \n31714                 0.0  \n\n[30768 rows x 43 columns]",
      "text/html": "<div>\n<style scoped>\n    .dataframe tbody tr th:only-of-type {\n        vertical-align: middle;\n    }\n\n    .dataframe tbody tr th {\n        vertical-align: top;\n    }\n\n    .dataframe thead th {\n        text-align: right;\n    }\n</style>\n<table border=\"1\" class=\"dataframe\">\n  <thead>\n    <tr style=\"text-align: right;\">\n      <th></th>\n      <th>n_tokens_title</th>\n      <th>n_tokens_content</th>\n      <th>n_non_stop_unique_tokens</th>\n      <th>num_hrefs</th>\n      <th>num_imgs</th>\n      <th>num_videos</th>\n      <th>average_token_length</th>\n      <th>num_keywords</th>\n      <th>kw_avg_min</th>\n      <th>kw_avg_max</th>\n      <th>...</th>\n      <th>weekday_saturday</th>\n      <th>weekday_sunday</th>\n      <th>weekday_thursday</th>\n      <th>weekday_tuesday</th>\n      <th>weekday_wednesday</th>\n      <th>data_channel_entertainment</th>\n      <th>data_channel_lifestyle</th>\n      <th>data_channel_socmed</th>\n      <th>data_channel_tech</th>\n      <th>data_channel_world</th>\n    </tr>\n  </thead>\n  <tbody>\n    <tr>\n      <th>0</th>\n      <td>0.768992</td>\n      <td>1.182360</td>\n      <td>0.545031</td>\n      <td>2.397895</td>\n      <td>3.526361</td>\n      <td>0.693147</td>\n      <td>4.656158</td>\n      <td>4.0</td>\n      <td>-0.322607</td>\n      <td>1.085158</td>\n      <td>...</td>\n      <td>0.0</td>\n      <td>0.0</td>\n      <td>0.0</td>\n      <td>1.0</td>\n      <td>0.0</td>\n      <td>0.0</td>\n      <td>0.0</td>\n      <td>0.0</td>\n      <td>0.0</td>\n      <td>0.0</td>\n    </tr>\n    <tr>\n      <th>1</th>\n      <td>-0.649891</td>\n      <td>0.213789</td>\n      <td>0.737542</td>\n      <td>2.302585</td>\n      <td>0.000000</td>\n      <td>0.693147</td>\n      <td>4.576541</td>\n      <td>10.0</td>\n      <td>0.340016</td>\n      <td>-1.040296</td>\n      <td>...</td>\n      <td>0.0</td>\n      <td>0.0</td>\n      <td>1.0</td>\n      <td>0.0</td>\n      <td>0.0</td>\n      <td>0.0</td>\n      <td>0.0</td>\n      <td>0.0</td>\n      <td>1.0</td>\n      <td>0.0</td>\n    </tr>\n    <tr>\n      <th>2</th>\n      <td>-0.649891</td>\n      <td>-0.853837</td>\n      <td>0.748428</td>\n      <td>2.564949</td>\n      <td>1.609438</td>\n      <td>0.693147</td>\n      <td>4.935345</td>\n      <td>6.0</td>\n      <td>-0.181578</td>\n      <td>2.415724</td>\n      <td>...</td>\n      <td>0.0</td>\n      <td>0.0</td>\n      <td>0.0</td>\n      <td>0.0</td>\n      <td>1.0</td>\n      <td>0.0</td>\n      <td>1.0</td>\n      <td>0.0</td>\n      <td>0.0</td>\n      <td>0.0</td>\n    </tr>\n    <tr>\n      <th>3</th>\n      <td>0.768992</td>\n      <td>-1.274725</td>\n      <td>0.867925</td>\n      <td>2.302585</td>\n      <td>0.000000</td>\n      <td>0.000000</td>\n      <td>4.970760</td>\n      <td>6.0</td>\n      <td>0.211117</td>\n      <td>0.423268</td>\n      <td>...</td>\n      <td>0.0</td>\n      <td>0.0</td>\n      <td>0.0</td>\n      <td>0.0</td>\n      <td>1.0</td>\n      <td>0.0</td>\n      <td>0.0</td>\n      <td>0.0</td>\n      <td>0.0</td>\n      <td>0.0</td>\n    </tr>\n    <tr>\n      <th>4</th>\n      <td>0.296031</td>\n      <td>-0.565145</td>\n      <td>0.800000</td>\n      <td>1.791759</td>\n      <td>0.000000</td>\n      <td>0.000000</td>\n      <td>5.006993</td>\n      <td>0.0</td>\n      <td>0.070408</td>\n      <td>-1.882699</td>\n      <td>...</td>\n      <td>0.0</td>\n      <td>0.0</td>\n      <td>1.0</td>\n      <td>0.0</td>\n      <td>0.0</td>\n      <td>0.0</td>\n      <td>0.0</td>\n      <td>0.0</td>\n      <td>1.0</td>\n      <td>0.0</td>\n    </tr>\n    <tr>\n      <th>...</th>\n      <td>...</td>\n      <td>...</td>\n      <td>...</td>\n      <td>...</td>\n      <td>...</td>\n      <td>...</td>\n      <td>...</td>\n      <td>...</td>\n      <td>...</td>\n      <td>...</td>\n      <td>...</td>\n      <td>...</td>\n      <td>...</td>\n      <td>...</td>\n      <td>...</td>\n      <td>...</td>\n      <td>...</td>\n      <td>...</td>\n      <td>...</td>\n      <td>...</td>\n      <td>...</td>\n    </tr>\n    <tr>\n      <th>31709</th>\n      <td>0.296031</td>\n      <td>0.254330</td>\n      <td>0.703008</td>\n      <td>2.302585</td>\n      <td>0.693147</td>\n      <td>0.693147</td>\n      <td>4.372587</td>\n      <td>0.0</td>\n      <td>0.045028</td>\n      <td>-0.256184</td>\n      <td>...</td>\n      <td>0.0</td>\n      <td>0.0</td>\n      <td>1.0</td>\n      <td>0.0</td>\n      <td>0.0</td>\n      <td>0.0</td>\n      <td>1.0</td>\n      <td>0.0</td>\n      <td>0.0</td>\n      <td>0.0</td>\n    </tr>\n    <tr>\n      <th>31710</th>\n      <td>0.296031</td>\n      <td>0.029174</td>\n      <td>0.718978</td>\n      <td>2.397895</td>\n      <td>0.000000</td>\n      <td>0.000000</td>\n      <td>4.784091</td>\n      <td>5.0</td>\n      <td>-0.142975</td>\n      <td>0.010189</td>\n      <td>...</td>\n      <td>0.0</td>\n      <td>0.0</td>\n      <td>0.0</td>\n      <td>1.0</td>\n      <td>0.0</td>\n      <td>0.0</td>\n      <td>0.0</td>\n      <td>0.0</td>\n      <td>0.0</td>\n      <td>1.0</td>\n    </tr>\n    <tr>\n      <th>31712</th>\n      <td>-0.649891</td>\n      <td>1.118374</td>\n      <td>0.710623</td>\n      <td>1.945910</td>\n      <td>1.098612</td>\n      <td>0.693147</td>\n      <td>4.594427</td>\n      <td>8.0</td>\n      <td>-0.184777</td>\n      <td>-0.335967</td>\n      <td>...</td>\n      <td>0.0</td>\n      <td>0.0</td>\n      <td>0.0</td>\n      <td>1.0</td>\n      <td>0.0</td>\n      <td>0.0</td>\n      <td>0.0</td>\n      <td>0.0</td>\n      <td>1.0</td>\n      <td>0.0</td>\n    </tr>\n    <tr>\n      <th>31713</th>\n      <td>0.296031</td>\n      <td>2.101447</td>\n      <td>0.621080</td>\n      <td>3.091042</td>\n      <td>0.693147</td>\n      <td>1.386294</td>\n      <td>4.353239</td>\n      <td>10.0</td>\n      <td>-0.220395</td>\n      <td>0.156338</td>\n      <td>...</td>\n      <td>0.0</td>\n      <td>0.0</td>\n      <td>0.0</td>\n      <td>0.0</td>\n      <td>0.0</td>\n      <td>0.0</td>\n      <td>1.0</td>\n      <td>0.0</td>\n      <td>0.0</td>\n      <td>0.0</td>\n    </tr>\n    <tr>\n      <th>31714</th>\n      <td>1.241953</td>\n      <td>-0.691341</td>\n      <td>0.780822</td>\n      <td>1.791759</td>\n      <td>0.693147</td>\n      <td>0.693147</td>\n      <td>4.279693</td>\n      <td>0.0</td>\n      <td>-0.241829</td>\n      <td>0.667860</td>\n      <td>...</td>\n      <td>0.0</td>\n      <td>0.0</td>\n      <td>0.0</td>\n      <td>0.0</td>\n      <td>1.0</td>\n      <td>0.0</td>\n      <td>0.0</td>\n      <td>1.0</td>\n      <td>0.0</td>\n      <td>0.0</td>\n    </tr>\n  </tbody>\n</table>\n<p>30768 rows × 43 columns</p>\n</div>"
     },
     "execution_count": 72,
     "metadata": {},
     "output_type": "execute_result"
    }
   ],
   "source": [
    "working_df_dev"
   ],
   "metadata": {
    "collapsed": false,
    "ExecuteTime": {
     "end_time": "2023-06-07T21:37:44.339311Z",
     "start_time": "2023-06-07T21:37:44.280541Z"
    }
   }
  },
  {
   "cell_type": "markdown",
   "source": [
    "## Features importance"
   ],
   "metadata": {
    "collapsed": false
   }
  },
  {
   "cell_type": "markdown",
   "source": [
    "### Features selected based on the importance\n",
    "- Use RandomForestRegression to discover the features importance in order to predict the target variable\n",
    "- The OneHot-Encoding features have a lower importance... It is possibile to try to delete them\n",
    "- Without the OneHot-Encoding features the RMSE is higher and this means a worse result"
   ],
   "metadata": {
    "collapsed": false
   }
  },
  {
   "cell_type": "code",
   "execution_count": 55,
   "outputs": [],
   "source": [
    "X = working_df_dev.drop(columns=[\"shares\"]).values\n",
    "y = working_df_dev[\"shares\"].values\n",
    "\n",
    "X_train, X_valid, y_train, y_valid = train_test_split(X, y, shuffle=True, random_state=42)"
   ],
   "metadata": {
    "collapsed": false,
    "ExecuteTime": {
     "end_time": "2023-06-07T21:12:02.219790Z",
     "start_time": "2023-06-07T21:12:02.191139Z"
    }
   }
  },
  {
   "cell_type": "code",
   "execution_count": 56,
   "outputs": [
    {
     "name": "stdout",
     "output_type": "stream",
     "text": [
      "0.8505755743901013\n",
      "0.13566296637644382\n"
     ]
    }
   ],
   "source": [
    "reg = RandomForestRegressor(100, random_state=42)\n",
    "reg.fit(X_train , y_train)\n",
    "\n",
    "rms = mean_squared_error(y_valid, reg.predict(X_valid), squared=False)\n",
    "print(rms)\n",
    "print(r2_score(y_valid, reg.predict(X_valid)))"
   ],
   "metadata": {
    "collapsed": false,
    "ExecuteTime": {
     "end_time": "2023-06-07T21:13:13.858469Z",
     "start_time": "2023-06-07T21:12:04.074847Z"
    }
   }
  },
  {
   "cell_type": "code",
   "execution_count": 57,
   "outputs": [
    {
     "data": {
      "text/plain": "[('kw_avg_avg', 0.10718321534454671),\n ('self_reference_avg_sharess', 0.04763424252071392),\n ('kw_avg_max', 0.04508190787816193),\n ('kw_avg_min', 0.04155012853214559),\n ('n_non_stop_unique_tokens', 0.040511365730716314),\n ('n_tokens_content', 0.037690576794624876),\n ('average_token_length', 0.037333533754097946),\n ('global_subjectivity', 0.0356572966283945),\n ('LDA_01', 0.03488211237747165),\n ('LDA_04', 0.03458318850263466),\n ('LDA_02', 0.03442224534978368),\n ('avg_positive_polarity', 0.03436116763334737),\n ('LDA_03', 0.03417230965437211),\n ('avg_negative_polarity', 0.03381988900479984),\n ('self_reference_min_shares', 0.03322810115675969),\n ('global_rate_positive_words', 0.03254864024772804),\n ('global_sentiment_polarity', 0.03182098413163277),\n ('num_hrefs', 0.03161467136939465),\n ('global_rate_negative_words', 0.02904723284586402),\n ('kw_min_avg', 0.027147575394756186),\n ('rate_negative_words', 0.023541698387162132),\n ('self_reference_max_shares', 0.022056661584378495),\n ('title_sentiment_polarity', 0.021458847715484643),\n ('n_tokens_title', 0.021100977348737695),\n ('num_imgs', 0.016830120230269186),\n ('title_subjectivity', 0.01620646660578736),\n ('min_positive_polarity', 0.014427851711027565),\n ('num_keywords', 0.010662570657437141),\n ('num_videos', 0.010414702840840034),\n ('max_positive_polarity', 0.010306320833351623),\n ('weekday_saturday', 0.006988739139483262),\n ('data_channel_entertainment', 0.005953601953162267),\n ('data_channel_tech', 0.005346624023978643),\n ('weekday_sunday', 0.0049526660690298145),\n ('data_channel_socmed', 0.0046180286014031995),\n ('weekday_monday', 0.003735167742672518),\n ('weekday_tuesday', 0.0032231977268723103),\n ('data_channel_lifestyle', 0.0031257120405013103),\n ('weekday_thursday', 0.003061399176812237),\n ('weekday_wednesday', 0.003019966982546346),\n ('weekday_friday', 0.0026619967425344335),\n ('data_channel_world', 0.002016297034581221)]"
     },
     "execution_count": 57,
     "metadata": {},
     "output_type": "execute_result"
    }
   ],
   "source": [
    "feature_names = working_df_dev.drop(columns=[\"shares\"]).columns\n",
    "sorted(zip(feature_names, reg.feature_importances_), key=lambda x: x[1], reverse=True)"
   ],
   "metadata": {
    "collapsed": false,
    "ExecuteTime": {
     "end_time": "2023-06-07T21:13:17.928032Z",
     "start_time": "2023-06-07T21:13:17.822370Z"
    }
   }
  },
  {
   "cell_type": "markdown",
   "source": [
    "#### Without OneHot-Encoded features"
   ],
   "metadata": {
    "collapsed": false
   }
  },
  {
   "cell_type": "code",
   "execution_count": 78,
   "outputs": [],
   "source": [
    "working_df_dev_no_onehot = working_df_dev.drop(columns=['data_channel_world', 'weekday_friday', 'weekday_wednesday',\n",
    "                                                        'weekday_thursday', 'data_channel_lifestyle', 'weekday_tuesday',\n",
    "                                                        'weekday_monday', 'data_channel_socmed', 'weekday_sunday', 'data_channel_tech',\n",
    "                                                        'data_channel_entertainment', 'weekday_saturday'])\n",
    "\n",
    "X = working_df_dev_no_onehot.drop(columns=[\"shares\"]).values\n",
    "y = working_df_dev_no_onehot[\"shares\"].values\n",
    "X_train, X_valid, y_train, y_valid = train_test_split(X, y, shuffle=True, random_state=42)"
   ],
   "metadata": {
    "collapsed": false,
    "ExecuteTime": {
     "end_time": "2023-06-07T21:41:20.647300Z",
     "start_time": "2023-06-07T21:41:20.622122Z"
    }
   }
  },
  {
   "cell_type": "code",
   "execution_count": 59,
   "outputs": [
    {
     "name": "stdout",
     "output_type": "stream",
     "text": [
      "0.8559408247375676\n",
      "0.1247244665434647\n"
     ]
    }
   ],
   "source": [
    "reg = RandomForestRegressor(100, random_state=42)\n",
    "reg.fit(X_train , y_train)\n",
    "\n",
    "rms = mean_squared_error(y_valid, reg.predict(X_valid), squared=False)\n",
    "print(rms)\n",
    "print(r2_score(y_valid, reg.predict(X_valid)))"
   ],
   "metadata": {
    "collapsed": false,
    "ExecuteTime": {
     "end_time": "2023-06-07T21:14:28.011908Z",
     "start_time": "2023-06-07T21:13:37.330322Z"
    }
   }
  },
  {
   "cell_type": "code",
   "execution_count": 60,
   "outputs": [
    {
     "data": {
      "text/plain": "[('kw_avg_avg', 0.11044895690775566),\n ('self_reference_avg_sharess', 0.04926776474511304),\n ('kw_avg_max', 0.047355415176575266),\n ('kw_avg_min', 0.04374766267911385),\n ('n_non_stop_unique_tokens', 0.04230917542764838),\n ('LDA_01', 0.03979648738535886),\n ('LDA_04', 0.03946678694668837),\n ('n_tokens_content', 0.03915448765787121),\n ('average_token_length', 0.038543912739106165),\n ('global_subjectivity', 0.038425300204354654),\n ('LDA_02', 0.037130928033989555),\n ('LDA_03', 0.03711095942000228),\n ('avg_positive_polarity', 0.0356730903177886),\n ('avg_negative_polarity', 0.03550492933578567),\n ('self_reference_min_shares', 0.0343583856022983),\n ('global_rate_positive_words', 0.03362383617265644),\n ('global_sentiment_polarity', 0.033298827748174845),\n ('num_hrefs', 0.032537821566620634),\n ('global_rate_negative_words', 0.029827182624030144),\n ('kw_min_avg', 0.029168613010562956),\n ('rate_negative_words', 0.02469459618733489),\n ('self_reference_max_shares', 0.02252662737095779),\n ('title_sentiment_polarity', 0.02251691278347561),\n ('n_tokens_title', 0.02138640503323807),\n ('num_imgs', 0.01713636391636395),\n ('title_subjectivity', 0.01703861265160366),\n ('min_positive_polarity', 0.015406906401859093),\n ('num_videos', 0.011012495332346628),\n ('num_keywords', 0.010990806013832188),\n ('max_positive_polarity', 0.01053975060749339)]"
     },
     "execution_count": 60,
     "metadata": {},
     "output_type": "execute_result"
    }
   ],
   "source": [
    "feature_names = working_df_dev_no_onehot.drop(columns=[\"shares\"]).columns\n",
    "sorted(zip(feature_names, reg.feature_importances_), key=lambda x: x[1], reverse=True)"
   ],
   "metadata": {
    "collapsed": false,
    "ExecuteTime": {
     "end_time": "2023-06-07T21:14:34.768958Z",
     "start_time": "2023-06-07T21:14:34.711903Z"
    }
   }
  },
  {
   "cell_type": "markdown",
   "source": [
    "#### Continue to delete features with low importance"
   ],
   "metadata": {
    "collapsed": false
   }
  },
  {
   "cell_type": "code",
   "execution_count": 79,
   "outputs": [],
   "source": [
    "working_df_dev_reducted = working_df_dev_no_onehot.drop(columns=['self_reference_min_shares', 'self_reference_max_shares', 'kw_min_avg', 'kw_avg_avg',\n",
    "                                                            'min_positive_polarity', 'max_positive_polarity', 'LDA_01', 'LDA_02', 'LDA_03', 'LDA_04'])\n",
    "\n",
    "X = working_df_dev_reducted.drop(columns=[\"shares\"]).values\n",
    "y = working_df_dev_reducted[\"shares\"].values\n",
    "X_train, X_valid, y_train, y_valid = train_test_split(X, y, shuffle=True, random_state=42)"
   ],
   "metadata": {
    "collapsed": false,
    "ExecuteTime": {
     "end_time": "2023-06-07T21:41:25.409901Z",
     "start_time": "2023-06-07T21:41:25.377475Z"
    }
   }
  },
  {
   "cell_type": "code",
   "execution_count": 81,
   "outputs": [
    {
     "name": "stdout",
     "output_type": "stream",
     "text": [
      "0.8774152875040087\n",
      "0.08025443770674512\n"
     ]
    }
   ],
   "source": [
    "reg = RandomForestRegressor(100, random_state=42)\n",
    "reg.fit(X_train , y_train)\n",
    "\n",
    "rms = mean_squared_error(y_valid, reg.predict(X_valid), squared=False)\n",
    "print(rms)\n",
    "print(r2_score(y_valid, reg.predict(X_valid)))"
   ],
   "metadata": {
    "collapsed": false,
    "ExecuteTime": {
     "end_time": "2023-06-07T21:42:26.562083Z",
     "start_time": "2023-06-07T21:41:42.478285Z"
    }
   }
  },
  {
   "cell_type": "code",
   "execution_count": 77,
   "outputs": [
    {
     "data": {
      "text/plain": "[('self_reference_avg_sharess', 0.09874496329273745),\n ('kw_avg_max', 0.06308988012270815),\n ('kw_avg_min', 0.0609908405212075),\n ('n_non_stop_unique_tokens', 0.05786302241558468),\n ('average_token_length', 0.057381221043681006),\n ('global_subjectivity', 0.056455306456974864),\n ('n_tokens_content', 0.05554684669724463),\n ('avg_positive_polarity', 0.05353840853426568),\n ('global_rate_positive_words', 0.049381579200996804),\n ('avg_negative_polarity', 0.04915682038521308),\n ('num_hrefs', 0.04658050074205566),\n ('global_sentiment_polarity', 0.04490124003615786),\n ('global_rate_negative_words', 0.04289293018713305),\n ('rate_negative_words', 0.034479842755919754),\n ('title_sentiment_polarity', 0.03058223415713801),\n ('n_tokens_title', 0.029041857796420895),\n ('num_imgs', 0.025904649606108335),\n ('title_subjectivity', 0.0239993375816882),\n ('num_keywords', 0.022454375720673606),\n ('num_videos', 0.014392338823224892),\n ('data_channel_world', 0.013364319186322693),\n ('data_channel_entertainment', 0.010001727568602953),\n ('weekday_saturday', 0.009362107296614193),\n ('data_channel_lifestyle', 0.008778434597488819),\n ('weekday_sunday', 0.007318887922259697),\n ('data_channel_socmed', 0.005778672788885333),\n ('weekday_monday', 0.005135667808651684),\n ('data_channel_tech', 0.005072124947222359),\n ('weekday_tuesday', 0.004835720767219765),\n ('weekday_wednesday', 0.004415803376930727),\n ('weekday_thursday', 0.004362230008036458),\n ('weekday_friday', 0.004196107654631343)]"
     },
     "execution_count": 77,
     "metadata": {},
     "output_type": "execute_result"
    }
   ],
   "source": [
    "feature_names = working_df_dev_reducted.drop(columns=[\"shares\"]).columns\n",
    "sorted(zip(feature_names, reg.feature_importances_), key=lambda x: x[1], reverse=True)"
   ],
   "metadata": {
    "collapsed": false,
    "ExecuteTime": {
     "end_time": "2023-06-07T21:40:46.460269Z",
     "start_time": "2023-06-07T21:40:46.396396Z"
    }
   }
  },
  {
   "cell_type": "code",
   "execution_count": null,
   "outputs": [],
   "source": [],
   "metadata": {
    "collapsed": false
   }
  },
  {
   "cell_type": "markdown",
   "source": [
    "### Features selection with PCA\n",
    "- We just need from 8 to 16 Principal Components (PCs) in order to cover the cumulative explain variance of the dataset"
   ],
   "metadata": {
    "collapsed": false
   }
  },
  {
   "cell_type": "code",
   "execution_count": 31,
   "outputs": [
    {
     "data": {
      "text/plain": "<Figure size 1700x600 with 1 Axes>",
      "image/png": "[encoded data removed]"
     },
     "metadata": {},
     "output_type": "display_data"
    }
   ],
   "source": [
    "X = working_df_dev.drop(columns=[\"shares\"]).values\n",
    "\n",
    "pca_1 = PCA(random_state = 42)\n",
    "pca_1.fit(X)\n",
    "\n",
    "fig, ax = plt.subplots(1,1, figsize = (17,6))\n",
    "ax.plot(np.insert(np.cumsum(pca_1.explained_variance_ratio_), 0, 0))\n",
    "ax.set_title('Explained variance VS PCs')\n",
    "plt.xticks(ticks=np.arange(1, pca_1.n_features_in_ + 1),\n",
    "           labels=[f'PC{i}' for i in range(1, pca_1.n_features_in_ + 1)])\n",
    "ax.set_xlabel('Principal components')\n",
    "ax.set_ylabel('Cumulative explained variance')\n",
    "ax.grid()\n",
    "plt.tight_layout()\n",
    "plt.show()"
   ],
   "metadata": {
    "collapsed": false,
    "ExecuteTime": {
     "end_time": "2023-06-07T20:26:42.681757Z",
     "start_time": "2023-06-07T20:26:41.781934Z"
    }
   }
  },
  {
   "cell_type": "code",
   "execution_count": 32,
   "outputs": [],
   "source": [
    "X = working_df_dev.drop(columns=[\"shares\"]).values\n",
    "y = working_df_dev[\"shares\"].values\n",
    "\n",
    "pca_12 = PCA(n_components=12, random_state = 42)\n",
    "pca_12.fit(X)\n",
    "\n",
    "X_train, X_valid, y_train, y_valid = train_test_split(pca_12.transform(X), y, shuffle=True, random_state=42)"
   ],
   "metadata": {
    "collapsed": false,
    "ExecuteTime": {
     "end_time": "2023-06-07T20:30:22.265176Z",
     "start_time": "2023-06-07T20:30:22.071306Z"
    }
   }
  },
  {
   "cell_type": "code",
   "execution_count": 36,
   "outputs": [
    {
     "name": "stdout",
     "output_type": "stream",
     "text": [
      "0.8688872188329296\n",
      "0.09804654845413274\n"
     ]
    }
   ],
   "source": [
    "reg = RandomForestRegressor(100, random_state=42)\n",
    "reg.fit(X_train, y_train)\n",
    "\n",
    "rms = mean_squared_error(y_valid, reg.predict(X_valid), squared=False)\n",
    "print(rms)\n",
    "print(r2_score(y_valid, reg.predict(X_valid)))"
   ],
   "metadata": {
    "collapsed": false,
    "ExecuteTime": {
     "end_time": "2023-06-07T20:31:32.098983Z",
     "start_time": "2023-06-07T20:30:54.056861Z"
    }
   }
  },
  {
   "cell_type": "code",
   "execution_count": 37,
   "outputs": [
    {
     "data": {
      "text/plain": "[('n_non_stop_unique_tokens', 0.13454098707910733),\n ('n_tokens_title', 0.09790095070118207),\n ('kw_avg_avg', 0.08935787403970165),\n ('kw_min_avg', 0.08213931339881514),\n ('num_imgs', 0.08126376535984962),\n ('num_videos', 0.08025253501825359),\n ('num_keywords', 0.07564481820096851),\n ('n_tokens_content', 0.07548242160043558),\n ('average_token_length', 0.07449868077618106),\n ('kw_avg_min', 0.07423015669010685),\n ('num_hrefs', 0.06985958281557146),\n ('kw_avg_max', 0.06482891431982697)]"
     },
     "execution_count": 37,
     "metadata": {},
     "output_type": "execute_result"
    }
   ],
   "source": [
    "feature_names = working_df_dev.drop(columns=[\"shares\"]).columns\n",
    "sorted(zip(feature_names, reg.feature_importances_), key=lambda x: x[1], reverse=True)"
   ],
   "metadata": {
    "collapsed": false,
    "ExecuteTime": {
     "end_time": "2023-06-07T20:39:53.027394Z",
     "start_time": "2023-06-07T20:39:52.960358Z"
    }
   }
  },
  {
   "cell_type": "code",
   "execution_count": 39,
   "outputs": [
    {
     "name": "stdout",
     "output_type": "stream",
     "text": [
      "0.8606521973872098\n",
      "0.11506235367672135\n"
     ]
    }
   ],
   "source": [
    "X = working_df_dev.drop(columns=[\"shares\"]).values\n",
    "y = working_df_dev[\"shares\"].values\n",
    "\n",
    "pca_16 = PCA(n_components=16, random_state = 42)\n",
    "pca_16.fit(X)\n",
    "\n",
    "X_train, X_valid, y_train, y_valid = train_test_split(pca_16.transform(X), y, shuffle=True, random_state=42)\n",
    "reg = RandomForestRegressor(100, random_state=42)\n",
    "reg.fit(X_train, y_train)\n",
    "\n",
    "rms = mean_squared_error(y_valid, reg.predict(X_valid), squared=False)\n",
    "print(rms)\n",
    "print(r2_score(y_valid, reg.predict(X_valid)))"
   ],
   "metadata": {
    "collapsed": false,
    "ExecuteTime": {
     "end_time": "2023-06-07T21:04:10.098804Z",
     "start_time": "2023-06-07T21:03:21.363643Z"
    }
   }
  },
  {
   "cell_type": "markdown",
   "source": [
    "## Polynomial regressor (as Beppe wants)"
   ],
   "metadata": {
    "collapsed": false
   }
  },
  {
   "cell_type": "code",
   "execution_count": 68,
   "outputs": [],
   "source": [
    "X = working_df_dev.drop(columns=[\"shares\"]).values\n",
    "y = working_df_dev[\"shares\"].values\n",
    "\n",
    "X_train, X_valid, y_train, y_valid = train_test_split(X, y, shuffle=True, random_state=42)"
   ],
   "metadata": {
    "collapsed": false,
    "ExecuteTime": {
     "end_time": "2023-06-07T21:27:40.353728Z",
     "start_time": "2023-06-07T21:27:40.323557Z"
    }
   }
  },
  {
   "cell_type": "code",
   "execution_count": 69,
   "outputs": [
    {
     "name": "stdout",
     "output_type": "stream",
     "text": [
      "0.8878377020889384\n",
      "0.05827418873559209\n"
     ]
    }
   ],
   "source": [
    "poli = PolynomialFeatures(2)\n",
    "poli_train = poli.fit_transform(X_train)\n",
    "poli_test = poli.fit_transform(X_valid)\n",
    "\n",
    "reg = LinearRegression()\n",
    "reg.fit(poli_train, y_train)\n",
    "preds_poli_reg = reg.predict(poli_test)\n",
    "\n",
    "rms = mean_squared_error(y_valid, preds_poli_reg, squared=False)\n",
    "print(rms)\n",
    "print(r2_score(y_valid, preds_poli_reg))"
   ],
   "metadata": {
    "collapsed": false,
    "ExecuteTime": {
     "end_time": "2023-06-07T21:27:46.674937Z",
     "start_time": "2023-06-07T21:27:43.269657Z"
    }
   }
  }
 ],
 "metadata": {
  "kernelspec": {
   "display_name": "thesis",
   "language": "python",
   "name": "python3"
  },
  "language_info": {
   "codemirror_mode": {
    "name": "ipython",
    "version": 3
   },
   "file_extension": ".py",
   "mimetype": "text/x-python",
   "name": "python",
   "nbconvert_exporter": "python",
   "pygments_lexer": "ipython3",
   "version": "3.8.0"
  },
  "orig_nbformat": 4
 },
 "nbformat": 4,
 "nbformat_minor": 2
}
