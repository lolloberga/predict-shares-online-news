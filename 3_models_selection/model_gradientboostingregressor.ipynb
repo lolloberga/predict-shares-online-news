{
 "cells": [
  {
   "cell_type": "code",
   "execution_count": 14,
   "metadata": {
    "ExecuteTime": {
     "end_time": "2023-06-11T10:25:09.197209Z",
     "start_time": "2023-06-11T10:25:09.183660Z"
    }
   },
   "outputs": [],
   "source": [
    "import pandas as pd\n",
    "from sklearn.preprocessing import OneHotEncoder\n",
    "import numpy as np\n",
    "\n",
    "from sklearn.preprocessing import StandardScaler\n",
    "from sklearn.preprocessing import MinMaxScaler\n",
    "\n",
    "from sklearn.model_selection import train_test_split\n",
    "from sklearn.model_selection import GridSearchCV\n",
    "\n",
    "from sklearn.ensemble import GradientBoostingRegressor\n",
    "\n",
    "from sklearn.metrics import mean_squared_error\n",
    "from sklearn.metrics import r2_score"
   ]
  },
  {
   "cell_type": "code",
   "execution_count": 15,
   "metadata": {
    "ExecuteTime": {
     "end_time": "2023-06-11T10:25:10.167114Z",
     "start_time": "2023-06-11T10:25:09.533773Z"
    }
   },
   "outputs": [
    {
     "data": {
      "text/plain": "   id                                                url  timedelta  \\\n0   0  http://mashable.com/2014/09/08/safest-cabbies-...      121.0   \n1   1   http://mashable.com/2013/07/25/3d-printed-rifle/      532.0   \n2   2  http://mashable.com/2013/10/30/digital-dinosau...      435.0   \n3   3  http://mashable.com/2014/08/27/homer-simpson-i...      134.0   \n4   4  http://mashable.com/2013/01/10/creepy-robotic-...      728.0   \n\n   n_tokens_title  n_tokens_content  n_unique_tokens  n_non_stop_words  \\\n0            12.0            1015.0         0.422018               1.0   \n1             9.0             503.0         0.569697               1.0   \n2             9.0             232.0         0.646018               1.0   \n3            12.0             171.0         0.722892               1.0   \n4            11.0             286.0         0.652632               1.0   \n\n   n_non_stop_unique_tokens  num_hrefs  num_self_hrefs  ...  \\\n0                  0.545031       10.0             6.0  ...   \n1                  0.737542        9.0             0.0  ...   \n2                  0.748428       12.0             3.0  ...   \n3                  0.867925        9.0             5.0  ...   \n4                  0.800000        5.0             2.0  ...   \n\n   avg_negative_polarity  min_negative_polarity  max_negative_polarity  \\\n0              -0.160714                  -0.50              -0.071429   \n1              -0.157500                  -0.25              -0.100000   \n2              -0.427500                  -1.00              -0.187500   \n3              -0.216667                  -0.25              -0.166667   \n4              -0.251786                  -0.50              -0.100000   \n\n   title_subjectivity  title_sentiment_polarity  abs_title_subjectivity  \\\n0                 0.0                      0.00                     0.5   \n1                 0.0                      0.00                     0.5   \n2                 0.0                      0.00                     0.5   \n3                 0.4                     -0.25                     0.1   \n4                 0.2                     -0.10                     0.3   \n\n   abs_title_sentiment_polarity   shares  data_channel    weekday  \n0                          0.00   2900.0           bus    tuesday  \n1                          0.00   1300.0          tech   thursday  \n2                          0.00  17700.0     lifestyle  wednesday  \n3                          0.25   1500.0           bus  wednesday  \n4                          0.10   1400.0          tech   thursday  \n\n[5 rows x 50 columns]",
      "text/html": "<div>\n<style scoped>\n    .dataframe tbody tr th:only-of-type {\n        vertical-align: middle;\n    }\n\n    .dataframe tbody tr th {\n        vertical-align: top;\n    }\n\n    .dataframe thead th {\n        text-align: right;\n    }\n</style>\n<table border=\"1\" class=\"dataframe\">\n  <thead>\n    <tr style=\"text-align: right;\">\n      <th></th>\n      <th>id</th>\n      <th>url</th>\n      <th>timedelta</th>\n      <th>n_tokens_title</th>\n      <th>n_tokens_content</th>\n      <th>n_unique_tokens</th>\n      <th>n_non_stop_words</th>\n      <th>n_non_stop_unique_tokens</th>\n      <th>num_hrefs</th>\n      <th>num_self_hrefs</th>\n      <th>...</th>\n      <th>avg_negative_polarity</th>\n      <th>min_negative_polarity</th>\n      <th>max_negative_polarity</th>\n      <th>title_subjectivity</th>\n      <th>title_sentiment_polarity</th>\n      <th>abs_title_subjectivity</th>\n      <th>abs_title_sentiment_polarity</th>\n      <th>shares</th>\n      <th>data_channel</th>\n      <th>weekday</th>\n    </tr>\n  </thead>\n  <tbody>\n    <tr>\n      <th>0</th>\n      <td>0</td>\n      <td>http://mashable.com/2014/09/08/safest-cabbies-...</td>\n      <td>121.0</td>\n      <td>12.0</td>\n      <td>1015.0</td>\n      <td>0.422018</td>\n      <td>1.0</td>\n      <td>0.545031</td>\n      <td>10.0</td>\n      <td>6.0</td>\n      <td>...</td>\n      <td>-0.160714</td>\n      <td>-0.50</td>\n      <td>-0.071429</td>\n      <td>0.0</td>\n      <td>0.00</td>\n      <td>0.5</td>\n      <td>0.00</td>\n      <td>2900.0</td>\n      <td>bus</td>\n      <td>tuesday</td>\n    </tr>\n    <tr>\n      <th>1</th>\n      <td>1</td>\n      <td>http://mashable.com/2013/07/25/3d-printed-rifle/</td>\n      <td>532.0</td>\n      <td>9.0</td>\n      <td>503.0</td>\n      <td>0.569697</td>\n      <td>1.0</td>\n      <td>0.737542</td>\n      <td>9.0</td>\n      <td>0.0</td>\n      <td>...</td>\n      <td>-0.157500</td>\n      <td>-0.25</td>\n      <td>-0.100000</td>\n      <td>0.0</td>\n      <td>0.00</td>\n      <td>0.5</td>\n      <td>0.00</td>\n      <td>1300.0</td>\n      <td>tech</td>\n      <td>thursday</td>\n    </tr>\n    <tr>\n      <th>2</th>\n      <td>2</td>\n      <td>http://mashable.com/2013/10/30/digital-dinosau...</td>\n      <td>435.0</td>\n      <td>9.0</td>\n      <td>232.0</td>\n      <td>0.646018</td>\n      <td>1.0</td>\n      <td>0.748428</td>\n      <td>12.0</td>\n      <td>3.0</td>\n      <td>...</td>\n      <td>-0.427500</td>\n      <td>-1.00</td>\n      <td>-0.187500</td>\n      <td>0.0</td>\n      <td>0.00</td>\n      <td>0.5</td>\n      <td>0.00</td>\n      <td>17700.0</td>\n      <td>lifestyle</td>\n      <td>wednesday</td>\n    </tr>\n    <tr>\n      <th>3</th>\n      <td>3</td>\n      <td>http://mashable.com/2014/08/27/homer-simpson-i...</td>\n      <td>134.0</td>\n      <td>12.0</td>\n      <td>171.0</td>\n      <td>0.722892</td>\n      <td>1.0</td>\n      <td>0.867925</td>\n      <td>9.0</td>\n      <td>5.0</td>\n      <td>...</td>\n      <td>-0.216667</td>\n      <td>-0.25</td>\n      <td>-0.166667</td>\n      <td>0.4</td>\n      <td>-0.25</td>\n      <td>0.1</td>\n      <td>0.25</td>\n      <td>1500.0</td>\n      <td>bus</td>\n      <td>wednesday</td>\n    </tr>\n    <tr>\n      <th>4</th>\n      <td>4</td>\n      <td>http://mashable.com/2013/01/10/creepy-robotic-...</td>\n      <td>728.0</td>\n      <td>11.0</td>\n      <td>286.0</td>\n      <td>0.652632</td>\n      <td>1.0</td>\n      <td>0.800000</td>\n      <td>5.0</td>\n      <td>2.0</td>\n      <td>...</td>\n      <td>-0.251786</td>\n      <td>-0.50</td>\n      <td>-0.100000</td>\n      <td>0.2</td>\n      <td>-0.10</td>\n      <td>0.3</td>\n      <td>0.10</td>\n      <td>1400.0</td>\n      <td>tech</td>\n      <td>thursday</td>\n    </tr>\n  </tbody>\n</table>\n<p>5 rows × 50 columns</p>\n</div>"
     },
     "execution_count": 15,
     "metadata": {},
     "output_type": "execute_result"
    }
   ],
   "source": [
    "df_dev = pd.read_csv('../dataset/development.csv')\n",
    "df_eval = pd.read_csv('../dataset/evaluation.csv')\n",
    "\n",
    "df = pd.concat([df_dev, df_eval], sort=False)\n",
    "df.head()"
   ]
  },
  {
   "cell_type": "markdown",
   "source": [
    "## Preprocessing"
   ],
   "metadata": {
    "collapsed": false
   }
  },
  {
   "cell_type": "code",
   "execution_count": 16,
   "metadata": {
    "ExecuteTime": {
     "end_time": "2023-06-11T10:25:11.214645Z",
     "start_time": "2023-06-11T10:25:11.208636Z"
    }
   },
   "outputs": [],
   "source": [
    "def final_preprocessing(df, reduce_df=True):\n",
    "    df_preproc = df.copy()\n",
    "\n",
    "    # one hot encoding\n",
    "    enc = OneHotEncoder()\n",
    "    encoded_df = pd.concat([df_preproc['weekday'], df_preproc['data_channel']], axis=1)\n",
    "    enc.fit(encoded_df)\n",
    "    encoded_df = enc.transform(encoded_df)\n",
    "    additional_columns = enc.get_feature_names_out()\n",
    "    df_preproc[additional_columns] = encoded_df.toarray()\n",
    "    df_preproc.drop(['weekday', 'data_channel', 'url', 'id'], axis = 1, inplace=True)\n",
    "\n",
    "    # drop from feature selection\n",
    "    df_preproc.drop(columns=['n_non_stop_words', 'kw_min_min', 'kw_max_max'], inplace=True)\n",
    "    # remove n_tokens_content less than 0\n",
    "    #df_preproc['n_tokens_content'] = np.log(1 + df_preproc['n_tokens_content'])\n",
    "\n",
    "    if reduce_df:\n",
    "        # Remove outliers from kw_avg_avg (we lost another 9% of the dataset)\n",
    "        q1 = df_preproc['kw_avg_avg'].describe()['25%']\n",
    "        q3 = df_preproc['kw_avg_avg'].describe()['75%']\n",
    "        iqr = q3 - q1\n",
    "        min_kw_avg_avg = q1 - 1.5*iqr\n",
    "        max_kw_avg_avg = q3 + 1.5*iqr\n",
    "        df_preproc = df_preproc[(df_preproc.kw_avg_avg < max_kw_avg_avg) & (df_preproc.kw_avg_avg > min_kw_avg_avg)]\n",
    "\n",
    "    # adjust num_imgs, num_self_hrefs, num_videos, num_hrefs\n",
    "    df_preproc['num_imgs'].fillna(df_preproc['num_imgs'].mean(), inplace=True)\n",
    "    #df_preproc['num_imgs'] = np.log(1 + df_preproc['num_imgs'])\n",
    "    df_preproc['num_self_hrefs'].fillna(df_preproc['num_self_hrefs'].mean(), inplace=True)\n",
    "    #df_preproc['num_self_hrefs'] = np.log(1 + df_preproc['num_self_hrefs'])\n",
    "    df_preproc['num_videos'].fillna(df_preproc['num_videos'].mean(), inplace=True)\n",
    "    #df_preproc['num_videos'] = np.log(1 + df_preproc['num_videos'])\n",
    "    #df_preproc['num_hrefs'] = np.log(1 + df_preproc['num_hrefs'])\n",
    "\n",
    "    '''std_scaler = StandardScaler().fit(df_preproc[['n_tokens_title', 'n_tokens_content']])\n",
    "    scaled_features = std_scaler.transform(df_preproc[['n_tokens_title', 'n_tokens_content']])\n",
    "    df_preproc[['n_tokens_title', 'n_tokens_content']] = scaled_features'''\n",
    "\n",
    "    df_preproc['avg_negative_polarity'] = df_preproc['avg_negative_polarity'].abs()\n",
    "\n",
    "    # Since this features has a range between [0, 10], we can apply a min max scaling\n",
    "    df_preproc['num_keywords'] = df.groupby(['data_channel'], sort=False)['num_keywords'].apply(lambda x: x.fillna(x.mean())).reset_index()['num_keywords']\n",
    "    '''std_scaler = MinMaxScaler().fit(df_preproc[['num_keywords']])\n",
    "    scaled_features = std_scaler.transform(df_preproc[['num_keywords']])\n",
    "    df_preproc[['num_keywords']] = scaled_features'''\n",
    "\n",
    "    if 'shares' in df_preproc:\n",
    "        df_preproc['shares'] = np.log(df_preproc['shares'])\n",
    "\n",
    "    '''std_scaler = StandardScaler().fit(df_preproc[['kw_avg_max', 'kw_avg_avg', 'kw_avg_min', 'kw_min_avg', 'kw_max_avg', 'kw_max_min', 'kw_min_max']])\n",
    "    scaled_features = std_scaler.transform(df_preproc[['kw_avg_max', 'kw_avg_avg', 'kw_avg_min', 'kw_min_avg','kw_max_avg', 'kw_max_min', 'kw_min_max']])\n",
    "    df_preproc[['kw_avg_max', 'kw_avg_avg', 'kw_avg_min', 'kw_min_avg','kw_max_avg', 'kw_max_min', 'kw_min_max']] = scaled_features'''\n",
    "\n",
    "    '''std_scaler = StandardScaler().fit(df_preproc[['self_reference_min_shares', 'self_reference_max_shares', 'self_reference_avg_sharess']])\n",
    "    scaled_features = std_scaler.transform(df_preproc[['self_reference_min_shares', 'self_reference_max_shares', 'self_reference_avg_sharess']])\n",
    "    df_preproc[['self_reference_min_shares', 'self_reference_max_shares', 'self_reference_avg_sharess']] = scaled_features'''\n",
    "\n",
    "    '''std_scaler = StandardScaler().fit(df_preproc[['n_tokens_title', 'n_tokens_content']])\n",
    "    scaled_features = std_scaler.transform(df_preproc[['n_tokens_title', 'n_tokens_content']])\n",
    "    df_preproc[['n_tokens_title', 'n_tokens_content']] = scaled_features'''\n",
    "\n",
    "    is_weekend = []\n",
    "    for _, row in df_preproc.iterrows():\n",
    "        if row['weekday_sunday'] == 1 or row['weekday_saturday'] == 1:\n",
    "            is_weekend.append(1)\n",
    "        else:\n",
    "            is_weekend.append(0)\n",
    "    df_preproc['is_weekend'] = is_weekend\n",
    "\n",
    "    '''std_scaler = StandardScaler().fit(df_preproc[['timedelta']])\n",
    "    scaled_features = std_scaler.transform(df_preproc[['timedelta']])\n",
    "    df_preproc[['timedelta']] = scaled_features'''\n",
    "\n",
    "    return df_preproc"
   ]
  },
  {
   "cell_type": "code",
   "execution_count": 17,
   "outputs": [
    {
     "data": {
      "text/plain": "(7917, 7917)"
     },
     "execution_count": 17,
     "metadata": {},
     "output_type": "execute_result"
    }
   ],
   "source": [
    "working_df_dev = final_preprocessing(df_dev)\n",
    "df_working_df_eval = final_preprocessing(df_eval, reduce_df=False)\n",
    "(len(df_working_df_eval), len(df_eval))"
   ],
   "metadata": {
    "collapsed": false,
    "ExecuteTime": {
     "end_time": "2023-06-11T10:25:16.094551Z",
     "start_time": "2023-06-11T10:25:13.829425Z"
    }
   }
  },
  {
   "cell_type": "markdown",
   "source": [
    "## Hyperparameter tuning"
   ],
   "metadata": {
    "collapsed": false
   }
  },
  {
   "cell_type": "code",
   "execution_count": 12,
   "outputs": [],
   "source": [
    "params = {\n",
    "    \"n_estimators\": [200, 500],\n",
    "    \"max_depth\": [3, 4, 7],\n",
    "    \"min_samples_split\": [2, 5, 8],\n",
    "    \"learning_rate\": [0.01, 0.05, 0.1],\n",
    "    \"loss\": [\"squared_error\"],\n",
    "    \"random_state\": [42]\n",
    "}"
   ],
   "metadata": {
    "collapsed": false,
    "ExecuteTime": {
     "end_time": "2023-06-10T17:25:14.756296Z",
     "start_time": "2023-06-10T17:25:14.751006Z"
    }
   }
  },
  {
   "cell_type": "code",
   "execution_count": 13,
   "outputs": [
    {
     "name": "stderr",
     "output_type": "stream",
     "text": [
      "\n",
      "KeyboardInterrupt\n",
      "\n"
     ]
    }
   ],
   "source": [
    "X = working_df_dev.drop(columns=[\"shares\"]).values\n",
    "y = working_df_dev[\"shares\"].values\n",
    "\n",
    "X_train, X_valid, y_train, y_valid = train_test_split(X, y, shuffle=True, random_state=42)\n",
    "\n",
    "gs = GridSearchCV(GradientBoostingRegressor(), param_grid=params, cv=5, scoring='r2')\n",
    "gs.fit(X_train, y_train)\n",
    "print(gs.best_score_)"
   ],
   "metadata": {
    "collapsed": false,
    "ExecuteTime": {
     "end_time": "2023-06-11T10:12:51.869044Z",
     "start_time": "2023-06-10T17:25:20.291154Z"
    }
   }
  },
  {
   "cell_type": "code",
   "execution_count": null,
   "outputs": [],
   "source": [
    "rms = mean_squared_error(y_valid, gs.predict(X_valid), squared=False)\n",
    "print(rms)\n",
    "r2 = r2_score(y_valid, gs.predict(X_valid))\n",
    "adj_r2 = 1-(1-r2)*(len(X_valid) - 1)/(len(X_valid) - X_valid.shape[1] - 1)\n",
    "print(adj_r2)"
   ],
   "metadata": {
    "collapsed": false
   }
  },
  {
   "cell_type": "markdown",
   "source": [
    "## Generate final CSV"
   ],
   "metadata": {
    "collapsed": false
   }
  },
  {
   "cell_type": "code",
   "execution_count": null,
   "outputs": [],
   "source": [
    "X = working_df_dev.drop(columns=[\"shares\"]).values\n",
    "y = working_df_dev[\"shares\"].values\n",
    "\n",
    "best_model = GradientBoostingRegressor(**gs.best_params_)\n",
    "best_model.fit(X, y)"
   ],
   "metadata": {
    "collapsed": false
   }
  },
  {
   "cell_type": "code",
   "execution_count": null,
   "outputs": [],
   "source": [
    "# Make final predictions\n",
    "y_pred = best_model.predict(df_working_df_eval.values)\n",
    "final_preds = np.exp(y_pred)\n",
    "# Write CSV\n",
    "id_col = df_eval['id']\n",
    "new_df = pd.DataFrame(columns=['Id', 'Predicted'])\n",
    "new_df['Id'] = id_col\n",
    "new_df['Predicted'] = final_preds\n",
    "print(new_df.describe())\n",
    "new_df.to_csv('../output/NAME.csv', columns=['Id','Predicted'], index=False)"
   ],
   "metadata": {
    "collapsed": false
   }
  }
 ],
 "metadata": {
  "kernelspec": {
   "display_name": "thesis",
   "language": "python",
   "name": "python3"
  },
  "language_info": {
   "codemirror_mode": {
    "name": "ipython",
    "version": 3
   },
   "file_extension": ".py",
   "mimetype": "text/x-python",
   "name": "python",
   "nbconvert_exporter": "python",
   "pygments_lexer": "ipython3",
   "version": "3.8.0"
  },
  "orig_nbformat": 4
 },
 "nbformat": 4,
 "nbformat_minor": 2
}
