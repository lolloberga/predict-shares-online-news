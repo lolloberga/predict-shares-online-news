{
 "cells": [
  {
   "attachments": {},
   "cell_type": "markdown",
   "metadata": {},
   "source": [
    "## Online shared predicitons on mashable dataset"
   ]
  },
  {
   "attachments": {},
   "cell_type": "markdown",
   "metadata": {},
   "source": [
    "Please, before running the notebook check that you have installed the suitalbe packages from requirements.txt, in your virtual environment. \n",
    "\n",
    "Then download the dataset by running build_dataset.py. "
   ]
  },
  {
   "cell_type": "code",
   "execution_count": 2,
   "metadata": {
    "collapsed": true
   },
   "outputs": [],
   "source": [
    "import pandas as pd\n",
    "import numpy as np\n",
    "import matplotlib.pyplot as plt\n",
    "import seaborn as sns\n",
    "\n",
    "from sklearn.preprocessing import OneHotEncoder\n",
    "from sklearn.feature_selection import RFECV\n",
    "\n",
    "from sklearn.preprocessing import StandardScaler\n",
    "\n",
    "from sklearn.model_selection import train_test_split\n",
    "\n",
    "from xgboost import XGBRegressor\n",
    "from sklearn.ensemble import GradientBoostingRegressor, RandomForestRegressor\n",
    "from sklearn.svm import SVR\n",
    "\n",
    "from sklearn.metrics import mean_squared_error\n",
    "from sklearn.metrics import r2_score"
   ]
  },
  {
   "attachments": {},
   "cell_type": "markdown",
   "metadata": {},
   "source": [
    "### Dataset loading"
   ]
  },
  {
   "cell_type": "code",
   "execution_count": 3,
   "metadata": {},
   "outputs": [],
   "source": [
    "df_dev = pd.read_csv('dataset/development.csv')\n",
    "df_eval = pd.read_csv('dataset/evaluation.csv')"
   ]
  },
  {
   "cell_type": "code",
   "execution_count": 26,
   "metadata": {},
   "outputs": [
    {
     "data": {
      "text/plain": [
       "7917"
      ]
     },
     "execution_count": 26,
     "metadata": {},
     "output_type": "execute_result"
    }
   ],
   "source": [
    "len(df_eval)"
   ]
  },
  {
   "attachments": {},
   "cell_type": "markdown",
   "metadata": {},
   "source": [
    "### Development dataset preprocessing"
   ]
  },
  {
   "cell_type": "code",
   "execution_count": 4,
   "metadata": {},
   "outputs": [],
   "source": [
    "def final_preprocessing_dev(df):\n",
    "    working_df_dev = df.copy()\n",
    "    dev_stats = dict()\n",
    "\n",
    "    enc = OneHotEncoder()\n",
    "    encoded_df = pd.concat([df['weekday'], df['data_channel']], axis=1)\n",
    "    enc.fit(encoded_df)\n",
    "    encoded_df = enc.transform(encoded_df)\n",
    "    additional_columns = enc.get_feature_names_out()\n",
    "    working_df_dev[additional_columns] = encoded_df.toarray()\n",
    "    working_df_dev.drop(['weekday', 'data_channel', 'url', 'id'], axis = 1, inplace=True)\n",
    "\n",
    "    working_df_dev['num_keywords'] = df.groupby(['data_channel'], sort=False)['num_keywords'].apply(lambda x: x.fillna(x.mean())).reset_index()['num_keywords']\n",
    "    dev_stats['num_keywords_mean'] = df.groupby(['data_channel'], sort=False)['num_keywords'].mean()\n",
    "\n",
    "    working_df_dev['n_tokens_content'] = np.log(1 + working_df_dev['n_tokens_content'])\n",
    "\n",
    "    working_df_dev['shares'] = np.log(working_df_dev['shares'])\n",
    "\n",
    "    # Remove outliers from kw_avg_avg (we lost another 9% of the dataset)\n",
    "    q1 = working_df_dev['kw_avg_avg'].describe()['25%']\n",
    "    q3 = working_df_dev['kw_avg_avg'].describe()['75%']\n",
    "    iqr = q3 - q1\n",
    "    min_kw_avg_avg = q1 - 1.5*iqr\n",
    "    max_kw_avg_avg = q3 + 1.5*iqr\n",
    "    working_df_dev = working_df_dev[(df.kw_avg_avg < max_kw_avg_avg) & (df.kw_avg_avg > min_kw_avg_avg)]\n",
    "\n",
    "    std_scaler = StandardScaler().fit(working_df_dev[['kw_avg_max', 'kw_avg_avg', 'kw_avg_min', 'kw_min_avg', 'kw_max_avg', 'kw_max_min', 'kw_min_max']])\n",
    "    scaled_features = std_scaler.transform(working_df_dev[['kw_avg_max', 'kw_avg_avg', 'kw_avg_min', 'kw_min_avg','kw_max_avg', 'kw_max_min', 'kw_min_max']])\n",
    "    working_df_dev[['kw_avg_max', 'kw_avg_avg', 'kw_avg_min', 'kw_min_avg','kw_max_avg', 'kw_max_min', 'kw_min_max']] = scaled_features\n",
    "    dev_stats['kw_scaler'] = std_scaler\n",
    "\n",
    "    std_scaler = StandardScaler().fit(working_df_dev[['self_reference_min_shares', 'self_reference_max_shares', 'self_reference_avg_sharess']])\n",
    "    scaled_features = std_scaler.transform(working_df_dev[['self_reference_min_shares', 'self_reference_max_shares', 'self_reference_avg_sharess']])\n",
    "    working_df_dev[['self_reference_min_shares', 'self_reference_max_shares', 'self_reference_avg_sharess']] = scaled_features\n",
    "    dev_stats['ref_scaler'] = std_scaler\n",
    "\n",
    "    std_scaler = StandardScaler().fit(working_df_dev[['n_tokens_title', 'n_tokens_content']])\n",
    "    scaled_features = std_scaler.transform(working_df_dev[['n_tokens_title', 'n_tokens_content']])\n",
    "    working_df_dev[['n_tokens_title', 'n_tokens_content']] = scaled_features\n",
    "    dev_stats['scaler_details'] = std_scaler\n",
    "\n",
    "    working_df_dev['num_imgs'].fillna(working_df_dev['num_imgs'].mean(), inplace=True)\n",
    "    working_df_dev['num_imgs'] = np.log(1 + working_df_dev['num_imgs'])\n",
    "    dev_stats['num_imgs_mean'] = working_df_dev['num_imgs'].mean()\n",
    "\n",
    "    working_df_dev['num_self_hrefs'].fillna(working_df_dev['num_self_hrefs'].mean(), inplace=True)\n",
    "    working_df_dev['num_self_hrefs'] = np.log(1 + working_df_dev['num_self_hrefs'])\n",
    "    dev_stats['num_self_hrefs_mean'] = working_df_dev['num_self_hrefs'].mean()\n",
    "\n",
    "    working_df_dev['num_videos'].fillna(working_df_dev['num_videos'].mean(), inplace=True)\n",
    "    working_df_dev['num_videos'] = np.log(1 + working_df_dev['num_videos'])\n",
    "    dev_stats['num_videos_mean'] = working_df_dev['num_videos'].mean()\n",
    "\n",
    "    is_weekend = []\n",
    "    for _, row in working_df_dev.iterrows():\n",
    "        if row['weekday_sunday'] == 1 or row['weekday_saturday'] == 1:\n",
    "            is_weekend.append(1)\n",
    "        else:\n",
    "            is_weekend.append(0)\n",
    "    working_df_dev['is_weekend'] = is_weekend\n",
    "    working_df_dev.drop(columns=[x for x in additional_columns if x.startswith('weekday')], inplace=True)\n",
    "\n",
    "    std_scaler = StandardScaler().fit(working_df_dev[['timedelta']])\n",
    "    scaled_features = std_scaler.transform(working_df_dev[['timedelta']])\n",
    "    working_df_dev[['timedelta']] = scaled_features\n",
    "    dev_stats['time_scaler'] = std_scaler\n",
    "    # features_for_scale = working_df_dev.drop(columns=['shares'])\n",
    "    # std_scaler = StandardScaler().fit(features_for_scale)\n",
    "    # scaled_features = std_scaler.transform(features_for_scale)\n",
    "    # dev_stats['scaler'] = std_scaler\n",
    "    \n",
    "    # features_for_scale[:] = scaled_features[:]\n",
    "    # features_for_scale['shares'] = working_df_dev['shares']\n",
    "\n",
    "    return working_df_dev, dev_stats"
   ]
  },
  {
   "attachments": {},
   "cell_type": "markdown",
   "metadata": {},
   "source": [
    "### Evaluation dataset preprocessing"
   ]
  },
  {
   "cell_type": "code",
   "execution_count": 5,
   "metadata": {},
   "outputs": [],
   "source": [
    "def final_preprocessing_eval(df, dev_stats):\n",
    "    working_df_dev = df.copy()\n",
    "\n",
    "    for index, row in working_df_dev.iterrows():\n",
    "        if 'data_channel' in row and not row['num_keywords'] >= 0:\n",
    "            working_df_dev.at[index, 'num_keywords'] = dev_stats['num_keywords_mean'][row['data_channel']]\n",
    "            \n",
    "    enc = OneHotEncoder()\n",
    "    encoded_df = pd.concat([df['weekday'], df['data_channel']], axis=1)\n",
    "    enc.fit(encoded_df)\n",
    "    encoded_df = enc.transform(encoded_df)\n",
    "    additional_columns = enc.get_feature_names_out()\n",
    "    working_df_dev[additional_columns] = encoded_df.toarray()\n",
    "    working_df_dev.drop(['weekday', 'data_channel', 'url', 'id'], axis = 1, inplace=True)\n",
    "\n",
    "\n",
    "\n",
    "    working_df_dev['n_tokens_content'] = np.log(1 + working_df_dev['n_tokens_content'])\n",
    "\n",
    "    std_scaler = dev_stats['kw_scaler']\n",
    "    scaled_features = std_scaler.transform(working_df_dev[['kw_avg_max', 'kw_avg_avg', 'kw_avg_min', 'kw_min_avg','kw_max_avg', 'kw_max_min', 'kw_min_max']])\n",
    "    working_df_dev[['kw_avg_max', 'kw_avg_avg', 'kw_avg_min', 'kw_min_avg','kw_max_avg', 'kw_max_min', 'kw_min_max']] = scaled_features\n",
    "\n",
    "    std_scaler = dev_stats['ref_scaler']\n",
    "    scaled_features = std_scaler.transform(working_df_dev[['self_reference_min_shares', 'self_reference_max_shares', 'self_reference_avg_sharess']])\n",
    "    working_df_dev[['self_reference_min_shares', 'self_reference_max_shares', 'self_reference_avg_sharess']] = scaled_features\n",
    "\n",
    "    std_scaler = dev_stats['scaler_details']\n",
    "    scaled_features = std_scaler.transform(working_df_dev[['n_tokens_title', 'n_tokens_content']])\n",
    "    working_df_dev[['n_tokens_title', 'n_tokens_content']] = scaled_features\n",
    "\n",
    "    working_df_dev['num_imgs'].fillna(dev_stats['num_imgs_mean'], inplace=True)\n",
    "    working_df_dev['num_imgs'] = np.log(1 + working_df_dev['num_imgs'])\n",
    "\n",
    "    working_df_dev['num_self_hrefs'].fillna(dev_stats['num_self_hrefs_mean'], inplace=True)\n",
    "    working_df_dev['num_self_hrefs'] = np.log(1 + working_df_dev['num_self_hrefs'])\n",
    "\n",
    "    working_df_dev['num_videos'].fillna(dev_stats['num_videos_mean'], inplace=True)\n",
    "    working_df_dev['num_videos'] = np.log(1 + working_df_dev['num_videos'])\n",
    "\n",
    "    is_weekend = []\n",
    "    for _, row in working_df_dev.iterrows():\n",
    "        if row['weekday_sunday'] == 1 or row['weekday_saturday'] == 1:\n",
    "            is_weekend.append(1)\n",
    "        else:\n",
    "            is_weekend.append(0)\n",
    "    working_df_dev['is_weekend'] = is_weekend\n",
    "    working_df_dev.drop(columns=[x for x in additional_columns if x.startswith('weekday')], inplace=True)\n",
    "\n",
    "    std_scaler = dev_stats['time_scaler']\n",
    "    scaled_features = std_scaler.transform(working_df_dev[['timedelta']])\n",
    "    working_df_dev[['timedelta']] = scaled_features\n",
    "\n",
    "\n",
    "    return working_df_dev"
   ]
  },
  {
   "cell_type": "code",
   "execution_count": 6,
   "metadata": {},
   "outputs": [
    {
     "name": "stderr",
     "output_type": "stream",
     "text": [
      "/var/tmp/ipykernel_181230/2244778833.py:13: FutureWarning: Not prepending group keys to the result index of transform-like apply. In the future, the group keys will be included in the index, regardless of whether the applied function returns a like-indexed object.\n",
      "To preserve the previous behavior, use\n",
      "\n",
      "\t>>> .groupby(..., group_keys=False)\n",
      "\n",
      "To adopt the future behavior and silence this warning, use \n",
      "\n",
      "\t>>> .groupby(..., group_keys=True)\n",
      "  working_df_dev['num_keywords'] = df.groupby(['data_channel'], sort=False)['num_keywords'].apply(lambda x: x.fillna(x.mean())).reset_index()['num_keywords']\n"
     ]
    },
    {
     "name": "stdout",
     "output_type": "stream",
     "text": [
      "<class 'pandas.core.frame.DataFrame'>\n"
     ]
    }
   ],
   "source": [
    "working_df_dev, dev_stats = final_preprocessing_dev(df_dev)\n",
    "print(type(working_df_dev))\n",
    "working_df_eval = final_preprocessing_eval(df_eval, dev_stats)"
   ]
  },
  {
   "attachments": {},
   "cell_type": "markdown",
   "metadata": {},
   "source": [
    "### Feature selection based on the mean correlation per features"
   ]
  },
  {
   "cell_type": "code",
   "execution_count": 7,
   "metadata": {},
   "outputs": [],
   "source": [
    "def calcDrop(res):\n",
    "    # All variables with correlation > cutoff\n",
    "    all_corr_vars = list(set(res['v1'].tolist() + res['v2'].tolist()))\n",
    "\n",
    "    # All unique variables in drop column\n",
    "    poss_drop = list(set(res['drop'].tolist()))\n",
    "\n",
    "    # Keep any variable not in drop column\n",
    "    keep = list(set(all_corr_vars).difference(set(poss_drop)))\n",
    "\n",
    "    # Drop any variables in same row as a keep variable\n",
    "    p = res[ res['v1'].isin(keep)  | res['v2'].isin(keep) ][['v1', 'v2']]\n",
    "    q = list(set(p['v1'].tolist() + p['v2'].tolist()))\n",
    "    drop = (list(set(q).difference(set(keep))))\n",
    "\n",
    "    # Remove drop variables from possible drop\n",
    "    poss_drop = list(set(poss_drop).difference(set(drop)))\n",
    "\n",
    "    # subset res dataframe to include possible drop pairs\n",
    "    m = res[ res['v1'].isin(poss_drop)  | res['v2'].isin(poss_drop) ][['v1', 'v2','drop']]\n",
    "\n",
    "    # remove rows that are decided (drop), take set and add to drops\n",
    "    more_drop = set(list(m[~m['v1'].isin(drop) & ~m['v2'].isin(drop)]['drop']))\n",
    "    for item in more_drop:\n",
    "        drop.append(item)\n",
    "\n",
    "    return drop\n",
    "\n",
    "def corrX_new(df, cut = 0.9):\n",
    "    # Get correlation matrix and upper triagle\n",
    "    corr_mtx = df.corr().abs()\n",
    "    avg_corr = corr_mtx.mean(axis = 1)\n",
    "    up = corr_mtx.where(np.triu(np.ones(corr_mtx.shape), k=1).astype(np.bool_))\n",
    "    dropcols = list()\n",
    "\n",
    "    res = pd.DataFrame(columns=(['v1', 'v2', 'v1.target',\n",
    "                                 'v2.target','corr', 'drop' ]))\n",
    "    for row in range(len(up)-1):\n",
    "        col_idx = row + 1\n",
    "        for col in range (col_idx, len(up)):\n",
    "            if corr_mtx.iloc[row, col] > cut:\n",
    "                if avg_corr.iloc[row] > avg_corr.iloc[col]:\n",
    "                    dropcols.append(row)\n",
    "                    drop = corr_mtx.columns[row]\n",
    "                else:\n",
    "                    dropcols.append(col)\n",
    "                    drop = corr_mtx.columns[col]\n",
    "\n",
    "                s = pd.Series([ corr_mtx.index[row],\n",
    "                                up.columns[col],\n",
    "                                avg_corr[row],\n",
    "                                avg_corr[col],\n",
    "                                up.iloc[row,col],\n",
    "                                drop],\n",
    "                              index = res.columns)\n",
    "\n",
    "                res.loc[len(res)] = s.to_numpy()\n",
    "\n",
    "    dropcols_names = calcDrop(res)\n",
    "\n",
    "    return dropcols_names"
   ]
  },
  {
   "cell_type": "code",
   "execution_count": 8,
   "metadata": {},
   "outputs": [],
   "source": [
    "drop_new = corrX_new(working_df_dev, cut = 0.7)\n",
    "working_df_dev.drop(drop_new, axis=1, inplace=True)\n",
    "working_df_eval.drop(drop_new, axis=1, inplace=True)"
   ]
  },
  {
   "cell_type": "code",
   "execution_count": 9,
   "metadata": {},
   "outputs": [],
   "source": [
    "X = working_df_dev.drop(columns=[\"shares\"])\n",
    "y = working_df_dev[\"shares\"]"
   ]
  },
  {
   "cell_type": "code",
   "execution_count": 10,
   "metadata": {},
   "outputs": [],
   "source": [
    "trans = RFECV(estimator=XGBRegressor(), step=1, cv=4 ,n_jobs=-1, scoring='r2')\n",
    "trans.fit(X, y)\n",
    "X_trans = trans.transform(X)\n",
    "eval_trans = trans.transform(working_df_eval)"
   ]
  },
  {
   "attachments": {},
   "cell_type": "markdown",
   "metadata": {},
   "source": [
    "## Train and test the model"
   ]
  },
  {
   "cell_type": "code",
   "execution_count": 14,
   "metadata": {},
   "outputs": [],
   "source": [
    "models = [RandomForestRegressor(**{'bootstrap': False, 'max_depth': 40, 'max_features': 'sqrt', 'min_samples_leaf': 4, 'min_samples_split': 3, 'n_estimators': 1000}), \n",
    "          XGBRegressor(**{'eta': 0.025,  'eval_metric': 'rmse',  'max_depth': 8,  'min_child_weight': 25,  'n_estimators': 300}), \n",
    "          SVR(**{'C': 1, 'epsilon': 0.5, 'gamma': 'auto', 'kernel': 'rbf', 'shrinking': False, 'tol': 0.001}), \n",
    "          GradientBoostingRegressor(**{'learning_rate': 0.05, 'loss': 'squared_error', 'max_depth': 4, 'min_samples_split': 2, 'n_estimators': 200, 'random_state': 42})]"
   ]
  },
  {
   "cell_type": "code",
   "execution_count": 23,
   "metadata": {},
   "outputs": [
    {
     "name": "stdout",
     "output_type": "stream",
     "text": [
      "0.08217112830078194\n",
      "RandomForestRegressor\n",
      "0.8492081391474723\n",
      "0.15966031669940373\n",
      "0.20930700038961622\n",
      "GradientBoostingRegressor\n",
      "0.8510423589700131\n",
      "0.15602626693596133\n"
     ]
    }
   ],
   "source": [
    "X_train, X_valid, y_train, y_valid = train_test_split(X, y, shuffle=True)\n",
    "# new_list = list(working_df_eval.columns)\n",
    "# print(len(new_list))\n",
    "# new_list.pop(np.argmax(trans.ranking_))\n",
    "# print(len(new_list))\n",
    "for model in models: \n",
    "    model.fit(X_train, y_train)\n",
    "    # print(model)\n",
    "    noticeable_idx = np.argmax(model.feature_importances_)\n",
    "    print(np.max(model.feature_importances_))\n",
    "    # print(np.max(model.feature_importances_))\n",
    "    # print(new_list[noticeable_idx])\n",
    "    rms = mean_squared_error(y_valid, model.predict(X_valid), squared=False)\n",
    "    print(str(model).split('(')[0])\n",
    "    print(rms)\n",
    "    r2 = r2_score(y_valid, model.predict(X_valid))\n",
    "    adj_r2 = 1-(1-r2)*(len(X_valid) - 1)/(len(X_valid) -X_valid.shape[1] - 1)\n",
    "    print(adj_r2)\n",
    "    model.fit(X_trans, y)  \n",
    "    # Make final predictions\n",
    "    y_pred = model.predict(eval_trans)\n",
    "    final_preds = np.exp(y_pred)\n",
    "    # Write CSV\n",
    "    id_col = df_eval['id']\n",
    "    new_df = pd.DataFrame(columns=['Id', 'Predicted'])\n",
    "    new_df['Id'] = id_col\n",
    "    new_df['Predicted'] = final_preds\n",
    "    # print(new_df.describe())\n",
    "    new_df.to_csv(f\"output_gen/{str(model).split('(')[0]}_with_rfecv.csv\", columns=['Id','Predicted'], index=False)"
   ]
  },
  {
   "attachments": {},
   "cell_type": "markdown",
   "metadata": {},
   "source": [
    "## Retain the model to generate the csv for the submission"
   ]
  },
  {
   "cell_type": "code",
   "execution_count": 87,
   "metadata": {},
   "outputs": [
    {
     "data": {
      "text/html": [
       "<style>#sk-container-id-6 {color: black;background-color: white;}#sk-container-id-6 pre{padding: 0;}#sk-container-id-6 div.sk-toggleable {background-color: white;}#sk-container-id-6 label.sk-toggleable__label {cursor: pointer;display: block;width: 100%;margin-bottom: 0;padding: 0.3em;box-sizing: border-box;text-align: center;}#sk-container-id-6 label.sk-toggleable__label-arrow:before {content: \"▸\";float: left;margin-right: 0.25em;color: #696969;}#sk-container-id-6 label.sk-toggleable__label-arrow:hover:before {color: black;}#sk-container-id-6 div.sk-estimator:hover label.sk-toggleable__label-arrow:before {color: black;}#sk-container-id-6 div.sk-toggleable__content {max-height: 0;max-width: 0;overflow: hidden;text-align: left;background-color: #f0f8ff;}#sk-container-id-6 div.sk-toggleable__content pre {margin: 0.2em;color: black;border-radius: 0.25em;background-color: #f0f8ff;}#sk-container-id-6 input.sk-toggleable__control:checked~div.sk-toggleable__content {max-height: 200px;max-width: 100%;overflow: auto;}#sk-container-id-6 input.sk-toggleable__control:checked~label.sk-toggleable__label-arrow:before {content: \"▾\";}#sk-container-id-6 div.sk-estimator input.sk-toggleable__control:checked~label.sk-toggleable__label {background-color: #d4ebff;}#sk-container-id-6 div.sk-label input.sk-toggleable__control:checked~label.sk-toggleable__label {background-color: #d4ebff;}#sk-container-id-6 input.sk-hidden--visually {border: 0;clip: rect(1px 1px 1px 1px);clip: rect(1px, 1px, 1px, 1px);height: 1px;margin: -1px;overflow: hidden;padding: 0;position: absolute;width: 1px;}#sk-container-id-6 div.sk-estimator {font-family: monospace;background-color: #f0f8ff;border: 1px dotted black;border-radius: 0.25em;box-sizing: border-box;margin-bottom: 0.5em;}#sk-container-id-6 div.sk-estimator:hover {background-color: #d4ebff;}#sk-container-id-6 div.sk-parallel-item::after {content: \"\";width: 100%;border-bottom: 1px solid gray;flex-grow: 1;}#sk-container-id-6 div.sk-label:hover label.sk-toggleable__label {background-color: #d4ebff;}#sk-container-id-6 div.sk-serial::before {content: \"\";position: absolute;border-left: 1px solid gray;box-sizing: border-box;top: 0;bottom: 0;left: 50%;z-index: 0;}#sk-container-id-6 div.sk-serial {display: flex;flex-direction: column;align-items: center;background-color: white;padding-right: 0.2em;padding-left: 0.2em;position: relative;}#sk-container-id-6 div.sk-item {position: relative;z-index: 1;}#sk-container-id-6 div.sk-parallel {display: flex;align-items: stretch;justify-content: center;background-color: white;position: relative;}#sk-container-id-6 div.sk-item::before, #sk-container-id-6 div.sk-parallel-item::before {content: \"\";position: absolute;border-left: 1px solid gray;box-sizing: border-box;top: 0;bottom: 0;left: 50%;z-index: -1;}#sk-container-id-6 div.sk-parallel-item {display: flex;flex-direction: column;z-index: 1;position: relative;background-color: white;}#sk-container-id-6 div.sk-parallel-item:first-child::after {align-self: flex-end;width: 50%;}#sk-container-id-6 div.sk-parallel-item:last-child::after {align-self: flex-start;width: 50%;}#sk-container-id-6 div.sk-parallel-item:only-child::after {width: 0;}#sk-container-id-6 div.sk-dashed-wrapped {border: 1px dashed gray;margin: 0 0.4em 0.5em 0.4em;box-sizing: border-box;padding-bottom: 0.4em;background-color: white;}#sk-container-id-6 div.sk-label label {font-family: monospace;font-weight: bold;display: inline-block;line-height: 1.2em;}#sk-container-id-6 div.sk-label-container {text-align: center;}#sk-container-id-6 div.sk-container {/* jupyter's `normalize.less` sets `[hidden] { display: none; }` but bootstrap.min.css set `[hidden] { display: none !important; }` so we also need the `!important` here to be able to override the default hidden behavior on the sphinx rendered scikit-learn.org. See: https://github.com/scikit-learn/scikit-learn/issues/21755 */display: inline-block !important;position: relative;}#sk-container-id-6 div.sk-text-repr-fallback {display: none;}</style><div id=\"sk-container-id-6\" class=\"sk-top-container\"><div class=\"sk-text-repr-fallback\"><pre>GradientBoostingRegressor(learning_rate=0.05, max_depth=4, n_estimators=200)</pre><b>In a Jupyter environment, please rerun this cell to show the HTML representation or trust the notebook. <br />On GitHub, the HTML representation is unable to render, please try loading this page with nbviewer.org.</b></div><div class=\"sk-container\" hidden><div class=\"sk-item\"><div class=\"sk-estimator sk-toggleable\"><input class=\"sk-toggleable__control sk-hidden--visually\" id=\"sk-estimator-id-6\" type=\"checkbox\" checked><label for=\"sk-estimator-id-6\" class=\"sk-toggleable__label sk-toggleable__label-arrow\">GradientBoostingRegressor</label><div class=\"sk-toggleable__content\"><pre>GradientBoostingRegressor(learning_rate=0.05, max_depth=4, n_estimators=200)</pre></div></div></div></div></div>"
      ],
      "text/plain": [
       "GradientBoostingRegressor(learning_rate=0.05, max_depth=4, n_estimators=200)"
      ]
     },
     "execution_count": 87,
     "metadata": {},
     "output_type": "execute_result"
    }
   ],
   "source": []
  },
  {
   "cell_type": "code",
   "execution_count": 88,
   "metadata": {},
   "outputs": [
    {
     "name": "stdout",
     "output_type": "stream",
     "text": [
      "                 Id     Predicted\n",
      "count   7917.000000   7917.000000\n",
      "mean   35679.634584   1894.185724\n",
      "std     2289.051312    754.460800\n",
      "min    31715.000000    566.446645\n",
      "25%    33699.000000   1361.297087\n",
      "50%    35680.000000   1751.418130\n",
      "75%    37661.000000   2257.189862\n",
      "max    39643.000000  16474.859163\n"
     ]
    }
   ],
   "source": []
  },
  {
   "cell_type": "code",
   "execution_count": null,
   "metadata": {},
   "outputs": [],
   "source": []
  }
 ],
 "metadata": {
  "kernelspec": {
   "display_name": "Python 3",
   "language": "python",
   "name": "python3"
  },
  "language_info": {
   "codemirror_mode": {
    "name": "ipython",
    "version": 3
   },
   "file_extension": ".py",
   "mimetype": "text/x-python",
   "name": "python",
   "nbconvert_exporter": "python",
   "pygments_lexer": "ipython3",
   "version": "3.8.0"
  }
 },
 "nbformat": 4,
 "nbformat_minor": 0
}
